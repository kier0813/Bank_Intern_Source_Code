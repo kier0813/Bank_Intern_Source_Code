{
 "cells": [
  {
   "cell_type": "code",
   "execution_count": 1,
   "metadata": {},
   "outputs": [],
   "source": [
    "import pandas as pd\n",
    "import numpy as np\n",
    "import matplotlib.pyplot as plt\n",
    "import seaborn as sns\n",
    "from kmodes.kmodes import KModes"
   ]
  },
  {
   "cell_type": "code",
   "execution_count": null,
   "metadata": {},
   "outputs": [],
   "source": []
  },
  {
   "cell_type": "code",
   "execution_count": null,
   "metadata": {},
   "outputs": [],
   "source": [
    "# Reading CSV Files\n",
    "# Column Names are changed manually\n",
    "df_act_3060 = pd.read_csv('../data/DATA0113/DATA/AGE3060/DLAB_HT_L1_ACT_IFO_TMP_3060.csv')\n",
    "df_trd_3060 = pd.read_csv('../data/DATA0113/DATA/AGE3060/DLAB_INTERN_TR_IFO_TMP3_3060.csv')\n",
    "df_cus_3060 = pd.read_csv('../data/DATA0113/DATA/AGE3060/DLAB_HT_L1_CUS_IFO_TMP_3060.csv')\n",
    "\n",
    "df_act_1030 = pd.read_csv('../data/DATA0113/DATA/AGE1030/DLAB_HT_L1_ACT_IFO_TMP_1030.csv')\n",
    "df_trd_1030 = pd.read_csv('../data/DATA0113/DATA/AGE1030/DLAB_INTERN_TR_IFO_TMP_1030.csv')\n",
    "df_cus_1030 = pd.read_csv('../data/DATA0113/DATA/AGE1030/DLAB_HT_L1_CUS_IFO_TMP_1030.csv')\n",
    "df_trd_2_1030 = pd.read_csv('../data/DATA0113/DATA/AGE1030/DLAB_INTERN_TR_IFO_TMP2_1030.csv')"
   ]
  },
  {
   "cell_type": "code",
   "execution_count": null,
   "metadata": {},
   "outputs": [],
   "source": [
    "df_act_3060.shape # (2253 ,4)\n",
    "df_trd_3060.shape # (2089791, 10)\n",
    "df_cus_3060.shape # (1000,7)\n",
    "df_act_1030.shape # (844, 4)\n",
    "df_trd_1030.shape # (286681,10)\n",
    "df_cus_1030.shape # (500, 7)\n",
    "df_trd_2_1030.shape # (404369,10)\n"
   ]
  },
  {
   "cell_type": "code",
   "execution_count": 3,
   "metadata": {},
   "outputs": [],
   "source": [
    "# Changing the index of the csv files\n",
    "df_trd_3060 = df_trd_3060.drop(columns = ['Unnamed: 0'])\n",
    "df_act_3060 = df_act_3060.drop(columns = ['Unnamed: 0'])\n",
    "df_cus_3060 = df_cus_3060.drop(columns = ['Unnamed: 0'])\n",
    "\n",
    "df_trd_1030 = df_trd_1030.drop(columns = ['Unnamed: 0'])\n",
    "df_act_1030 = df_act_1030.drop(columns = ['Unnamed: 0'])\n",
    "df_cus_1030 = df_cus_1030.drop(columns = ['Unnamed: 0'])\n",
    "df_trd_2_1030 = df_trd_2_1030.drop(columns = ['Unnamed: 0'])"
   ]
  },
  {
   "cell_type": "code",
   "execution_count": 4,
   "metadata": {},
   "outputs": [],
   "source": [
    "# Finding data that is after 2021 07 01\n",
    "df_trd_2_1030 = df_trd_2_1030[df_trd_2_1030['iqr_dt'] > 20210701]\n",
    "df_trd_1030 = pd.concat([df_trd_1030, df_trd_2_1030])"
   ]
  },
  {
   "cell_type": "code",
   "execution_count": 5,
   "metadata": {},
   "outputs": [],
   "source": [
    "# Making and cleaning data set to cluster for 3060\n",
    "# Column Names are changed\n",
    "\n",
    "df_bal = df_trd_3060.copy()[['iqr_dt', 'cus_no', 'tot_aet_amt']].groupby(['iqr_dt', 'cus_no']).sum()\n",
    "df_bal = df_bal.reset_index()\n",
    "\n",
    "df_bal_kor = df_trd_3060[df_trd_3060['mkt_gb'] == '국내'].copy()[['iqr_dt', 'cus_no', 'tot_aet_amt']].groupby(['iqr_dt', 'cus_no']).sum()\n",
    "df_bal_kor = df_bal_kor.reset_index()\n",
    "\n",
    "df_bal_ovs = df_trd_3060[df_trd_3060['mkt_gb'] == '해외'].copy()[['iqr_dt', 'cus_no', 'tot_aet_amt']].groupby(['iqr_dt', 'cus_no']).sum()\n",
    "df_bal_ovs = df_bal_ovs.reset_index()\n",
    "\n",
    "df_bal_tot = pd.merge(left=df_bal, \n",
    "                      right=df_bal_kor[['iqr_dt','cus_no', 'tot_aet_amt']], \n",
    "                      on=['cus_no', 'iqr_dt'], \n",
    "                      suffixes=('', '_kr'), \n",
    "                      how='left')\n",
    "df_bal_tot = pd.merge(left=df_bal_tot, \n",
    "                      right=df_bal_ovs[['iqr_dt','cus_no', 'tot_aet_amt']], \n",
    "                      on=['cus_no', 'iqr_dt'], \n",
    "                      suffixes=('', '_ov'), \n",
    "                      how='left')\n",
    "\n",
    "df_bal_tot[['tot_aet_amt_kr', 'tot_aet_amt_ov']] = df_bal_tot[['tot_aet_amt_kr', 'tot_aet_amt_ov']].fillna(0)\n",
    "\n",
    "bank_cus_3060 = pd.merge(left=df_cus_3060, right = df_bal_tot, on='cus_no', suffixes=('',''))\n",
    "bank_cus_3060['ovs_ratio'] = bank_cus_3060['tot_aet_amt_ov']/bank_cus_3060['tot_aet_amt']"
   ]
  },
  {
   "cell_type": "code",
   "execution_count": 6,
   "metadata": {},
   "outputs": [],
   "source": [
    "# Making and cleaning data set to cluster for 1030\n",
    "# Column Names are changed\n",
    "\n",
    "df_bals = df_trd_1030.copy()[['iqr_dt', 'cus_no', 'tot_aet_amt']].groupby(['iqr_dt', 'cus_no']).sum()\n",
    "df_bals = df_bals.reset_index()\n",
    "\n",
    "df_bal_kors = df_trd_1030[df_trd_1030['mkt_gb'] == '국내'].copy()[['iqr_dt', 'cus_no', 'tot_aet_amt']].groupby(['iqr_dt', 'cus_no']).sum()\n",
    "df_bal_kors = df_bal_kors.reset_index()\n",
    "\n",
    "df_bal_ov = df_trd_1030[df_trd_1030['mkt_gb'] == '해외'].copy()[['iqr_dt', 'cus_no', 'tot_aet_amt']].groupby(['iqr_dt', 'cus_no']).sum()\n",
    "df_bal_ov = df_bal_ov.reset_index()\n",
    "\n",
    "df_bal_tots = pd.merge(left=df_bals, \n",
    "                      right=df_bal_kors[['iqr_dt','cus_no', 'tot_aet_amt']], \n",
    "                      on=['cus_no', 'iqr_dt'], \n",
    "                      suffixes=('', '_kr'), \n",
    "                      how='left')\n",
    "df_bal_tots = pd.merge(left=df_bal_tots, \n",
    "                      right=df_bal_ov[['iqr_dt','cus_no', 'tot_aet_amt']], \n",
    "                      on=['cus_no', 'iqr_dt'], \n",
    "                      suffixes=('', '_ov'), \n",
    "                      how='left')\n",
    "\n",
    "df_bal_tots[['tot_aet_amt_kr', 'tot_aet_amt_ov']] = df_bal_tots[['tot_aet_amt_kr', 'tot_aet_amt_ov']].fillna(0)\n",
    "\n",
    "bank_cus_1030 = pd.merge(left=df_cus_1030, right = df_bal_tots, on='cus_no', suffixes=('',''))\n",
    "bank_cus_1030['ovs_ratio'] = bank_cus_1030['tot_aet_amt_ov']/bank_cus_1030['tot_aet_amt']"
   ]
  },
  {
   "cell_type": "code",
   "execution_count": 7,
   "metadata": {},
   "outputs": [],
   "source": [
    "# Getting the 3060 data for 20210701\n",
    "bank_cus_3060 = bank_cus_3060[bank_cus_3060['iqr_dt'] == 20211231]\n",
    "bank_cus_3060.head() \n",
    "\n",
    "# Getting the 1030 data for 20210701\n",
    "bank_cus_1030 = bank_cus_1030[bank_cus_1030['iqr_dt'] == 20211231]\n",
    "bank_cus_1030.head()\n",
    "\n",
    "# Combining 1030 and 3060 data for 20210701\n",
    "bank_cus_combined = pd.concat([bank_cus_1030, bank_cus_3060])"
   ]
  },
  {
   "cell_type": "code",
   "execution_count": null,
   "metadata": {},
   "outputs": [],
   "source": [
    "# Column Names are changed manually\n",
    "# Company Names are changed\n",
    "df = df_trd_1030[df_trd_1030['iem_krl_anm'] == '기업이름']\n",
    "기업이름 = (df.groupby('iqr_dt').sum()['tot_aet_amt'] / df.groupby('iqr_dt').count()['tot_aet_amt']).reset_index()\n",
    "bla = 기업이름[기업이름['iqr_dt'] > 20210301][:80]\n",
    "plt.plot(bla['iqr_dt'], bla['tot_aet_amt'])\n"
   ]
  },
  {
   "cell_type": "code",
   "execution_count": null,
   "metadata": {},
   "outputs": [],
   "source": [
    "r = np.array([0,29, 40, 54, 70])\n",
    "bank_cus_ovs = bank_cus_combined.groupby(pd.cut(bank_cus_combined['cus_age'], r)).mean()\n",
    "bank_cus_ovs\n"
   ]
  },
  {
   "cell_type": "code",
   "execution_count": null,
   "metadata": {},
   "outputs": [],
   "source": [
    "# Shrinking combined data to cluster 초기화면\n",
    "bank_cus_cluster = bank_cus_combined.drop(columns=['iqr_dt','tot_aet_amt','tot_aet_amt_kr','tot_aet_amt_ov', 'ovs_ratio','tco_cus_grd_cd'])\n",
    "bank_cus_cluster.head()"
   ]
  },
  {
   "cell_type": "code",
   "execution_count": null,
   "metadata": {},
   "outputs": [],
   "source": [
    "# Choosing K using elbow method\n",
    "cost = []\n",
    "for clusters in list(range(1,10)):\n",
    "    modes = KModes(n_clusters=clusters, init = \"Random\", n_init=5, verbose=1)\n",
    "    modes.fit_predict(bank_cus_cluster)\n",
    "    cost.append(modes.cost_)"
   ]
  },
  {
   "cell_type": "code",
   "execution_count": null,
   "metadata": {},
   "outputs": [],
   "source": [
    "#Graphing the elbow\n",
    "graph = np.array([i for i in range (1,10,1)])\n",
    "plt.plot(graph, cost)\n",
    "\n",
    "# 6 seems to be the optimal K value"
   ]
  },
  {
   "cell_type": "code",
   "execution_count": null,
   "metadata": {},
   "outputs": [],
   "source": [
    "# KModes clustering ran 10 times with K=6\n",
    "km = KModes(n_clusters=6, init=\"Random\", n_init=10, verbose=1)\n",
    "fit_clusters = km.fit_predict(bank_cus_cluster)\n"
   ]
  },
  {
   "cell_type": "code",
   "execution_count": null,
   "metadata": {},
   "outputs": [],
   "source": [
    "# Input the predicted group into original data\n",
    "bank_cus_cluster['cluster'] = fit_clusters\n",
    "\n",
    "# Cleaning out the data and finding the mean of the clusters\n",
    "bank_cus_cluster['zip_ctp_cd'] = bank_cus_cluster['zip_ctp_cd'].fillna(0)\n",
    "bank_cus_cluster['zip_ctp_cd'] = bank_cus_cluster['zip_ctp_cd'].replace('-',0).astype(int)\n",
    "bank_cus_cluster['ivs_icn_cd'] = bank_cus_cluster['ivs_icn_cd'].fillna(0)\n",
    "bank_cus_cluster['ivs_icn_cd'] = bank_cus_cluster['ivs_icn_cd'].replace('-',0).astype(int)\n",
    "\n",
    "df_mean = bank_cus_cluster.groupby('cluster').mean()\n",
    "df_mean\n",
    "\n",
    "\n",
    "bank_cus_cluster[['cluster','zip_ctp_cd']].groupby('zip_ctp_cd').count()\n"
   ]
  },
  {
   "cell_type": "code",
   "execution_count": 28,
   "metadata": {},
   "outputs": [],
   "source": [
    "bank_cus_cluster.to_csv('./bank_cus_cluster.csv')"
   ]
  },
  {
   "cell_type": "code",
   "execution_count": null,
   "metadata": {},
   "outputs": [],
   "source": [
    "bank_cus_cluster['zip_ctp_cd'] = bank_cus_cluster['zip_ctp_cd'].replace('경기', ' ').replace('서울', '   ')\n",
    "\n",
    "bank_cus_cluster    "
   ]
  },
  {
   "cell_type": "code",
   "execution_count": null,
   "metadata": {},
   "outputs": [],
   "source": [
    "# ZIP code and graph\n",
    "plt.subplots(figsize= (40,10))\n",
    "sns.countplot(x=bank_cus_cluster['zip_ctp_cd'], order=bank_cus_cluster['zip_ctp_cd'].value_counts().index, hue=bank_cus_cluster['cluster'])\n",
    "plt.show()\n",
    "\n",
    "plt.subplots(figsize= (40,10))\n",
    "sns.countplot(x=bank_cus_cluster['ivs_icn_cd'], order=bank_cus_cluster['ivs_icn_cd'].value_counts().index, hue=bank_cus_cluster['cluster'])\n",
    "plt.show()"
   ]
  },
  {
   "cell_type": "code",
   "execution_count": 16,
   "metadata": {},
   "outputs": [],
   "source": [
    "#Combined trade\n",
    "df_trd_combined = pd.concat([df_trd_1030, df_trd_3060])"
   ]
  },
  {
   "cell_type": "code",
   "execution_count": null,
   "metadata": {},
   "outputs": [],
   "source": [
    "# Function to print top 5 관심종목\n",
    "def top_5(n):\n",
    "    df = bank_cus_cluster[bank_cus_cluster['cluster'] == n].reset_index()\n",
    "    table_0 = df_trd_combined[(df_trd_combined['iqr_dt'] == 20211231) & (df_trd_combined['cus_no'].isin(df['cus_no']))].groupby('iem_krl_anm').count().sort_values(by='iqr_dt', ascending=False).head()/bank_cus_cluster.groupby('cluster').count()['cus_no'][i]\n",
    "    table_0 = table_0.drop(columns =['iqr_dt', 'cus_no', 'act_no','mkt_gb','pdt_gb','iem_cd','tot_aet_amt'])\n",
    "    table_0[n] = table_0['bnc_qty']\n",
    "    table_0 = table_0.drop(columns=['bnc_qty'])\n",
    "    return display(table_0)\n",
    "    \n",
    "# Printing top 5 for each group\n",
    "for i in range(6):\n",
    "    top_5(i)"
   ]
  },
  {
   "cell_type": "code",
   "execution_count": null,
   "metadata": {},
   "outputs": [],
   "source": [
    "bank_cluster_DB = bank_cus_cluster[['cus_no', 'cluster']]\n",
    "bank_cluster_DB"
   ]
  },
  {
   "cell_type": "code",
   "execution_count": 19,
   "metadata": {},
   "outputs": [],
   "source": [
    "# Trying to cluster with all the given data\n",
    "bank_cus_cluster_all = bank_cus_combined.drop(columns=['tco_cus_grd_cd', 'iqr_dt'])\n",
    "bank_cus_cluster_all.head()\n",
    "\n",
    "# Cleaning out the data \n",
    "bank_cus_cluster_all['zip_ctp_cd'] = bank_cus_cluster['zip_ctp_cd'].fillna(0)\n",
    "bank_cus_cluster_all['zip_ctp_cd'] = bank_cus_cluster['zip_ctp_cd'].replace('-',0).astype(int)\n",
    "bank_cus_cluster_all['ivs_icn_cd'] = bank_cus_cluster['ivs_icn_cd'].fillna(0)\n",
    "bank_cus_cluster_all['ivs_icn_cd'] = bank_cus_cluster['ivs_icn_cd'].replace('-',0).astype(int)                                                                              "
   ]
  },
  {
   "cell_type": "code",
   "execution_count": null,
   "metadata": {},
   "outputs": [],
   "source": [
    "# Choosing K using elbow method\n",
    "costs = []\n",
    "for clusters in list(range(1,10)):\n",
    "    modes = KModes(n_clusters=clusters, init = \"Random\", n_init=5, verbose=1)\n",
    "    modes.fit_predict(bank_cus_cluster_all)\n",
    "    costs.append(modes.cost_)"
   ]
  },
  {
   "cell_type": "code",
   "execution_count": null,
   "metadata": {},
   "outputs": [],
   "source": [
    "#Graphing the elbow\n",
    "graphs = np.array([i for i in range (1,10,1)])\n",
    "plt.plot(graphs, costs)\n",
    "\n",
    "# 5 seems to be the optimal K value"
   ]
  },
  {
   "cell_type": "code",
   "execution_count": null,
   "metadata": {},
   "outputs": [],
   "source": [
    "# KModes clustering ran 10 times with K=5\n",
    "km = KModes(n_clusters=5, init=\"Random\", n_init=10, verbose=1)\n",
    "fit_cluster = km.fit_predict(bank_cus_cluster)"
   ]
  },
  {
   "cell_type": "code",
   "execution_count": null,
   "metadata": {
    "scrolled": true
   },
   "outputs": [],
   "source": [
    "bank_cus_cluster_all.groupby('cluster').count()"
   ]
  },
  {
   "cell_type": "code",
   "execution_count": null,
   "metadata": {},
   "outputs": [],
   "source": [
    "# Input the predicted group into original data\n",
    "bank_cus_cluster_all['cluster'] = fit_clusters\n",
    "\n",
    "# Get mean\n",
    "df_means = bank_cus_cluster_all.groupby('cluster').mean()\n",
    "df_means"
   ]
  },
  {
   "cell_type": "code",
   "execution_count": null,
   "metadata": {},
   "outputs": [],
   "source": [
    "# Function to print top 5 관심종목\n",
    "def top_5_0(n):\n",
    "    df = bank_cus_cluster_all[bank_cus_cluster_all['cluster'] == n].reset_index()\n",
    "    table_0 = df_trd_combined[(df_trd_combined['iqr_dt'] == 20210701) & (df_trd_combined['cus_no'].isin(df['cus_no']))].groupby('iem_krl_anm').count().sort_values(by='iqr_dt', ascending=False).head()/bank_cus_cluster.groupby('cluster').count()['cus_no'][i]\n",
    "    table_0 = table_0.drop(columns =['iqr_dt', 'cus_no', 'act_no','mkt_gb','pdt_gb','iem_cd','tot_aet_amt'])\n",
    "    table_0[n] = table_0['bnc_qty']\n",
    "    table_0 = table_0.drop(columns=['bnc_qty'])\n",
    "    return display(table_0)\n",
    "    \n",
    "# Printing top 5 for each group\n",
    "for i in range(6):\n",
    "    top_5_0(i)"
   ]
  }
 ],
 "metadata": {
  "kernelspec": {
   "display_name": "Python 3",
   "language": "python",
   "name": "python3"
  },
  "language_info": {
   "codemirror_mode": {
    "name": "ipython",
    "version": 3
   },
   "file_extension": ".py",
   "mimetype": "text/x-python",
   "name": "python",
   "nbconvert_exporter": "python",
   "pygments_lexer": "ipython3",
   "version": "3.6.10"
  }
 },
 "nbformat": 4,
 "nbformat_minor": 4
}
