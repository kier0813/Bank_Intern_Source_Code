{
 "cells": [
  {
   "cell_type": "code",
   "execution_count": 1,
   "metadata": {},
   "outputs": [],
   "source": [
    "import pandas as pd\n",
    "import numpy as np\n",
    "import matplotlib.pyplot as plt\n",
    "import seaborn as sns\n",
    "from sklearn.cluster import DBSCAN\n",
    "from sklearn import preprocessing"
   ]
  },
  {
   "cell_type": "code",
   "execution_count": 2,
   "metadata": {},
   "outputs": [
    {
     "name": "stderr",
     "output_type": "stream",
     "text": [
      "/usr/local/lib/python3.6/dist-packages/IPython/core/interactiveshell.py:3063: DtypeWarning: Columns (8) have mixed types. Specify dtype option on import or set low_memory=False.\n",
      "  interactivity=interactivity, compiler=compiler, result=result)\n"
     ]
    }
   ],
   "source": [
    "table_nm = 'DLAB_INTERN_TR_IFO_TMP' \n",
    "names = ['iqr_dt','cus_no','act_no','mkt_gb','pdt_gb','iem_cd','iem_krl_anm','bnc_qty','tot_aet_amt'] \n",
    "file_path = f'/home/sbx/data/DATA0113/DATA/AGE3060/{table_nm}3_3060.csv' \n",
    "df_trd = pd.read_csv(file_path) \n",
    "\n",
    "table_nm = 'DLAB_HT_L1_CUS_IFO_TMP' \n",
    "names = ['cus_no','sex_dit_cd','cus_age','zip_ctp_cd', 'tco_cus_grd_cd', 'ivs_icn_cd'] \n",
    "file_path = f'/home/sbx/data/DATA0113/DATA/AGE3060/{table_nm}_3060.csv' \n",
    "df_cus = pd.read_csv(file_path) \n",
    "\n",
    "table_nm = 'DLAB_HT_L1_ACT_IFO_TMP' \n",
    "names = ['act_no','cus_no','act_opn_ym'] \n",
    "file_path = f'/home/sbx/data/DATA0113/DATA/AGE3060/{table_nm}_3060.csv' \n",
    "df_act = pd.read_csv(file_path)"
   ]
  },
  {
   "cell_type": "code",
   "execution_count": 3,
   "metadata": {},
   "outputs": [],
   "source": [
    "df_act = df_act.drop('Unnamed: 0', axis=1)\n",
    "df_cus = df_cus.drop('Unnamed: 0', axis=1)\n",
    "df_trd = df_trd.drop('Unnamed: 0', axis=1)"
   ]
  },
  {
   "cell_type": "code",
   "execution_count": 4,
   "metadata": {},
   "outputs": [],
   "source": [
    "#choose 440 customers with trd data & remove 이상한 데이터 (customers with US25459W4583)\n",
    "df_cus_w = df_cus.copy()[(df_cus['cus_no'].isin(df_trd['cus_no'])) & ~(df_cus['cus_no'].isin(df_trd[(df_trd['iem_cd'] == \"US25459W4583\")]['cus_no']))]"
   ]
  },
  {
   "cell_type": "code",
   "execution_count": 5,
   "metadata": {},
   "outputs": [],
   "source": [
    "df_bal = df_trd.copy()[['iqr_dt', 'cus_no', 'tot_aet_amt']].groupby(['iqr_dt', 'cus_no']).sum()\n",
    "df_bal = df_bal.reset_index()\n",
    "df_bal_kor = df_trd[df_trd['mkt_gb'] == '국내'].copy()[['iqr_dt', 'cus_no', 'tot_aet_amt']].groupby(['iqr_dt', 'cus_no']).sum()\n",
    "df_bal_kor = df_bal_kor.reset_index()\n",
    "df_bal_ovs = df_trd[df_trd['mkt_gb'] == '해외'].copy()[['iqr_dt', 'cus_no', 'tot_aet_amt']].groupby(['iqr_dt', 'cus_no']).sum()\n",
    "df_bal_ovs = df_bal_ovs.reset_index()"
   ]
  },
  {
   "cell_type": "code",
   "execution_count": 6,
   "metadata": {},
   "outputs": [],
   "source": [
    "df_bal_tot = pd.merge(left=df_bal, \n",
    "                      right=df_bal_kor[['iqr_dt','cus_no', 'tot_aet_amt']], \n",
    "                      on=['cus_no', 'iqr_dt'], \n",
    "                      suffixes=('', '_kr'), \n",
    "                      how='left')\n",
    "df_bal_tot = pd.merge(left=df_bal_tot, \n",
    "                      right=df_bal_ovs[['iqr_dt','cus_no', 'tot_aet_amt']], \n",
    "                      on=['cus_no', 'iqr_dt'], \n",
    "                      suffixes=('', '_ov'), \n",
    "                      how='left')"
   ]
  },
  {
   "cell_type": "code",
   "execution_count": 7,
   "metadata": {},
   "outputs": [],
   "source": [
    "df_bal_tot[['tot_aet_amt_kr', 'tot_aet_amt_ov']] = df_bal_tot[['tot_aet_amt_kr', 'tot_aet_amt_ov']].fillna(0)"
   ]
  },
  {
   "cell_type": "code",
   "execution_count": 8,
   "metadata": {},
   "outputs": [],
   "source": [
    "df_bal_list = []\n",
    "df_bal_len = []\n",
    "for i in df_bal_tot['iqr_dt'].unique():\n",
    "    df = df_bal_tot[df_bal_tot['iqr_dt'] == i]\n",
    "    df = pd.merge(left=df_cus_w, right=df, on='cus_no', suffixes=('','')) #if how='left', customers who haven't opened an account appear\n",
    "    df['ovs_ratio'] = df['tot_aet_amt_ov'] / df['tot_aet_amt']\n",
    "    df_bal_list.append(df)\n",
    "    df_bal_len.append(len(df))"
   ]
  },
  {
   "cell_type": "code",
   "execution_count": 9,
   "metadata": {},
   "outputs": [
    {
     "data": {
      "text/html": [
       "<div>\n",
       "<style scoped>\n",
       "    .dataframe tbody tr th:only-of-type {\n",
       "        vertical-align: middle;\n",
       "    }\n",
       "\n",
       "    .dataframe tbody tr th {\n",
       "        vertical-align: top;\n",
       "    }\n",
       "\n",
       "    .dataframe thead th {\n",
       "        text-align: right;\n",
       "    }\n",
       "</style>\n",
       "<table border=\"1\" class=\"dataframe\">\n",
       "  <thead>\n",
       "    <tr style=\"text-align: right;\">\n",
       "      <th></th>\n",
       "      <th>cus_no</th>\n",
       "      <th>sex_dit_cd</th>\n",
       "      <th>cus_age</th>\n",
       "      <th>zip_ctp_cd</th>\n",
       "      <th>tco_cus_grd_cd</th>\n",
       "      <th>ivs_icn_cd</th>\n",
       "      <th>iqr_dt</th>\n",
       "      <th>tot_aet_amt</th>\n",
       "      <th>tot_aet_amt_kr</th>\n",
       "      <th>tot_aet_amt_ov</th>\n",
       "      <th>ovs_ratio</th>\n",
       "    </tr>\n",
       "  </thead>\n",
       "  <tbody>\n",
       "    <tr>\n",
       "      <th>0</th>\n",
       "      <td>102509999</td>\n",
       "      <td>2</td>\n",
       "      <td>35</td>\n",
       "      <td>11</td>\n",
       "      <td>09</td>\n",
       "      <td>03</td>\n",
       "      <td>20210101</td>\n",
       "      <td>8018159</td>\n",
       "      <td>7837900.0</td>\n",
       "      <td>180259.0</td>\n",
       "      <td>0.022481</td>\n",
       "    </tr>\n",
       "    <tr>\n",
       "      <th>1</th>\n",
       "      <td>102668963</td>\n",
       "      <td>2</td>\n",
       "      <td>56</td>\n",
       "      <td>11</td>\n",
       "      <td>04</td>\n",
       "      <td>-</td>\n",
       "      <td>20210101</td>\n",
       "      <td>11780200</td>\n",
       "      <td>11780200.0</td>\n",
       "      <td>0.0</td>\n",
       "      <td>0.000000</td>\n",
       "    </tr>\n",
       "    <tr>\n",
       "      <th>2</th>\n",
       "      <td>102275237</td>\n",
       "      <td>1</td>\n",
       "      <td>44</td>\n",
       "      <td>43</td>\n",
       "      <td>03</td>\n",
       "      <td>-</td>\n",
       "      <td>20210101</td>\n",
       "      <td>118127150</td>\n",
       "      <td>118127150.0</td>\n",
       "      <td>0.0</td>\n",
       "      <td>0.000000</td>\n",
       "    </tr>\n",
       "    <tr>\n",
       "      <th>3</th>\n",
       "      <td>102549777</td>\n",
       "      <td>2</td>\n",
       "      <td>31</td>\n",
       "      <td>-</td>\n",
       "      <td>09</td>\n",
       "      <td>-</td>\n",
       "      <td>20210101</td>\n",
       "      <td>5915140</td>\n",
       "      <td>5915140.0</td>\n",
       "      <td>0.0</td>\n",
       "      <td>0.000000</td>\n",
       "    </tr>\n",
       "    <tr>\n",
       "      <th>4</th>\n",
       "      <td>100235896</td>\n",
       "      <td>2</td>\n",
       "      <td>36</td>\n",
       "      <td>41</td>\n",
       "      <td>03</td>\n",
       "      <td>-</td>\n",
       "      <td>20210101</td>\n",
       "      <td>8888500</td>\n",
       "      <td>8888500.0</td>\n",
       "      <td>0.0</td>\n",
       "      <td>0.000000</td>\n",
       "    </tr>\n",
       "  </tbody>\n",
       "</table>\n",
       "</div>"
      ],
      "text/plain": [
       "      cus_no  sex_dit_cd  cus_age zip_ctp_cd tco_cus_grd_cd ivs_icn_cd  \\\n",
       "0  102509999           2       35         11             09         03   \n",
       "1  102668963           2       56         11             04          -   \n",
       "2  102275237           1       44         43             03          -   \n",
       "3  102549777           2       31          -             09          -   \n",
       "4  100235896           2       36         41             03          -   \n",
       "\n",
       "     iqr_dt  tot_aet_amt  tot_aet_amt_kr  tot_aet_amt_ov  ovs_ratio  \n",
       "0  20210101      8018159       7837900.0        180259.0   0.022481  \n",
       "1  20210101     11780200      11780200.0             0.0   0.000000  \n",
       "2  20210101    118127150     118127150.0             0.0   0.000000  \n",
       "3  20210101      5915140       5915140.0             0.0   0.000000  \n",
       "4  20210101      8888500       8888500.0             0.0   0.000000  "
      ]
     },
     "execution_count": 9,
     "metadata": {},
     "output_type": "execute_result"
    }
   ],
   "source": [
    "df_bal_list[0].head()"
   ]
  },
  {
   "cell_type": "code",
   "execution_count": 10,
   "metadata": {},
   "outputs": [
    {
     "data": {
      "text/plain": [
       "<matplotlib.axes._subplots.AxesSubplot at 0x7efe6b7504a8>"
      ]
     },
     "execution_count": 10,
     "metadata": {},
     "output_type": "execute_result"
    },
    {
     "data": {
      "image/png": "[encoded data removed]",
      "text/plain": [
       "<Figure size 432x288 with 1 Axes>"
      ]
     },
     "metadata": {
      "needs_background": "light"
     },
     "output_type": "display_data"
    }
   ],
   "source": [
    "ovs_pct = []\n",
    "for i in range(365):\n",
    "    df = df_bal_list[i]\n",
    "    ovs_pct.append(len(df[df['ovs_ratio'] > 0])/len(df))\n",
    "pd.DataFrame(ovs_pct).plot() #고객 중 해외주식 보유자 비중 변화"
   ]
  },
  {
   "cell_type": "code",
   "execution_count": 11,
   "metadata": {},
   "outputs": [
    {
     "data": {
      "text/plain": [
       "<matplotlib.axes._subplots.AxesSubplot at 0x7efe6918f978>"
      ]
     },
     "execution_count": 11,
     "metadata": {},
     "output_type": "execute_result"
    },
    {
     "data": {
      "image/png": "[encoded data removed]",
      "text/plain": [
       "<Figure size 432x288 with 1 Axes>"
      ]
     },
     "metadata": {
      "needs_background": "light"
     },
     "output_type": "display_data"
    }
   ],
   "source": [
    "#해외주식 보유액 변화\n",
    "ovs_tot_amt = []\n",
    "for i in range(365):\n",
    "    df = df_bal_list[i]\n",
    "    ovs_tot_amt.append(df['tot_aet_amt_ov'].sum())\n",
    "pd.DataFrame(ovs_tot_amt).plot()"
   ]
  },
  {
   "cell_type": "code",
   "execution_count": 12,
   "metadata": {},
   "outputs": [],
   "source": [
    "df_bal_kor_stk = df_trd[(df_trd['mkt_gb'] == '국내') & (df_trd['pdt_gb'] == '주식')].copy()[['iqr_dt', 'cus_no', 'tot_aet_amt']].groupby(['iqr_dt', 'cus_no']).sum()\n",
    "df_bal_kor_stk = df_bal_kor_stk.reset_index()\n",
    "df_bal_ovs_stk = df_trd[(df_trd['mkt_gb'] == '해외') & (df_trd['pdt_gb'] == '주식')].copy()[['iqr_dt', 'cus_no', 'tot_aet_amt']].groupby(['iqr_dt', 'cus_no']).sum()\n",
    "df_bal_ovs_stk = df_bal_ovs_stk.reset_index()\n",
    "\n",
    "df_bal_kor_etf = df_trd[(df_trd['mkt_gb'] == '국내') & (df_trd['pdt_gb'] == 'ETF')].copy()[['iqr_dt', 'cus_no', 'tot_aet_amt']].groupby(['iqr_dt', 'cus_no']).sum()\n",
    "df_bal_kor_etf = df_bal_kor_etf.reset_index()\n",
    "df_bal_ovs_etf = df_trd[(df_trd['mkt_gb'] == '해외') & (df_trd['pdt_gb'] == 'ETF')].copy()[['iqr_dt', 'cus_no', 'tot_aet_amt']].groupby(['iqr_dt', 'cus_no']).sum()\n",
    "df_bal_ovs_etf = df_bal_ovs_etf.reset_index()\n",
    "\n",
    "df_bal_tot = pd.merge(left=df_bal, \n",
    "                      right=df_bal_kor_stk[['iqr_dt','cus_no', 'tot_aet_amt']], \n",
    "                      on=['cus_no', 'iqr_dt'], \n",
    "                      suffixes=('', '_kor_stk'), \n",
    "                      how='left')\n",
    "df_bal_tot = pd.merge(left=df_bal_tot, \n",
    "                      right=df_bal_ovs_stk[['iqr_dt','cus_no', 'tot_aet_amt']], \n",
    "                      on=['cus_no', 'iqr_dt'], \n",
    "                      suffixes=('', '_ovs_stk'), \n",
    "                      how='left')\n",
    "df_bal_tot = pd.merge(left=df_bal_tot, \n",
    "                      right=df_bal_kor_etf[['iqr_dt','cus_no', 'tot_aet_amt']], \n",
    "                      on=['cus_no', 'iqr_dt'], \n",
    "                      suffixes=('', '_kor_etf'), \n",
    "                      how='left')\n",
    "df_bal_tot = pd.merge(left=df_bal_tot, \n",
    "                      right=df_bal_ovs_etf[['iqr_dt','cus_no', 'tot_aet_amt']], \n",
    "                      on=['cus_no', 'iqr_dt'], \n",
    "                      suffixes=('', '_ovs_etf'), \n",
    "                      how='left')"
   ]
  },
  {
   "cell_type": "code",
   "execution_count": 13,
   "metadata": {},
   "outputs": [],
   "source": [
    "df_bal_tot[['tot_aet_amt_kor_stk', 'tot_aet_amt_ovs_stk', 'tot_aet_amt_kor_etf', 'tot_aet_amt_ovs_etf']] = df_bal_tot[['tot_aet_amt_kor_stk', 'tot_aet_amt_ovs_stk', 'tot_aet_amt_kor_etf', 'tot_aet_amt_ovs_etf']].fillna(0)"
   ]
  },
  {
   "cell_type": "code",
   "execution_count": 14,
   "metadata": {},
   "outputs": [],
   "source": [
    "df_bal_list = []\n",
    "df_bal_len = []\n",
    "for i in df_bal_tot['iqr_dt'].unique():\n",
    "    df = df_bal_tot[df_bal_tot['iqr_dt'] == i]\n",
    "    df = pd.merge(left=df_cus_w, right=df, on='cus_no', suffixes=('','')) #if how='left', customers who haven't opened an account appear\n",
    "    df['kor_etf_ratio'] = df['tot_aet_amt_kor_etf'] / (df['tot_aet_amt_kor_stk']+df['tot_aet_amt_kor_etf'])\n",
    "    df['ovs_etf_ratio'] = df['tot_aet_amt_ovs_etf'] / (df['tot_aet_amt_ovs_stk']+df['tot_aet_amt_ovs_etf'])\n",
    "    df[['kor_etf_ratio', 'ovs_etf_ratio']] = df[['kor_etf_ratio', 'ovs_etf_ratio']].fillna(0)\n",
    "    df_bal_list.append(df)\n",
    "    df_bal_len.append(len(df))"
   ]
  },
  {
   "cell_type": "code",
   "execution_count": 15,
   "metadata": {},
   "outputs": [],
   "source": [
    "etf_ratio_k = []\n",
    "etf_ratio_o = []\n",
    "for i in range(len(df_bal_list)):\n",
    "#     av_k = df_bal_list[i][(df_bal_list[i]['tot_aet_amt_kor_stk'] > 0) | (df_bal_list[i]['tot_aet_amt_kor_etf'] > 0)]['kor_etf_ratio'].mean()\n",
    "#     av_o = df_bal_list[i][(df_bal_list[i]['tot_aet_amt_ovs_stk'] > 0) | (df_bal_list[i]['tot_aet_amt_ovs_etf'] > 0)]['ovs_etf_ratio'].mean()\n",
    "    \n",
    "    av_k = (df_bal_list[i][(df_bal_list[i]['tot_aet_amt_kor_etf'] > 0)]['cus_no'].count())/(df_bal_list[i][(df_bal_list[i]['tot_aet_amt_kor_stk'] > 0) | (df_bal_list[i]['tot_aet_amt_kor_etf'] > 0)]['cus_no'].count())\n",
    "    av_o = (df_bal_list[i][(df_bal_list[i]['tot_aet_amt_ovs_etf'] > 0)]['cus_no'].count())/(df_bal_list[i][(df_bal_list[i]['tot_aet_amt_ovs_stk'] > 0) | (df_bal_list[i]['tot_aet_amt_ovs_etf'] > 0)]['cus_no'].count())\n",
    "    \n",
    "    etf_ratio_k.append(av_k)\n",
    "    etf_ratio_o.append(av_o)"
   ]
  },
  {
   "cell_type": "code",
   "execution_count": 16,
   "metadata": {},
   "outputs": [
    {
     "data": {
      "image/png": "[encoded data removed]",
      "text/plain": [
       "<Figure size 432x288 with 1 Axes>"
      ]
     },
     "metadata": {
      "needs_background": "light"
     },
     "output_type": "display_data"
    }
   ],
   "source": [
    "plt.plot(etf_ratio_k)\n",
    "plt.plot(etf_ratio_o)\n",
    "plt.legend(['Korean ETF', 'Overseas ETF'])\n",
    "plt.show()"
   ]
  },
  {
   "cell_type": "code",
   "execution_count": 22,
   "metadata": {},
   "outputs": [
    {
     "data": {
      "text/plain": [
       "<matplotlib.collections.PathCollection at 0x7efe68f12be0>"
      ]
     },
     "execution_count": 22,
     "metadata": {},
     "output_type": "execute_result"
    },
    {
     "data": {
      "image/png": "[encoded data removed]",
      "text/plain": [
       "<Figure size 432x288 with 1 Axes>"
      ]
     },
     "metadata": {
      "needs_background": "light"
     },
     "output_type": "display_data"
    }
   ],
   "source": [
    "plt.scatter(df_bal_list[364]['tot_aet_amt'], df_bal_list[364]['kor_etf_ratio']+df_bal_list[364]['ovs_etf_ratio'])"
   ]
  },
  {
   "cell_type": "code",
   "execution_count": 24,
   "metadata": {},
   "outputs": [
    {
     "data": {
      "text/plain": [
       "<matplotlib.axes._subplots.AxesSubplot at 0x7efe6b7c87b8>"
      ]
     },
     "execution_count": 24,
     "metadata": {},
     "output_type": "execute_result"
    },
    {
     "data": {
      "image/png": "[encoded data removed]",
      "text/plain": [
       "<Figure size 432x288 with 1 Axes>"
      ]
     },
     "metadata": {
      "needs_background": "light"
     },
     "output_type": "display_data"
    }
   ],
   "source": [
    "df_trd[df_trd['iem_krl_anm'] == '엔비디아'][['iqr_dt','bnc_qty', 'tot_aet_amt']].astype(int).groupby('iqr_dt').sum()['tot_aet_amt'].plot()"
   ]
  },
  {
   "cell_type": "code",
   "execution_count": null,
   "metadata": {},
   "outputs": [],
   "source": []
  }
 ],
 "metadata": {
  "kernelspec": {
   "display_name": "Python 3",
   "language": "python",
   "name": "python3"
  },
  "language_info": {
   "codemirror_mode": {
    "name": "ipython",
    "version": 3
   },
   "file_extension": ".py",
   "mimetype": "text/x-python",
   "name": "python",
   "nbconvert_exporter": "python",
   "pygments_lexer": "ipython3",
   "version": "3.6.10"
  }
 },
 "nbformat": 4,
 "nbformat_minor": 4
}
