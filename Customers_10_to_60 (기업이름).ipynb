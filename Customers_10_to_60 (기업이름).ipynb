{
 "cells": [
  {
   "cell_type": "code",
   "execution_count": 1,
   "metadata": {},
   "outputs": [],
   "source": [
    "import pandas as pd\n",
    "import numpy as np\n",
    "import matplotlib.pyplot as plt\n",
    "import seaborn as sns\n",
    "from sklearn.cluster import DBSCAN\n",
    "from sklearn import preprocessing"
   ]
  },
  {
   "cell_type": "code",
   "execution_count": null,
   "metadata": {},
   "outputs": [],
   "source": [
    "# Column Names are changed manually\n",
    "table_nm = 'DLAB' \n",
    "names = ['iqr_dt','cus_no','act_no','mkt_gb','pdt_gb','iem_cd','iem_krl_anm','bnc_qty','tot_aet_amt'] \n",
    "file_path = f'/home/{table_nm}3_3060.csv' \n",
    "df_trd_36 = pd.read_csv(file_path) \n",
    "\n",
    "table_nm = 'DLAB2' \n",
    "names = ['cus_no','sex_dit_cd','cus_age','zip_ctp_cd', 'tco_cus_grd_cd', 'ivs_icn_cd'] \n",
    "file_path = f'/home/{table_nm}_3060.csv' \n",
    "df_cus_36 = pd.read_csv(file_path) \n",
    "\n",
    "table_nm = 'DLAB3' \n",
    "names = ['act_no','cus_no','act_opn_ym'] \n",
    "file_path = f'/home/{table_nm}_3060.csv' \n",
    "df_act_36 = pd.read_csv(file_path) "
   ]
  },
  {
   "cell_type": "code",
   "execution_count": 3,
   "metadata": {},
   "outputs": [],
   "source": [
    "df_act_36 = df_act_36.drop('Unnamed: 0', axis=1)\n",
    "df_cus_36 = df_cus_36.drop('Unnamed: 0', axis=1)\n",
    "df_trd_36 = df_trd_36.drop('Unnamed: 0', axis=1)"
   ]
  },
  {
   "cell_type": "code",
   "execution_count": 4,
   "metadata": {},
   "outputs": [],
   "source": [
    "table_nm = 'DLAB' \n",
    "names = ['iqr_dt','cus_no','act_no','mkt_gb','pdt_gb','iem_cd','iem_krl_anm','bnc_qty','tot_aet_amt'] \n",
    "file_path = f'/home/{table_nm}_1030.csv' \n",
    "df_trd_13_1 = pd.read_csv(file_path)\n",
    "\n",
    "table_nm = 'DLAB2' \n",
    "names = ['iqr_dt','cus_no','act_no','mkt_gb','pdt_gb','iem_cd','iem_krl_anm','bnc_qty','tot_aet_amt'] \n",
    "file_path = f'/home/{table_nm}2_1030.csv' \n",
    "df_trd_13_2 = pd.read_csv(file_path) \n",
    "\n",
    "\n",
    "table_nm = 'DLAB3' \n",
    "names = ['cus_no','sex_dit_cd','cus_age','zip_ctp_cd', 'tco_cus_grd_cd', 'ivs_icn_cd'] \n",
    "file_path = f'/home/{table_nm}_1030.csv' \n",
    "df_cus_13 = pd.read_csv(file_path) \n",
    "\n",
    "table_nm = 'DLAB4' \n",
    "names = ['act_no','cus_no','act_opn_ym'] \n",
    "file_path = f'/home/{table_nm}_1030.csv' \n",
    "df_act_13 = pd.read_csv(file_path) "
   ]
  },
  {
   "cell_type": "code",
   "execution_count": 5,
   "metadata": {},
   "outputs": [],
   "source": [
    "df_trd_13 = pd.merge(left=df_trd_13_1, right=df_trd_13_2[df_trd_13_2['iqr_dt'] > 20210701], how='outer')"
   ]
  },
  {
   "cell_type": "code",
   "execution_count": 6,
   "metadata": {},
   "outputs": [],
   "source": [
    "df_act_13 = df_act_13.drop('Unnamed: 0', axis=1)\n",
    "df_cus_13 = df_cus_13.drop('Unnamed: 0', axis=1)\n",
    "df_trd_13 = df_trd_13.drop('Unnamed: 0', axis=1)"
   ]
  },
  {
   "cell_type": "code",
   "execution_count": 7,
   "metadata": {},
   "outputs": [],
   "source": [
    "#choose 440 customers with trd data & remove 이상한 데이터 \n",
    "df_cus_13_w = df_cus_13.copy()[(df_cus_13['cus_no'].isin(df_trd_13['cus_no'])) & ~(df_cus_13['cus_no'].isin(df_trd_13[(df_trd_13['iem_cd'] == \"US25459W4583\") & (df_cus_13['cus_age'] < 27)]['cus_no']))]"
   ]
  },
  {
   "cell_type": "code",
   "execution_count": 8,
   "metadata": {},
   "outputs": [],
   "source": [
    "#choose 440 customers with trd data & remove 이상한 데이터\n",
    "df_cus_36_w = df_cus_36.copy()[(df_cus_36['cus_no'].isin(df_trd_36['cus_no'])) & ~(df_cus_36['cus_no'].isin(df_trd_36[(df_trd_36['iem_cd'] == \"US25459W4583\")]['cus_no']))]"
   ]
  },
  {
   "cell_type": "code",
   "execution_count": 9,
   "metadata": {},
   "outputs": [],
   "source": [
    "df_bal_13 = df_trd_13.copy()[['iqr_dt', 'cus_no', 'tot_aet_amt']].groupby(['iqr_dt', 'cus_no']).sum()\n",
    "df_bal_13 = df_bal_13.reset_index()\n",
    "df_bal_kor_13 = df_trd_13[df_trd_13['mkt_gb'] == '국내'].copy()[['iqr_dt', 'cus_no', 'tot_aet_amt']].groupby(['iqr_dt', 'cus_no']).sum()\n",
    "df_bal_kor_13 = df_bal_kor_13.reset_index()\n",
    "df_bal_ovs_13 = df_trd_13[df_trd_13['mkt_gb'] == '해외'].copy()[['iqr_dt', 'cus_no', 'tot_aet_amt']].groupby(['iqr_dt', 'cus_no']).sum()\n",
    "df_bal_ovs_13 = df_bal_ovs_13.reset_index()"
   ]
  },
  {
   "cell_type": "code",
   "execution_count": 10,
   "metadata": {},
   "outputs": [],
   "source": [
    "df_bal_36 = df_trd_36.copy()[['iqr_dt', 'cus_no', 'tot_aet_amt']].groupby(['iqr_dt', 'cus_no']).sum()\n",
    "df_bal_36 = df_bal_36.reset_index()\n",
    "df_bal_kor_36 = df_trd_36[df_trd_36['mkt_gb'] == '국내'].copy()[['iqr_dt', 'cus_no', 'tot_aet_amt']].groupby(['iqr_dt', 'cus_no']).sum()\n",
    "df_bal_kor_36 = df_bal_kor_36.reset_index()\n",
    "df_bal_ovs_36 = df_trd_36[df_trd_36['mkt_gb'] == '해외'].copy()[['iqr_dt', 'cus_no', 'tot_aet_amt']].groupby(['iqr_dt', 'cus_no']).sum()\n",
    "df_bal_ovs_36 = df_bal_ovs_36.reset_index()"
   ]
  },
  {
   "cell_type": "code",
   "execution_count": 11,
   "metadata": {},
   "outputs": [],
   "source": [
    "df_bal_tot_13 = pd.merge(left=df_bal_13, \n",
    "                      right=df_bal_kor_13[['iqr_dt','cus_no', 'tot_aet_amt']], \n",
    "                      on=['cus_no', 'iqr_dt'], \n",
    "                      suffixes=('', '_kr'), \n",
    "                      how='left')\n",
    "df_bal_tot_13 = pd.merge(left=df_bal_tot_13, \n",
    "                      right=df_bal_ovs_13[['iqr_dt','cus_no', 'tot_aet_amt']], \n",
    "                      on=['cus_no', 'iqr_dt'], \n",
    "                      suffixes=('', '_ov'), \n",
    "                      how='left')"
   ]
  },
  {
   "cell_type": "code",
   "execution_count": 12,
   "metadata": {},
   "outputs": [],
   "source": [
    "df_bal_tot_36 = pd.merge(left=df_bal_36, \n",
    "                      right=df_bal_kor_36[['iqr_dt','cus_no', 'tot_aet_amt']], \n",
    "                      on=['cus_no', 'iqr_dt'], \n",
    "                      suffixes=('', '_kr'), \n",
    "                      how='left')\n",
    "df_bal_tot_36 = pd.merge(left=df_bal_tot_36, \n",
    "                      right=df_bal_ovs_36[['iqr_dt','cus_no', 'tot_aet_amt']], \n",
    "                      on=['cus_no', 'iqr_dt'], \n",
    "                      suffixes=('', '_ov'), \n",
    "                      how='left')"
   ]
  },
  {
   "cell_type": "code",
   "execution_count": 13,
   "metadata": {},
   "outputs": [],
   "source": [
    "df_bal_tot_13[['tot_aet_amt_kr', 'tot_aet_amt_ov']] = df_bal_tot_13[['tot_aet_amt_kr', 'tot_aet_amt_ov']].fillna(0)\n",
    "df_bal_tot_36[['tot_aet_amt_kr', 'tot_aet_amt_ov']] = df_bal_tot_36[['tot_aet_amt_kr', 'tot_aet_amt_ov']].fillna(0)"
   ]
  },
  {
   "cell_type": "code",
   "execution_count": 14,
   "metadata": {},
   "outputs": [],
   "source": [
    "df_bal_list_13 = []\n",
    "for i in df_bal_tot_13['iqr_dt'].unique():\n",
    "    df = df_bal_tot_13[df_bal_tot_13['iqr_dt'] == i]\n",
    "    df = pd.merge(left=df_cus_13_w, right=df, on='cus_no', suffixes=('','')) #if how='left', customers who haven't opened an account appear\n",
    "    df['ovs_ratio'] = df['tot_aet_amt_ov'] / df['tot_aet_amt']\n",
    "    df_bal_list_13.append(df)"
   ]
  },
  {
   "cell_type": "code",
   "execution_count": 15,
   "metadata": {},
   "outputs": [],
   "source": [
    "df_bal_list_36 = []\n",
    "for i in df_bal_tot_36['iqr_dt'].unique():\n",
    "    df = df_bal_tot_36[df_bal_tot_36['iqr_dt'] == i]\n",
    "    df = pd.merge(left=df_cus_36_w, right=df, on='cus_no', suffixes=('','')) #if how='left', customers who haven't opened an account appear\n",
    "    df['ovs_ratio'] = df['tot_aet_amt_ov'] / df['tot_aet_amt']\n",
    "    df_bal_list_36.append(df)"
   ]
  },
  {
   "cell_type": "code",
   "execution_count": 16,
   "metadata": {},
   "outputs": [],
   "source": [
    "# 세대별 ovs 확율 변화 그래프\n",
    "ovs_pct_13 = []\n",
    "for i in range(365):\n",
    "    df = df_bal_list_13[i]\n",
    "    ovs_pct_13.append(len(df[df['ovs_ratio'] > 0])/len(df))\n",
    "ovs_pct_36 = []\n",
    "for i in range(365):\n",
    "    df = df_bal_list_36[i]\n",
    "    ovs_pct_36.append(len(df[df['ovs_ratio'] > 0])/len(df))"
   ]
  },
  {
   "cell_type": "code",
   "execution_count": null,
   "metadata": {},
   "outputs": [],
   "source": [
    "plt.plot(ovs_pct_13, label='Z')\n",
    "plt.plot(ovs_pct_36, label='non-Z')\n",
    "plt.legend()\n",
    "plt.show()"
   ]
  },
  {
   "cell_type": "code",
   "execution_count": 18,
   "metadata": {},
   "outputs": [],
   "source": [
    "#특정 기업에 대한 트렌드 확인\n",
    "df_trd_kk_13 = df_trd_13.copy()[df_trd_13['iem_krl_anm'] == '기업이름']\n",
    "df_trd_kk_13 = df_trd_kk_13[df_trd_kk_13['cus_no'].isin(df_cus_13[df_cus_13['cus_age'] < 28]['cus_no'])]\n",
    "df_trd_kk_36 = df_trd_36.copy()[df_trd_36['iem_krl_anm'] == '기업이름']"
   ]
  },
  {
   "cell_type": "code",
   "execution_count": 19,
   "metadata": {},
   "outputs": [],
   "source": [
    "kk_13 = []\n",
    "kk_36 = []\n",
    "for i in df_trd_kk_13.groupby('iqr_dt').sum().index:\n",
    "    kk_13.append(df_trd_kk_13.groupby('iqr_dt')['cus_no'].count()[i])\n",
    "    kk_36.append(df_trd_kk_36.groupby('iqr_dt')['cus_no'].count()[i])\n",
    "    if (len(kk_13) > 250):\n",
    "        break"
   ]
  },
  {
   "cell_type": "code",
   "execution_count": null,
   "metadata": {},
   "outputs": [],
   "source": [
    "plt.plot(kk_13, label='10~30')\n",
    "plt.plot(kk_36, label='30~60')\n",
    "plt.axvline(x=103, color='r')\n",
    "plt.legend()"
   ]
  },
  {
   "cell_type": "code",
   "execution_count": null,
   "metadata": {},
   "outputs": [],
   "source": [
    "plt.plot(kk_13)\n",
    "plt.axvline(x=55, color='r')\n",
    "plt.axvline(x=103, color='r')"
   ]
  },
  {
   "cell_type": "code",
   "execution_count": null,
   "metadata": {},
   "outputs": [],
   "source": [
    "#Total investment of customers aged 10-30 into 기업이름 stocks\n",
    "dkk = df_trd_kk_13.groupby('iqr_dt').sum()\n",
    "plt.plot(pd.to_datetime(dkk.index, format='%Y%m%d'), dkk['tot_aet_amt'])"
   ]
  },
  {
   "cell_type": "code",
   "execution_count": null,
   "metadata": {},
   "outputs": [],
   "source": [
    "# Adjusting output graph sizes and formats\n",
    "plt.figure(figsize=(10, 5))\n",
    "dkk_13 = df_trd_kk_13.groupby('iqr_dt').agg(['nunique'])['cus_no']['nunique']/df_trd_13.groupby('iqr_dt').agg(['nunique'])['cus_no']['nunique']\n",
    "dkk_36 = df_trd_kk_36.groupby('iqr_dt').agg(['nunique'])['cus_no']['nunique']/df_trd_36.groupby('iqr_dt').agg(['nunique'])['cus_no']['nunique']\n",
    "plt.axvline(x=pd.to_datetime('20210415', format='%Y%m%d'), color='r')\n",
    "plt.plot(pd.to_datetime(dkk_13.index[20:220], format='%Y%m%d'), dkk_13[20:220], label='10~30')\n",
    "plt.plot(pd.to_datetime(dkk_36.index[20:220], format='%Y%m%d'), dkk_36[20:220], label='30~60')\n",
    "plt.legend()"
   ]
  },
  {
   "cell_type": "code",
   "execution_count": null,
   "metadata": {},
   "outputs": [],
   "source": [
    "plt.figure(figsize=(10, 5))\n",
    "plt.plot(pd.to_datetime(dkk_13.index[20:220], format='%Y%m%d'), dkk_13[20:220], label='10~30')"
   ]
  }
 ],
 "metadata": {
  "kernelspec": {
   "display_name": "Python 3",
   "language": "python",
   "name": "python3"
  },
  "language_info": {
   "codemirror_mode": {
    "name": "ipython",
    "version": 3
   },
   "file_extension": ".py",
   "mimetype": "text/x-python",
   "name": "python",
   "nbconvert_exporter": "python",
   "pygments_lexer": "ipython3",
   "version": "3.6.10"
  }
 },
 "nbformat": 4,
 "nbformat_minor": 4
}
