{
 "cells": [
  {
   "cell_type": "code",
   "execution_count": 2,
   "metadata": {},
   "outputs": [],
   "source": [
    "import pandas as pd"
   ]
  },
  {
   "cell_type": "code",
   "execution_count": 18,
   "metadata": {},
   "outputs": [],
   "source": [
    "df_acc = pd.read_csv('../data/계좌정보.csv')"
   ]
  },
  {
   "cell_type": "code",
   "execution_count": 19,
   "metadata": {},
   "outputs": [
    {
     "data": {
      "text/html": [
       "<div>\n",
       "<style scoped>\n",
       "    .dataframe tbody tr th:only-of-type {\n",
       "        vertical-align: middle;\n",
       "    }\n",
       "\n",
       "    .dataframe tbody tr th {\n",
       "        vertical-align: top;\n",
       "    }\n",
       "\n",
       "    .dataframe thead th {\n",
       "        text-align: right;\n",
       "    }\n",
       "</style>\n",
       "<table border=\"1\" class=\"dataframe\">\n",
       "  <thead>\n",
       "    <tr style=\"text-align: right;\">\n",
       "      <th></th>\n",
       "      <th>act_id</th>\n",
       "      <th>cus_id</th>\n",
       "      <th>act_opn_ym</th>\n",
       "    </tr>\n",
       "  </thead>\n",
       "  <tbody>\n",
       "    <tr>\n",
       "      <th>0</th>\n",
       "      <td>a9c528fb499a54ac617b06e5ed16a1609b69f4561fe51f...</td>\n",
       "      <td>a8fd98e9088474d7c4afa9c8d5d577d779719e5e674945...</td>\n",
       "      <td>198404</td>\n",
       "    </tr>\n",
       "    <tr>\n",
       "      <th>1</th>\n",
       "      <td>be28d1507558a7c763064ce0f9fe64b15830f541d78d44...</td>\n",
       "      <td>82fa07fe4d96acc0ade70a96ed332db72d580ef30a6c0d...</td>\n",
       "      <td>199305</td>\n",
       "    </tr>\n",
       "    <tr>\n",
       "      <th>2</th>\n",
       "      <td>39661c8738cdd7773b3a85c33f9cd952386b68e7091267...</td>\n",
       "      <td>3a57bdc08731d76dae6081dd13546e9a48b755c58e461d...</td>\n",
       "      <td>199604</td>\n",
       "    </tr>\n",
       "    <tr>\n",
       "      <th>3</th>\n",
       "      <td>d689878708ccdba7e1682eb393fa6792fd4d7ed8c78110...</td>\n",
       "      <td>e1fcda01f09346bf4fab40343d8bc2f70996d6a12a4987...</td>\n",
       "      <td>199901</td>\n",
       "    </tr>\n",
       "    <tr>\n",
       "      <th>4</th>\n",
       "      <td>505fa5ce63545724628b4f03cb3eb871ec3247bb7c66e2...</td>\n",
       "      <td>1e24d94b5e05142507318c40a3ea7854c3355328e3a891...</td>\n",
       "      <td>199009</td>\n",
       "    </tr>\n",
       "  </tbody>\n",
       "</table>\n",
       "</div>"
      ],
      "text/plain": [
       "                                              act_id  \\\n",
       "0  a9c528fb499a54ac617b06e5ed16a1609b69f4561fe51f...   \n",
       "1  be28d1507558a7c763064ce0f9fe64b15830f541d78d44...   \n",
       "2  39661c8738cdd7773b3a85c33f9cd952386b68e7091267...   \n",
       "3  d689878708ccdba7e1682eb393fa6792fd4d7ed8c78110...   \n",
       "4  505fa5ce63545724628b4f03cb3eb871ec3247bb7c66e2...   \n",
       "\n",
       "                                              cus_id  act_opn_ym  \n",
       "0  a8fd98e9088474d7c4afa9c8d5d577d779719e5e674945...      198404  \n",
       "1  82fa07fe4d96acc0ade70a96ed332db72d580ef30a6c0d...      199305  \n",
       "2  3a57bdc08731d76dae6081dd13546e9a48b755c58e461d...      199604  \n",
       "3  e1fcda01f09346bf4fab40343d8bc2f70996d6a12a4987...      199901  \n",
       "4  1e24d94b5e05142507318c40a3ea7854c3355328e3a891...      199009  "
      ]
     },
     "execution_count": 19,
     "metadata": {},
     "output_type": "execute_result"
    }
   ],
   "source": [
    "df_acc.head()"
   ]
  },
  {
   "cell_type": "code",
   "execution_count": 20,
   "metadata": {},
   "outputs": [
    {
     "data": {
      "text/plain": [
       "(21322, 3)"
      ]
     },
     "execution_count": 20,
     "metadata": {},
     "output_type": "execute_result"
    }
   ],
   "source": [
    "df_acc.shape"
   ]
  },
  {
   "cell_type": "code",
   "execution_count": 21,
   "metadata": {},
   "outputs": [],
   "source": [
    "df_cus = pd.read_csv('../data/고객정보.csv')"
   ]
  },
  {
   "cell_type": "code",
   "execution_count": 22,
   "metadata": {},
   "outputs": [
    {
     "data": {
      "text/plain": [
       "(10000, 6)"
      ]
     },
     "execution_count": 22,
     "metadata": {},
     "output_type": "execute_result"
    }
   ],
   "source": [
    "df_cus.shape"
   ]
  },
  {
   "cell_type": "code",
   "execution_count": 51,
   "metadata": {},
   "outputs": [],
   "source": [
    "df_trn = pd.read_csv('../data/국내주식매매정보.csv')"
   ]
  },
  {
   "cell_type": "code",
   "execution_count": 315,
   "metadata": {},
   "outputs": [
    {
     "data": {
      "text/plain": [
       "(100000, 10)"
      ]
     },
     "execution_count": 315,
     "metadata": {},
     "output_type": "execute_result"
    }
   ],
   "source": [
    "df_trn.shape"
   ]
  },
  {
   "cell_type": "code",
   "execution_count": 326,
   "metadata": {},
   "outputs": [
    {
     "data": {
      "text/plain": [
       "(5615, 9)"
      ]
     },
     "execution_count": 326,
     "metadata": {},
     "output_type": "execute_result"
    }
   ],
   "source": [
    "df_trn.groupby('act_id').count().shape"
   ]
  },
  {
   "cell_type": "code",
   "execution_count": 25,
   "metadata": {},
   "outputs": [],
   "source": [
    "df_tic = pd.read_csv('../data/종목정보.csv')"
   ]
  },
  {
   "cell_type": "code",
   "execution_count": 26,
   "metadata": {},
   "outputs": [
    {
     "data": {
      "text/plain": [
       "(3267, 3)"
      ]
     },
     "execution_count": 26,
     "metadata": {},
     "output_type": "execute_result"
    }
   ],
   "source": [
    "df_tic.shape"
   ]
  },
  {
   "cell_type": "code",
   "execution_count": 27,
   "metadata": {},
   "outputs": [
    {
     "data": {
      "text/html": [
       "<div>\n",
       "<style scoped>\n",
       "    .dataframe tbody tr th:only-of-type {\n",
       "        vertical-align: middle;\n",
       "    }\n",
       "\n",
       "    .dataframe tbody tr th {\n",
       "        vertical-align: top;\n",
       "    }\n",
       "\n",
       "    .dataframe thead th {\n",
       "        text-align: right;\n",
       "    }\n",
       "</style>\n",
       "<table border=\"1\" class=\"dataframe\">\n",
       "  <thead>\n",
       "    <tr style=\"text-align: right;\">\n",
       "      <th></th>\n",
       "      <th>iem_cd</th>\n",
       "      <th>iem_eng_nm</th>\n",
       "      <th>iem_krl_nm</th>\n",
       "    </tr>\n",
       "  </thead>\n",
       "  <tbody>\n",
       "    <tr>\n",
       "      <th>0</th>\n",
       "      <td>A000540</td>\n",
       "      <td>HeungkukFire&amp;MarineInsurance                  ...</td>\n",
       "      <td>흥국화재해상보험보통주                                   ...</td>\n",
       "    </tr>\n",
       "    <tr>\n",
       "      <th>1</th>\n",
       "      <td>A001680</td>\n",
       "      <td>Daesang                                       ...</td>\n",
       "      <td>대상보통주                                         ...</td>\n",
       "    </tr>\n",
       "    <tr>\n",
       "      <th>2</th>\n",
       "      <td>A002390</td>\n",
       "      <td>HANDOK Inc.                                   ...</td>\n",
       "      <td>한독보통주                                         ...</td>\n",
       "    </tr>\n",
       "    <tr>\n",
       "      <th>3</th>\n",
       "      <td>A002760</td>\n",
       "      <td>Bolak                                         ...</td>\n",
       "      <td>보락보통주                                         ...</td>\n",
       "    </tr>\n",
       "    <tr>\n",
       "      <th>4</th>\n",
       "      <td>A003830</td>\n",
       "      <td>DaehanSyntheticFibrer                         ...</td>\n",
       "      <td>대한화섬보통주                                       ...</td>\n",
       "    </tr>\n",
       "  </tbody>\n",
       "</table>\n",
       "</div>"
      ],
      "text/plain": [
       "         iem_cd                                         iem_eng_nm  \\\n",
       "0  A000540       HeungkukFire&MarineInsurance                  ...   \n",
       "1  A001680       Daesang                                       ...   \n",
       "2  A002390       HANDOK Inc.                                   ...   \n",
       "3  A002760       Bolak                                         ...   \n",
       "4  A003830       DaehanSyntheticFibrer                         ...   \n",
       "\n",
       "                                          iem_krl_nm  \n",
       "0  흥국화재해상보험보통주                                   ...  \n",
       "1  대상보통주                                         ...  \n",
       "2  한독보통주                                         ...  \n",
       "3  보락보통주                                         ...  \n",
       "4  대한화섬보통주                                       ...  "
      ]
     },
     "execution_count": 27,
     "metadata": {},
     "output_type": "execute_result"
    }
   ],
   "source": [
    "df_tic.head()"
   ]
  },
  {
   "cell_type": "code",
   "execution_count": 314,
   "metadata": {},
   "outputs": [
    {
     "data": {
      "text/html": [
       "<div>\n",
       "<style scoped>\n",
       "    .dataframe tbody tr th:only-of-type {\n",
       "        vertical-align: middle;\n",
       "    }\n",
       "\n",
       "    .dataframe tbody tr th {\n",
       "        vertical-align: top;\n",
       "    }\n",
       "\n",
       "    .dataframe thead th {\n",
       "        text-align: right;\n",
       "    }\n",
       "</style>\n",
       "<table border=\"1\" class=\"dataframe\">\n",
       "  <thead>\n",
       "    <tr style=\"text-align: right;\">\n",
       "      <th></th>\n",
       "      <th>act_id</th>\n",
       "      <th>orr_dt</th>\n",
       "      <th>orr_ord</th>\n",
       "      <th>orr_rtn_hur</th>\n",
       "      <th>lst_cns_hur</th>\n",
       "      <th>iem_cd</th>\n",
       "      <th>sby_dit_cd</th>\n",
       "      <th>cns_qty</th>\n",
       "      <th>orr_pr</th>\n",
       "      <th>orr_mdi_dit_cd</th>\n",
       "    </tr>\n",
       "  </thead>\n",
       "  <tbody>\n",
       "    <tr>\n",
       "      <th>99995</th>\n",
       "      <td>1a9404971ee7513db8609d65ec42621786a65caeb8a9ad...</td>\n",
       "      <td>20201104</td>\n",
       "      <td>8</td>\n",
       "      <td>11</td>\n",
       "      <td>11</td>\n",
       "      <td>A045660</td>\n",
       "      <td>2</td>\n",
       "      <td>488</td>\n",
       "      <td>33150.0</td>\n",
       "      <td>3</td>\n",
       "    </tr>\n",
       "    <tr>\n",
       "      <th>99996</th>\n",
       "      <td>dd47c909d5bcac7161d4a085166d2e305908ad464eb77f...</td>\n",
       "      <td>20201104</td>\n",
       "      <td>1</td>\n",
       "      <td>9</td>\n",
       "      <td>10</td>\n",
       "      <td>A021080</td>\n",
       "      <td>1</td>\n",
       "      <td>500</td>\n",
       "      <td>2480.0</td>\n",
       "      <td>3</td>\n",
       "    </tr>\n",
       "    <tr>\n",
       "      <th>99997</th>\n",
       "      <td>dd47c909d5bcac7161d4a085166d2e305908ad464eb77f...</td>\n",
       "      <td>20201104</td>\n",
       "      <td>2</td>\n",
       "      <td>10</td>\n",
       "      <td>10</td>\n",
       "      <td>A021080</td>\n",
       "      <td>1</td>\n",
       "      <td>600</td>\n",
       "      <td>2530.0</td>\n",
       "      <td>3</td>\n",
       "    </tr>\n",
       "    <tr>\n",
       "      <th>99998</th>\n",
       "      <td>dd47c909d5bcac7161d4a085166d2e305908ad464eb77f...</td>\n",
       "      <td>20201104</td>\n",
       "      <td>3</td>\n",
       "      <td>11</td>\n",
       "      <td>11</td>\n",
       "      <td>A285130</td>\n",
       "      <td>2</td>\n",
       "      <td>1</td>\n",
       "      <td>396500.0</td>\n",
       "      <td>3</td>\n",
       "    </tr>\n",
       "    <tr>\n",
       "      <th>99999</th>\n",
       "      <td>dd47c909d5bcac7161d4a085166d2e305908ad464eb77f...</td>\n",
       "      <td>20201104</td>\n",
       "      <td>4</td>\n",
       "      <td>12</td>\n",
       "      <td>12</td>\n",
       "      <td>A008350</td>\n",
       "      <td>2</td>\n",
       "      <td>200</td>\n",
       "      <td>4395.0</td>\n",
       "      <td>3</td>\n",
       "    </tr>\n",
       "  </tbody>\n",
       "</table>\n",
       "</div>"
      ],
      "text/plain": [
       "                                                  act_id    orr_dt  orr_ord  \\\n",
       "99995  1a9404971ee7513db8609d65ec42621786a65caeb8a9ad...  20201104        8   \n",
       "99996  dd47c909d5bcac7161d4a085166d2e305908ad464eb77f...  20201104        1   \n",
       "99997  dd47c909d5bcac7161d4a085166d2e305908ad464eb77f...  20201104        2   \n",
       "99998  dd47c909d5bcac7161d4a085166d2e305908ad464eb77f...  20201104        3   \n",
       "99999  dd47c909d5bcac7161d4a085166d2e305908ad464eb77f...  20201104        4   \n",
       "\n",
       "       orr_rtn_hur  lst_cns_hur        iem_cd  sby_dit_cd  cns_qty    orr_pr  \\\n",
       "99995           11           11  A045660                2      488   33150.0   \n",
       "99996            9           10  A021080                1      500    2480.0   \n",
       "99997           10           10  A021080                1      600    2530.0   \n",
       "99998           11           11  A285130                2        1  396500.0   \n",
       "99999           12           12  A008350                2      200    4395.0   \n",
       "\n",
       "       orr_mdi_dit_cd  \n",
       "99995               3  \n",
       "99996               3  \n",
       "99997               3  \n",
       "99998               3  \n",
       "99999               3  "
      ]
     },
     "execution_count": 314,
     "metadata": {},
     "output_type": "execute_result"
    }
   ],
   "source": [
    "df_trn.tail() "
   ]
  },
  {
   "cell_type": "code",
   "execution_count": 29,
   "metadata": {},
   "outputs": [
    {
     "data": {
      "text/html": [
       "<div>\n",
       "<style scoped>\n",
       "    .dataframe tbody tr th:only-of-type {\n",
       "        vertical-align: middle;\n",
       "    }\n",
       "\n",
       "    .dataframe tbody tr th {\n",
       "        vertical-align: top;\n",
       "    }\n",
       "\n",
       "    .dataframe thead th {\n",
       "        text-align: right;\n",
       "    }\n",
       "</style>\n",
       "<table border=\"1\" class=\"dataframe\">\n",
       "  <thead>\n",
       "    <tr style=\"text-align: right;\">\n",
       "      <th></th>\n",
       "      <th>cus_id</th>\n",
       "      <th>sex_dit_cd</th>\n",
       "      <th>cus_age</th>\n",
       "      <th>zip_ctp_cd</th>\n",
       "      <th>tco_cus_grd_cd</th>\n",
       "      <th>ivs_icn_cd</th>\n",
       "    </tr>\n",
       "  </thead>\n",
       "  <tbody>\n",
       "    <tr>\n",
       "      <th>0</th>\n",
       "      <td>4d8b277319e2b9702558e2051e3921b7577b8f91af1c57...</td>\n",
       "      <td>1</td>\n",
       "      <td>70</td>\n",
       "      <td>29</td>\n",
       "      <td>04</td>\n",
       "      <td>-</td>\n",
       "    </tr>\n",
       "    <tr>\n",
       "      <th>1</th>\n",
       "      <td>6dd7a26cd20b8bf9f1a21112cdf6484f8d39941e927d5c...</td>\n",
       "      <td>1</td>\n",
       "      <td>70</td>\n",
       "      <td>27</td>\n",
       "      <td>01</td>\n",
       "      <td>05</td>\n",
       "    </tr>\n",
       "    <tr>\n",
       "      <th>2</th>\n",
       "      <td>402f2edf52c8f246c9dce54104461f6e07fc35a0a26bb6...</td>\n",
       "      <td>1</td>\n",
       "      <td>70</td>\n",
       "      <td>31</td>\n",
       "      <td>05</td>\n",
       "      <td>-</td>\n",
       "    </tr>\n",
       "    <tr>\n",
       "      <th>3</th>\n",
       "      <td>2659b16a9855e000a79da95970414c0502bb00d8d5ee82...</td>\n",
       "      <td>1</td>\n",
       "      <td>70</td>\n",
       "      <td>11</td>\n",
       "      <td>04</td>\n",
       "      <td>-</td>\n",
       "    </tr>\n",
       "    <tr>\n",
       "      <th>4</th>\n",
       "      <td>521ed7bcd25272bedf5c8b539873fb342e318b22b4fcaf...</td>\n",
       "      <td>1</td>\n",
       "      <td>70</td>\n",
       "      <td>41</td>\n",
       "      <td>03</td>\n",
       "      <td>04</td>\n",
       "    </tr>\n",
       "  </tbody>\n",
       "</table>\n",
       "</div>"
      ],
      "text/plain": [
       "                                              cus_id  sex_dit_cd  cus_age  \\\n",
       "0  4d8b277319e2b9702558e2051e3921b7577b8f91af1c57...           1       70   \n",
       "1  6dd7a26cd20b8bf9f1a21112cdf6484f8d39941e927d5c...           1       70   \n",
       "2  402f2edf52c8f246c9dce54104461f6e07fc35a0a26bb6...           1       70   \n",
       "3  2659b16a9855e000a79da95970414c0502bb00d8d5ee82...           1       70   \n",
       "4  521ed7bcd25272bedf5c8b539873fb342e318b22b4fcaf...           1       70   \n",
       "\n",
       "  zip_ctp_cd tco_cus_grd_cd ivs_icn_cd  \n",
       "0         29             04          -  \n",
       "1         27             01         05  \n",
       "2         31             05          -  \n",
       "3         11             04          -  \n",
       "4         41             03         04  "
      ]
     },
     "execution_count": 29,
     "metadata": {},
     "output_type": "execute_result"
    }
   ],
   "source": [
    "df_cus.head()"
   ]
  },
  {
   "cell_type": "code",
   "execution_count": 37,
   "metadata": {},
   "outputs": [],
   "source": [
    "df_cus_z = df_cus.loc[df_cus.cus_age < 30] #gen-Z "
   ]
  },
  {
   "cell_type": "code",
   "execution_count": 36,
   "metadata": {},
   "outputs": [
    {
     "data": {
      "text/plain": [
       "(2076, 6)"
      ]
     },
     "execution_count": 36,
     "metadata": {},
     "output_type": "execute_result"
    }
   ],
   "source": [
    "df_cus_z.shape"
   ]
  },
  {
   "cell_type": "code",
   "execution_count": 41,
   "metadata": {},
   "outputs": [],
   "source": [
    "df_acc_z = df_acc[df_acc['cus_id'].isin(df_cus_z['cus_id'])] #gen-Z accounts"
   ]
  },
  {
   "cell_type": "code",
   "execution_count": 42,
   "metadata": {},
   "outputs": [
    {
     "data": {
      "text/plain": [
       "(3252, 3)"
      ]
     },
     "execution_count": 42,
     "metadata": {},
     "output_type": "execute_result"
    }
   ],
   "source": [
    "df_acc_z.shape"
   ]
  },
  {
   "cell_type": "code",
   "execution_count": 77,
   "metadata": {},
   "outputs": [],
   "source": [
    "df_trn_z = df_trn[df_trn['act_id'].isin(df_acc_z['act_id'])] #gen-Z transactions"
   ]
  },
  {
   "cell_type": "code",
   "execution_count": 78,
   "metadata": {},
   "outputs": [
    {
     "data": {
      "text/plain": [
       "(6590, 10)"
      ]
     },
     "execution_count": 78,
     "metadata": {},
     "output_type": "execute_result"
    }
   ],
   "source": [
    "df_trn_z.shape"
   ]
  },
  {
   "cell_type": "code",
   "execution_count": 61,
   "metadata": {},
   "outputs": [
    {
     "data": {
      "text/plain": [
       "(308, 10)"
      ]
     },
     "execution_count": 61,
     "metadata": {},
     "output_type": "execute_result"
    }
   ],
   "source": [
    "df_trn_z.loc[df_trn_z.orr_mdi_dit_cd != 3].shape #number of gen-Z non-MTS transactions"
   ]
  },
  {
   "cell_type": "code",
   "execution_count": 66,
   "metadata": {},
   "outputs": [
    {
     "data": {
      "text/plain": [
       "0.9532625189681335"
      ]
     },
     "execution_count": 66,
     "metadata": {},
     "output_type": "execute_result"
    }
   ],
   "source": [
    "(len(df_trn_z)-308)/len(df_trn_z) #percentage of gen-Z MTS transactions"
   ]
  },
  {
   "cell_type": "code",
   "execution_count": 68,
   "metadata": {},
   "outputs": [],
   "source": [
    "df_trn_nz = df_trn[~df_trn['act_id'].isin(df_acc_z['act_id'])] #non gen-Z transactions"
   ]
  },
  {
   "cell_type": "code",
   "execution_count": 71,
   "metadata": {},
   "outputs": [
    {
     "data": {
      "text/plain": [
       "(14362, 10)"
      ]
     },
     "execution_count": 71,
     "metadata": {},
     "output_type": "execute_result"
    }
   ],
   "source": [
    "df_trn_nz.loc[df_trn_nz.orr_mdi_dit_cd != 3].shape #number of gen-Z non-MTS transactions"
   ]
  },
  {
   "cell_type": "code",
   "execution_count": 237,
   "metadata": {},
   "outputs": [
    {
     "data": {
      "text/plain": [
       "0.8462477250829675"
      ]
     },
     "execution_count": 237,
     "metadata": {},
     "output_type": "execute_result"
    }
   ],
   "source": [
    "(len(df_trn_nz)-14362)/len(df_trn_nz) #percentage of non gen-Z MTS transactions"
   ]
  },
  {
   "cell_type": "code",
   "execution_count": 247,
   "metadata": {},
   "outputs": [
    {
     "name": "stderr",
     "output_type": "stream",
     "text": [
      "/usr/local/lib/python3.6/dist-packages/ipykernel_launcher.py:1: SettingWithCopyWarning: \n",
      "A value is trying to be set on a copy of a slice from a DataFrame.\n",
      "Try using .loc[row_indexer,col_indexer] = value instead\n",
      "\n",
      "See the caveats in the documentation: http://pandas.pydata.org/pandas-docs/stable/indexing.html#indexing-view-versus-copy\n",
      "  \"\"\"Entry point for launching an IPython kernel.\n"
     ]
    }
   ],
   "source": [
    "df_trn_z['orr_amt'] = df_trn_z['cns_qty']*df_trn_z['orr_pr']"
   ]
  },
  {
   "cell_type": "code",
   "execution_count": 248,
   "metadata": {},
   "outputs": [],
   "source": [
    "trans_z = df_trn_z.groupby('iem_cd')['orr_amt'].sum().sort_values(ascending=False)"
   ]
  },
  {
   "cell_type": "code",
   "execution_count": 249,
   "metadata": {},
   "outputs": [
    {
     "data": {
      "text/plain": [
       "1250"
      ]
     },
     "execution_count": 249,
     "metadata": {},
     "output_type": "execute_result"
    }
   ],
   "source": [
    "len(trans_z)"
   ]
  },
  {
   "cell_type": "code",
   "execution_count": 327,
   "metadata": {},
   "outputs": [],
   "source": [
    "sum = 0\n",
    "for i in range(50):\n",
    "    sum += trans_z[i]"
   ]
  },
  {
   "cell_type": "code",
   "execution_count": 328,
   "metadata": {},
   "outputs": [
    {
     "data": {
      "text/plain": [
       "2554659986.0"
      ]
     },
     "execution_count": 328,
     "metadata": {},
     "output_type": "execute_result"
    }
   ],
   "source": [
    "sum"
   ]
  },
  {
   "cell_type": "code",
   "execution_count": 329,
   "metadata": {},
   "outputs": [
    {
     "data": {
      "text/plain": [
       "0.42600353578234135"
      ]
     },
     "execution_count": 329,
     "metadata": {},
     "output_type": "execute_result"
    }
   ],
   "source": [
    "sum / df_trn_z['orr_amt'].sum()"
   ]
  },
  {
   "cell_type": "code",
   "execution_count": 330,
   "metadata": {},
   "outputs": [
    {
     "name": "stderr",
     "output_type": "stream",
     "text": [
      "/usr/local/lib/python3.6/dist-packages/ipykernel_launcher.py:1: SettingWithCopyWarning: \n",
      "A value is trying to be set on a copy of a slice from a DataFrame.\n",
      "Try using .loc[row_indexer,col_indexer] = value instead\n",
      "\n",
      "See the caveats in the documentation: http://pandas.pydata.org/pandas-docs/stable/indexing.html#indexing-view-versus-copy\n",
      "  \"\"\"Entry point for launching an IPython kernel.\n"
     ]
    }
   ],
   "source": [
    "df_trn_nz['orr_amt'] = df_trn_nz['cns_qty']*df_trn_nz['orr_pr']"
   ]
  },
  {
   "cell_type": "code",
   "execution_count": 331,
   "metadata": {},
   "outputs": [],
   "source": [
    "trans_nz = df_trn_nz.groupby('iem_cd')['orr_amt'].sum().sort_values(ascending=False)"
   ]
  },
  {
   "cell_type": "code",
   "execution_count": 332,
   "metadata": {},
   "outputs": [
    {
     "data": {
      "text/plain": [
       "2556"
      ]
     },
     "execution_count": 332,
     "metadata": {},
     "output_type": "execute_result"
    }
   ],
   "source": [
    "len(trans_nz)"
   ]
  },
  {
   "cell_type": "code",
   "execution_count": 340,
   "metadata": {},
   "outputs": [
    {
     "name": "stdout",
     "output_type": "stream",
     "text": [
      "56191220524.0\n"
     ]
    }
   ],
   "source": [
    "sum_nz = 0\n",
    "for i in range(50):\n",
    "    sum_nz += trans_nz[i]\n",
    "print(sum_nz)"
   ]
  },
  {
   "cell_type": "code",
   "execution_count": 338,
   "metadata": {},
   "outputs": [
    {
     "data": {
      "text/plain": [
       "0.5002986703200066"
      ]
     },
     "execution_count": 338,
     "metadata": {},
     "output_type": "execute_result"
    }
   ],
   "source": [
    "sum_nz / df_trn_nz['orr_amt'].sum()"
   ]
  },
  {
   "cell_type": "code",
   "execution_count": 296,
   "metadata": {},
   "outputs": [
    {
     "data": {
      "text/plain": [
       "1.2380952380952381"
      ]
     },
     "execution_count": 296,
     "metadata": {},
     "output_type": "execute_result"
    }
   ],
   "source": [
    "26/21"
   ]
  },
  {
   "cell_type": "code",
   "execution_count": 203,
   "metadata": {},
   "outputs": [
    {
     "data": {
      "text/plain": [
       "1.565217391304348"
      ]
     },
     "execution_count": 203,
     "metadata": {},
     "output_type": "execute_result"
    }
   ],
   "source": [
    "36/23"
   ]
  },
  {
   "cell_type": "code",
   "execution_count": null,
   "metadata": {},
   "outputs": [],
   "source": []
  }
 ],
 "metadata": {
  "kernelspec": {
   "display_name": "Python 3",
   "language": "python",
   "name": "python3"
  },
  "language_info": {
   "codemirror_mode": {
    "name": "ipython",
    "version": 3
   },
   "file_extension": ".py",
   "mimetype": "text/x-python",
   "name": "python",
   "nbconvert_exporter": "python",
   "pygments_lexer": "ipython3",
   "version": "3.6.10"
  }
 },
 "nbformat": 4,
 "nbformat_minor": 4
}
