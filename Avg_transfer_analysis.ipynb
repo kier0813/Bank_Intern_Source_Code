{
 "cells": [
  {
   "cell_type": "code",
   "execution_count": 2,
   "metadata": {},
   "outputs": [],
   "source": [
    "# Importing and reading csv files\n",
    "# Column Names are changed manually\n",
    "import pandas as pd\n",
    "import numpy as np\n",
    "df_jan = pd.read_csv('../21JAN.csv')\n",
    "df_feb = pd.read_csv('../21FEB.csv')\n",
    "df_mar = pd.read_csv('../21MAR.csv')\n",
    "df_apr = pd.read_csv('../21APR.csv')\n",
    "df_may = pd.read_csv('../21MAY.csv')\n",
    "df_jun = pd.read_csv('../21JUN.csv')\n",
    "df_jul = pd.read_csv('../21JUL.csv')\n",
    "df_aug = pd.read_csv('../21AUG.csv')\n",
    "df_sep = pd.read_csv('../21SEP.csv')\n",
    "df_oct = pd.read_csv('../21OCT.csv')\n",
    "df_nov = pd.read_csv('../21NOV.csv')\n",
    "df_dec = pd.read_csv('../21DEC.csv')"
   ]
  },
  {
   "cell_type": "code",
   "execution_count": null,
   "metadata": {},
   "outputs": [],
   "source": [
    "#Gen-Z = 0~24\n",
    "#Gen-M = 25~39\n",
    "#Gen-X = 40~54\n",
    "#Gen-B = 55~80\n",
    "#We will not take 80+ yrs old in account\n",
    "\n",
    "df_jan.head()"
   ]
  },
  {
   "cell_type": "code",
   "execution_count": 69,
   "metadata": {},
   "outputs": [],
   "source": [
    "#Function to take out 80+ yrs old\n",
    "def clean_eighty(df):\n",
    "    df = df[df['cus_age'] < 81]\n",
    "    return df\n",
    "\n",
    "df_jan = clean_eighty(df_jan)\n",
    "df_feb = clean_eighty(df_feb)\n",
    "df_mar = clean_eighty(df_mar)\n",
    "df_apr = clean_eighty(df_apr)\n",
    "df_may = clean_eighty(df_may)\n",
    "df_jun = clean_eighty(df_jun)\n",
    "df_jul = clean_eighty(df_jul)\n",
    "df_aug = clean_eighty(df_aug)\n",
    "df_sep = clean_eighty(df_sep)\n",
    "df_oct = clean_eighty(df_oct)\n",
    "df_nov = clean_eighty(df_nov)\n",
    "df_dec = clean_eighty(df_dec)\n",
    "r = np.array([0, 24, 39, 54, 80])\n",
    "\n",
    "def get_sum(df):    \n",
    "    return df.groupby(pd.cut(df['cus_age'], r)).sum()\n",
    "\n",
    "# Helper Function\n",
    "# Gets the average sum_trd_amt\n",
    "def find_sum(df):\n",
    "    grouped_age = pd.cut(df['cus_age'], r)\n",
    "    grouped_graph = df.groupby(grouped_age).sum()\n",
    "\n",
    "    lst = []\n",
    "    for i in range(4):\n",
    "        val = ((grouped_graph['sum_trd_amt'].iloc[i])/(grouped_graph['count_trd_cnt'].iloc[i]))\n",
    "        lst.append(val)\n",
    "        \n",
    "    grouped_graph['sum_trd_amt'] = lst\n",
    "    return grouped_graph.drop(columns= ['cus_age', 'act_trd_dit_cd', 'count_trd_cnt'])\n",
    "\n",
    "# Helper function to add all elements in sum_trd_amt into a list\n",
    "def add_all(df):\n",
    "    gen_z = 0\n",
    "    gen_m = 0\n",
    "    gen_x = 0\n",
    "    gen_b = 0\n",
    "    lst = []\n",
    "    \n",
    "    gen_z += find_sum(df)['sum_trd_amt'].iloc[0]\n",
    "    gen_m += find_sum(df)['sum_trd_amt'].iloc[1]\n",
    "    gen_x += find_sum(df)['sum_trd_amt'].iloc[2]\n",
    "    gen_b += find_sum(df)['sum_trd_amt'].iloc[3]\n",
    "    lst.append(gen_z)\n",
    "    lst.append(gen_m)\n",
    "    lst.append(gen_x)\n",
    "    lst.append(gen_b)\n",
    "    return lst\n"
   ]
  },
  {
   "cell_type": "code",
   "execution_count": null,
   "metadata": {},
   "outputs": [],
   "source": [
    "# Adding jan to dec using the helper functions\n",
    "sum_list_first = [a+b+c+d+e+f for a,b,c,d,e,f in zip(add_all(df_jan), add_all(df_feb),add_all(df_mar), add_all(df_apr), add_all(df_may), add_all(df_jun))]\n",
    "sum_list_last = [a+b+c+d+e+f for a,b,c,d,e,f in zip(add_all(df_jul), add_all(df_aug), add_all(df_sep), add_all(df_oct), add_all(df_nov), add_all(df_dec))]\n",
    "sum_lists = [a+b for a,b in zip(sum_list_first, sum_list_last)]\n",
    "\n",
    "# Rounding list\n",
    "ans = []\n",
    "for i in sum_lists:\n",
    "    i = i.round()\n",
    "    ans.append(int(i))\n",
    "\n",
    "#Table for sum of all transactions for each gen\n",
    "sum_of_trans = get_sum(df_jan).drop(columns=['cus_age', 'act_trd_dit_cd', 'count_trd_cnt'])\n",
    "sum_of_trans['sum_trd_amt'] = ans\n",
    "sum_of_trans"
   ]
  },
  {
   "cell_type": "code",
   "execution_count": null,
   "metadata": {
    "scrolled": true
   },
   "outputs": [],
   "source": [
    "#Graphing the table\n",
    "#X축 = 만원 기준\n",
    "#세대별 평균 입출금거래액 총합 그래프\n",
    "import matplotlib.pyplot as plt\n",
    "\n",
    "counts = df[\"A\"].value_counts()\n",
    "plt.barh(counts.index, counts)\n",
    "plt.show()"
   ]
  }
 ],
 "metadata": {
  "kernelspec": {
   "display_name": "Python 3",
   "language": "python",
   "name": "python3"
  },
  "language_info": {
   "codemirror_mode": {
    "name": "ipython",
    "version": 3
   },
   "file_extension": ".py",
   "mimetype": "text/x-python",
   "name": "python",
   "nbconvert_exporter": "python",
   "pygments_lexer": "ipython3",
   "version": "3.6.10"
  }
 },
 "nbformat": 4,
 "nbformat_minor": 4
}
