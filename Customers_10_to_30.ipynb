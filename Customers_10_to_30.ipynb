{
 "cells": [
  {
   "cell_type": "code",
   "execution_count": 2,
   "metadata": {},
   "outputs": [],
   "source": [
    "import pandas as pd\n",
    "import numpy as np\n",
    "import matplotlib.pyplot as plt\n",
    "import seaborn as sns\n",
    "from sklearn.cluster import DBSCAN\n",
    "from sklearn import preprocessing"
   ]
  },
  {
   "cell_type": "code",
   "execution_count": null,
   "metadata": {},
   "outputs": [],
   "source": [
    "# Column Names are changed manually\n",
    "table_nm = 'DLAB' \n",
    "names = ['iqr_dt','cus_no','act_no','mkt_gb','pdt_gb','iem_cd','iem_krl_anm','bnc_qty','tot_aet_amt'] \n",
    "file_path = f'/home{table_nm}_1030.csv' \n",
    "df_trd_1 = pd.read_csv(file_path)\n",
    "\n",
    "table_nm = 'DLAB2' \n",
    "names = ['iqr_dt','cus_no','act_no','mkt_gb','pdt_gb','iem_cd','iem_krl_anm','bnc_qty','tot_aet_amt'] \n",
    "file_path = f'/home{table_nm}2_1030.csv' \n",
    "df_trd_2 = pd.read_csv(file_path) \n",
    "\n",
    "table_nm = 'DLAB3' \n",
    "names = ['cus_no','sex_dit_cd','cus_age','zip_ctp_cd', 'tco_cus_grd_cd', 'ivs_icn_cd'] \n",
    "file_path = f'/home{table_nm}_1030.csv' \n",
    "df_cus = pd.read_csv(file_path) \n",
    "\n",
    "table_nm = 'DLAB4' \n",
    "names = ['act_no','cus_no','act_opn_ym'] \n",
    "file_path = f'/home{table_nm}_1030.csv' \n",
    "df_act = pd.read_csv(file_path) "
   ]
  },
  {
   "cell_type": "code",
   "execution_count": 6,
   "metadata": {},
   "outputs": [],
   "source": [
    "df_trd = pd.merge(left=df_trd_1, right=df_trd_2[df_trd_2['iqr_dt'] > 20210701], how='outer')"
   ]
  },
  {
   "cell_type": "code",
   "execution_count": 8,
   "metadata": {},
   "outputs": [],
   "source": [
    "df_act = df_act.drop('Unnamed: 0', axis=1)\n",
    "df_cus = df_cus.drop('Unnamed: 0', axis=1)\n",
    "df_trd = df_trd.drop('Unnamed: 0', axis=1)"
   ]
  },
  {
   "cell_type": "code",
   "execution_count": 135,
   "metadata": {},
   "outputs": [],
   "source": [
    "#choose 440 customers with trd data & remove weird data\n",
    "df_cus_w = df_cus.copy()[(df_cus['cus_no'].isin(df_trd['cus_no'])) \n",
    "                         & ~(df_cus['cus_no'].isin(df_trd[(df_trd['iem_cd'] == \"US25459W4583\")]['cus_no']))\n",
    "                        & (df_cus['cus_age'] < 28)]"
   ]
  },
  {
   "cell_type": "code",
   "execution_count": 136,
   "metadata": {},
   "outputs": [],
   "source": [
    "# Filtering out the data we want\n",
    "df_bal = df_trd.copy()[['iqr_dt', 'cus_no', 'tot_aet_amt']].groupby(['iqr_dt', 'cus_no']).sum()\n",
    "df_bal = df_bal.reset_index()\n",
    "df_bal_kor = df_trd[df_trd['mkt_gb'] == '국내'].copy()[['iqr_dt', 'cus_no', 'tot_aet_amt']].groupby(['iqr_dt', 'cus_no']).sum()\n",
    "df_bal_kor = df_bal_kor.reset_index()\n",
    "df_bal_ovs = df_trd[df_trd['mkt_gb'] == '해외'].copy()[['iqr_dt', 'cus_no', 'tot_aet_amt']].groupby(['iqr_dt', 'cus_no']).sum()\n",
    "df_bal_ovs = df_bal_ovs.reset_index()"
   ]
  },
  {
   "cell_type": "code",
   "execution_count": 137,
   "metadata": {},
   "outputs": [],
   "source": [
    "# Mering the graphs\n",
    "df_bal_tot = pd.merge(left=df_bal, \n",
    "                      right=df_bal_kor[['iqr_dt','cus_no', 'tot_aet_amt']], \n",
    "                      on=['cus_no', 'iqr_dt'], \n",
    "                      suffixes=('', '_kr'), \n",
    "                      how='left')\n",
    "df_bal_tot = pd.merge(left=df_bal_tot, \n",
    "                      right=df_bal_ovs[['iqr_dt','cus_no', 'tot_aet_amt']], \n",
    "                      on=['cus_no', 'iqr_dt'], \n",
    "                      suffixes=('', '_ov'), \n",
    "                      how='left')"
   ]
  },
  {
   "cell_type": "code",
   "execution_count": 138,
   "metadata": {},
   "outputs": [],
   "source": [
    "df_bal_tot[['tot_aet_amt_kr', 'tot_aet_amt_ov']] = df_bal_tot[['tot_aet_amt_kr', 'tot_aet_amt_ov']].fillna(0)"
   ]
  },
  {
   "cell_type": "code",
   "execution_count": 139,
   "metadata": {},
   "outputs": [],
   "source": [
    "# Finding OVS Ratio\n",
    "df_bal_list = []\n",
    "df_bal_len = []\n",
    "for i in df_bal_tot['iqr_dt'].unique():\n",
    "    df = df_bal_tot[df_bal_tot['iqr_dt'] == i]\n",
    "    df = pd.merge(left=df_cus_w, right=df, on='cus_no', suffixes=('','')) \n",
    "    df['ovs_ratio'] = df['tot_aet_amt_ov'] / df['tot_aet_amt']\n",
    "    df_bal_list.append(df)\n",
    "    df_bal_len.append(len(df))"
   ]
  },
  {
   "cell_type": "code",
   "execution_count": null,
   "metadata": {},
   "outputs": [],
   "source": [
    "# Graphing out the information above\n",
    "pd.DataFrame(df_bal_len).plot()"
   ]
  },
  {
   "cell_type": "code",
   "execution_count": null,
   "metadata": {},
   "outputs": [],
   "source": [
    "#고객 중 해외주식 보유자 비중 변화\n",
    "ovs_pct = []\n",
    "for i in range(365):\n",
    "    df = df_bal_list[i]\n",
    "    ovs_pct.append(len(df[df['ovs_ratio'] > 0])/len(df))\n",
    "pd.DataFrame(ovs_pct).plot() "
   ]
  },
  {
   "cell_type": "code",
   "execution_count": null,
   "metadata": {},
   "outputs": [],
   "source": [
    "#20대 고객 중 해외주식 보유자 비중 변화\n",
    "ovs_pct = []\n",
    "for i in range(365):\n",
    "    df = df_bal_list[i][df_bal_list[i]['cus_age'] > 19]\n",
    "    ovs_pct.append(len(df[df['ovs_ratio'] > 0])/len(df))\n",
    "pd.DataFrame(ovs_pct).plot()"
   ]
  },
  {
   "cell_type": "code",
   "execution_count": null,
   "metadata": {},
   "outputs": [],
   "source": [
    "#해외주식 보유액 변화\n",
    "ovs_tot_amt = []\n",
    "for i in range(365):\n",
    "    df = df_bal_list[i]\n",
    "    ovs_tot_amt.append(df['tot_aet_amt_ov'].sum())\n",
    "pd.DataFrame(ovs_tot_amt).plot()"
   ]
  },
  {
   "cell_type": "code",
   "execution_count": null,
   "metadata": {},
   "outputs": [],
   "source": [
    "#해외주식을 보유하고 있는 고객 중 해외주식이 자산 비중의 50% 이상인 고객 비율 변화\n",
    "ovs_avg_ratio = []\n",
    "for i in range(365):\n",
    "    df = df_bal_list[i]\n",
    "    df_hlf = df[df['ovs_ratio'] > 0.5]\n",
    "    df_ovs = df[df['ovs_ratio'] > 0]\n",
    "    ovs_avg_ratio.append(len(df_hlf)/len(df_ovs))\n",
    "pd.DataFrame(ovs_avg_ratio).plot()"
   ]
  },
  {
   "cell_type": "code",
   "execution_count": null,
   "metadata": {},
   "outputs": [],
   "source": [
    "#해외주식을 보유하고 있는 고객 중 해외주식 평가액 평균 변화\n",
    "ovs_avg_ratio = []\n",
    "for i in range(365):\n",
    "    df = df_bal_list[i]\n",
    "    df_ovs = df[df['ovs_ratio'] > 0]\n",
    "    ovs_avg_ratio.append(df_ovs['tot_aet_amt_ov'].mean())\n",
    "pd.DataFrame(ovs_avg_ratio).plot()"
   ]
  },
  {
   "cell_type": "code",
   "execution_count": 34,
   "metadata": {},
   "outputs": [],
   "source": [
    "df_bal_list_10_19 = []\n",
    "df_bal_list_20_24 = []\n",
    "df_bal_list_25_30 = []\n",
    "for i in range(len(df_bal_list)):\n",
    "    df_bal_list_10_19.append(df_bal_list[i][(df_bal_list[i]['cus_age'] > 9) & (df_bal_list[i]['cus_age'] < 20)])\n",
    "    df_bal_list_20_24.append(df_bal_list[i][(df_bal_list[i]['cus_age'] > 19) & (df_bal_list[i]['cus_age'] < 25)])\n",
    "    df_bal_list_25_30.append(df_bal_list[i][(df_bal_list[i]['cus_age'] > 24) & (df_bal_list[i]['cus_age'] < 31)])"
   ]
  },
  {
   "cell_type": "code",
   "execution_count": null,
   "metadata": {},
   "outputs": [],
   "source": [
    "#20대 초반 투자자 해외투자 비중 변화\n",
    "#20대 초반 투자자 해외투자액 변화\n",
    "\n",
    "df_list = df_bal_list_20_24\n",
    "num_ppl = []\n",
    "ovs_pct = []\n",
    "ovs_pct_ratio = []\n",
    "ovs_avg_ratio = []\n",
    "ovs_tot_amt = []\n",
    "for i in range(365):\n",
    "    df = df_list[i]\n",
    "    df_hlf = df[df['ovs_ratio'] > 0.5]\n",
    "    df_ovs = df[df['ovs_ratio'] > 0]\n",
    "    ovs_pct.append(len(df[df['ovs_ratio'] > 0])/len(df))\n",
    "    ovs_pct_ratio.append(len(df_hlf)/len(df_ovs))\n",
    "    ovs_avg_ratio.append(df_ovs['ovs_ratio'].mean())\n",
    "    ovs_tot_amt.append(df['tot_aet_amt_ov'].sum())\n",
    "pd.DataFrame(ovs_pct).plot()\n",
    "pd.DataFrame(ovs_tot_amt).plot()\n",
    "len(df_list[1])"
   ]
  },
  {
   "cell_type": "code",
   "execution_count": null,
   "metadata": {},
   "outputs": [],
   "source": [
    "#20대 후반 투자자 해외투자 비율 변화\n",
    "#20대 후반 투자자 해외투자액 변화\n",
    "\n",
    "df_list = df_bal_list_25_30\n",
    "\n",
    "ovs_pct = []\n",
    "ovs_pct_ratio = []\n",
    "ovs_avg_ratio = []\n",
    "ovs_tot_amt = []\n",
    "for i in range(265):\n",
    "    df = df_list[i]\n",
    "    df_hlf = df[df['ovs_ratio'] > 0.5]\n",
    "    df_ovs = df[df['ovs_ratio'] > 0]\n",
    "    ovs_pct.append(len(df[df['ovs_ratio'] > 0])/len(df))\n",
    "    ovs_pct_ratio.append(len(df_hlf)/len(df_ovs))\n",
    "    ovs_avg_ratio.append(df_ovs['ovs_ratio'].mean())\n",
    "    ovs_tot_amt.append(df['tot_aet_amt_ov'].sum())\n",
    "pd.DataFrame(ovs_pct).plot()\n",
    "pd.DataFrame(ovs_tot_amt).plot()\n",
    "len(df_list[1])"
   ]
  },
  {
   "cell_type": "code",
   "execution_count": null,
   "metadata": {},
   "outputs": [],
   "source": [
    "#10대 투자자 해외투자비율 변화\n",
    "#10대 투자자 해외투자액 변화\n",
    "df_list = df_bal_list_10_19\n",
    "\n",
    "ovs_pct = []\n",
    "ovs_pct_ratio = []\n",
    "ovs_avg_ratio = []\n",
    "ovs_tot_amt = []\n",
    "for i in range(365):\n",
    "    df = df_list[i]\n",
    "    df_hlf = df[df['ovs_ratio'] > 0.5]\n",
    "    df_ovs = df[df['ovs_ratio'] > 0]\n",
    "    ovs_pct.append(len(df[df['ovs_ratio'] > 0])/len(df))\n",
    "    ovs_pct_ratio.append(len(df_hlf)/len(df_ovs))\n",
    "    ovs_avg_ratio.append(df_ovs['ovs_ratio'].mean())\n",
    "    ovs_tot_amt.append(df['tot_aet_amt_ov'].sum())\n",
    "pd.DataFrame(ovs_pct).plot()\n",
    "pd.DataFrame(ovs_tot_amt).plot()"
   ]
  },
  {
   "cell_type": "code",
   "execution_count": null,
   "metadata": {},
   "outputs": [],
   "source": [
    "#20대 투자자 중 20대초반의 투자자 비율 변화\n",
    "plt.figure(figsize=(10, 5))\n",
    "df_20_24_ratio = []\n",
    "for i in range(len(df_bal_list)):\n",
    "    df_20_24_ratio.append(len(df_bal_list_20_24[i])/(len(df_bal_list_25_30[i])+len(df_bal_list_20_24[i])))\n",
    "plt.plot(pd.DataFrame(df_20_24_ratio))"
   ]
  },
  {
   "cell_type": "code",
   "execution_count": 58,
   "metadata": {},
   "outputs": [],
   "source": [
    "df_trd_bf = df_trd.copy()[(df_trd['iqr_dt'] < 20210415) & (df_trd['iem_krl_anm'] == '카카오')]\n",
    "df_trd_af = df_trd.copy()[(df_trd['iqr_dt'] > 20210415) & (df_trd['iem_krl_anm'] == '카카오')]"
   ]
  },
  {
   "cell_type": "code",
   "execution_count": 65,
   "metadata": {},
   "outputs": [],
   "source": [
    "df_trd_kk = df_trd.copy()[df_trd['iem_krl_anm'] == '카카오']"
   ]
  },
  {
   "cell_type": "code",
   "execution_count": 102,
   "metadata": {},
   "outputs": [],
   "source": [
    "# 기업의 변화 그래프\n",
    "kk = []\n",
    "for i in df_trd_kk.groupby('iqr_dt').sum().index:\n",
    "    kk.append(df_trd_kk.groupby('iqr_dt').sum()['tot_aet_amt'][i])\n",
    "    if (len(kk) > 180):\n",
    "        break"
   ]
  },
  {
   "cell_type": "code",
   "execution_count": null,
   "metadata": {},
   "outputs": [],
   "source": [
    "plt.plot(kk)\n",
    "plt.axvline(x=105, color='r')"
   ]
  },
  {
   "cell_type": "code",
   "execution_count": null,
   "metadata": {},
   "outputs": [],
   "source": [
    "plt.plot(kk)\n",
    "plt.axvline(x=105, color='r')"
   ]
  },
  {
   "cell_type": "code",
   "execution_count": null,
   "metadata": {},
   "outputs": [],
   "source": [
    "# 특정기업 (이상한 데이터) 확인용 그래프\n",
    "df_trd[df_trd['iem_krl_anm'] == '기업이름'][['iqr_dt','bnc_qty', 'tot_aet_amt']].astype(int).groupby('iqr_dt').sum()['tot_aet_amt'].plot()"
   ]
  }
 ],
 "metadata": {
  "kernelspec": {
   "display_name": "Python 3",
   "language": "python",
   "name": "python3"
  },
  "language_info": {
   "codemirror_mode": {
    "name": "ipython",
    "version": 3
   },
   "file_extension": ".py",
   "mimetype": "text/x-python",
   "name": "python",
   "nbconvert_exporter": "python",
   "pygments_lexer": "ipython3",
   "version": "3.6.10"
  }
 },
 "nbformat": 4,
 "nbformat_minor": 4
}
