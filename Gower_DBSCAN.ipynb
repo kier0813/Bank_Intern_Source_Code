{
 "cells": [
  {
   "cell_type": "markdown",
   "metadata": {},
   "source": [
    "Using Gower Distance and DBSCAN to cluster customers of age 10-30"
   ]
  },
  {
   "cell_type": "code",
   "execution_count": 1,
   "metadata": {},
   "outputs": [],
   "source": [
    "import pandas as pd\n",
    "import numpy as np\n",
    "import matplotlib.pyplot as plt\n",
    "import gower\n",
    "from sklearn.cluster import DBSCAN"
   ]
  },
  {
   "cell_type": "code",
   "execution_count": 2,
   "metadata": {},
   "outputs": [
    {
     "name": "stderr",
     "output_type": "stream",
     "text": [
      "/usr/local/lib/python3.6/dist-packages/IPython/core/interactiveshell.py:3063: DtypeWarning: Columns (8) have mixed types. Specify dtype option on import or set low_memory=False.\n",
      "  interactivity=interactivity, compiler=compiler, result=result)\n"
     ]
    }
   ],
   "source": [
    "table_nm = 'DLAB_INTERN_TR_IFO_TMP' \n",
    "names = ['iqr_dt','cus_no','act_no','mkt_gb','pdt_gb','iem_cd','iem_krl_anm','bnc_qty','tot_aet_amt'] \n",
    "file_path = f'/home/sbx/data/DATA0113/DATA/AGE1030/{table_nm}_1030.csv' \n",
    "df_trd_1 = pd.read_csv(file_path)\n",
    "\n",
    "table_nm = 'DLAB_INTERN_TR_IFO_TMP' \n",
    "names = ['iqr_dt','cus_no','act_no','mkt_gb','pdt_gb','iem_cd','iem_krl_anm','bnc_qty','tot_aet_amt'] \n",
    "file_path = f'/home/sbx/data/DATA0113/DATA/AGE1030/{table_nm}2_1030.csv' \n",
    "df_trd_2 = pd.read_csv(file_path) \n",
    "\n",
    "table_nm = 'DLAB_HT_L1_CUS_IFO_TMP' \n",
    "names = ['cus_no','sex_dit_cd','cus_age','zip_ctp_cd', 'tco_cus_grd_cd', 'ivs_icn_cd'] \n",
    "file_path = f'/home/sbx/data/DATA0113/DATA/AGE1030/{table_nm}_1030.csv' \n",
    "df_cus = pd.read_csv(file_path) \n",
    "\n",
    "table_nm = 'DLAB_HT_L1_ACT_IFO_TMP' \n",
    "names = ['act_no','cus_no','act_opn_ym'] \n",
    "file_path = f'/home/sbx/data/DATA0113/DATA/AGE1030/{table_nm}_1030.csv' \n",
    "df_act = pd.read_csv(file_path) "
   ]
  },
  {
   "cell_type": "code",
   "execution_count": 3,
   "metadata": {},
   "outputs": [
    {
     "data": {
      "text/plain": [
       "(687001, 9)"
      ]
     },
     "execution_count": 3,
     "metadata": {},
     "output_type": "execute_result"
    }
   ],
   "source": [
    "'''\n",
    "Index(['iqr_dt', 'cus_no', 'act_no', 'mkt_gb', 'pdt_gb', 'iem_cd', iem_krl_anm', 'bnc_qty', 'tot_aet_amt'])\n",
    "날짜, 고객번호, 계죄번호, 국내/해외, 주식/ETF, 종목코드, 종목한글명, 수량, 총평가액\n",
    "'''\n",
    "df_trd = pd.merge(left=df_trd_1, right=df_trd_2[df_trd_2['iqr_dt'] > 20210701], how='outer')\n",
    "df_trd = df_trd.drop('Unnamed: 0', axis=1)\n",
    "df_trd.shape #(687001, 9)"
   ]
  },
  {
   "cell_type": "code",
   "execution_count": 4,
   "metadata": {
    "scrolled": true
   },
   "outputs": [
    {
     "data": {
      "text/plain": [
       "(844, 3)"
      ]
     },
     "execution_count": 4,
     "metadata": {},
     "output_type": "execute_result"
    }
   ],
   "source": [
    "'''\n",
    "Index(['act_no', 'cus_no', 'act_opn_ym'])\n",
    "계좌번호, 고객번호, 계좌개설년월\n",
    "'''\n",
    "df_act = df_act.drop('Unnamed: 0', axis=1)\n",
    "df_act.shape #(844, 3)"
   ]
  },
  {
   "cell_type": "code",
   "execution_count": 5,
   "metadata": {},
   "outputs": [
    {
     "data": {
      "text/plain": [
       "(500, 6)"
      ]
     },
     "execution_count": 5,
     "metadata": {},
     "output_type": "execute_result"
    }
   ],
   "source": [
    "'''\n",
    "Index(['cus_no', 'sex_dit_cd', 'cus_age', 'zip_ctp_cd', 'tco_cus_grd_cd', 'ivs_icn_cd'])\n",
    "고객번호, 성별, 나이, 지역, 고객등급코드, 투자성향응답\n",
    "'''\n",
    "df_cus = df_cus.drop('Unnamed: 0', axis=1)\n",
    "df_cus.shape #(500, 7)"
   ]
  },
  {
   "cell_type": "code",
   "execution_count": 6,
   "metadata": {},
   "outputs": [
    {
     "data": {
      "text/plain": [
       "(493, 6)"
      ]
     },
     "execution_count": 6,
     "metadata": {},
     "output_type": "execute_result"
    }
   ],
   "source": [
    "'''\n",
    "choose 440 customers with trd data\n",
    "remove noisy data (customers with DIREXION SEMICONDUCTOR BULL 3X ETF)\n",
    "'''\n",
    "df_cus_w = df_cus.copy()[(df_cus['cus_no'].isin(df_trd['cus_no'])) \n",
    "                         & ~(df_cus['cus_no'].isin(df_trd[(df_trd['iem_cd'] == \"US25459W4583\")]['cus_no']))]\n",
    "df_cus_w.shape #(493, 6)"
   ]
  },
  {
   "cell_type": "code",
   "execution_count": 7,
   "metadata": {},
   "outputs": [
    {
     "data": {
      "text/plain": [
       "(144907, 3)"
      ]
     },
     "execution_count": 7,
     "metadata": {},
     "output_type": "execute_result"
    }
   ],
   "source": [
    "'''\n",
    "For each date from Jan. 1st to Dec. 31st,\n",
    "sum up each customer's total asset amount \n",
    "'''\n",
    "df_bal = df_trd.copy()[['iqr_dt', 'cus_no', 'tot_aet_amt']].groupby(['iqr_dt', 'cus_no']).sum()\n",
    "df_bal = df_bal.reset_index()\n",
    "df_bal.shape #(144907, 3)"
   ]
  },
  {
   "cell_type": "code",
   "execution_count": 8,
   "metadata": {},
   "outputs": [],
   "source": [
    "'''\n",
    "For each date from Jan. 1st to Dec. 31st,\n",
    "sum up each customer's total [Korean Stock] asset amount\n",
    "'''\n",
    "df_bal_kor_stk = df_trd[(df_trd['mkt_gb'] == '국내') \n",
    "                        & (df_trd['pdt_gb'] == '주식')].copy()[['iqr_dt', \n",
    "                                                              'cus_no', \n",
    "                                                              'tot_aet_amt']].groupby(['iqr_dt', \n",
    "                                                                                       'cus_no']).sum()\n",
    "df_bal_kor_stk = df_bal_kor_stk.reset_index()"
   ]
  },
  {
   "cell_type": "code",
   "execution_count": 9,
   "metadata": {},
   "outputs": [],
   "source": [
    "'''\n",
    "For each date from Jan. 1st to Dec. 31st,\n",
    "sum up each customer's total [Foreign Stock] asset amount\n",
    "'''\n",
    "df_bal_ovs_stk = df_trd[(df_trd['mkt_gb'] == '해외') \n",
    "                        & (df_trd['pdt_gb'] == '주식')].copy()[['iqr_dt', \n",
    "                                                              'cus_no', \n",
    "                                                              'tot_aet_amt']].groupby(['iqr_dt', \n",
    "                                                                                       'cus_no']).sum()\n",
    "df_bal_ovs_stk = df_bal_ovs_stk.reset_index()"
   ]
  },
  {
   "cell_type": "code",
   "execution_count": 10,
   "metadata": {},
   "outputs": [],
   "source": [
    "'''\n",
    "For each date from Jan. 1st to Dec. 31st,\n",
    "sum up each customer's total [Korean ETF] asset amount\n",
    "'''\n",
    "df_bal_kor_etf = df_trd[(df_trd['mkt_gb'] == '국내') \n",
    "                        & (df_trd['pdt_gb'] == 'ETF')].copy()[['iqr_dt', \n",
    "                                                               'cus_no', \n",
    "                                                               'tot_aet_amt']].groupby(['iqr_dt', \n",
    "                                                                                        'cus_no']).sum()\n",
    "df_bal_kor_etf = df_bal_kor_etf.reset_index()"
   ]
  },
  {
   "cell_type": "code",
   "execution_count": 11,
   "metadata": {},
   "outputs": [],
   "source": [
    "'''\n",
    "For each date from Jan. 1st to Dec. 31st,\n",
    "sum up each customer's total [Foreign ETF] asset amount\n",
    "'''\n",
    "df_bal_ovs_etf = df_trd[(df_trd['mkt_gb'] == '해외') \n",
    "                        & (df_trd['pdt_gb'] == 'ETF')].copy()[['iqr_dt', \n",
    "                                                               'cus_no', \n",
    "                                                               'tot_aet_amt']].groupby(['iqr_dt', \n",
    "                                                                                        'cus_no']).sum()\n",
    "df_bal_ovs_etf = df_bal_ovs_etf.reset_index()"
   ]
  },
  {
   "cell_type": "code",
   "execution_count": 12,
   "metadata": {},
   "outputs": [
    {
     "data": {
      "text/plain": [
       "(144907, 7)"
      ]
     },
     "execution_count": 12,
     "metadata": {},
     "output_type": "execute_result"
    }
   ],
   "source": [
    "'''\n",
    "Combine all the previously calculated columns\n",
    "'''\n",
    "df_bal_tot = pd.merge(left=df_bal, \n",
    "                      right=df_bal_kor_stk[['iqr_dt','cus_no', 'tot_aet_amt']], \n",
    "                      on=['cus_no', 'iqr_dt'], \n",
    "                      suffixes=('', '_kor_stk'), \n",
    "                      how='left')\n",
    "df_bal_tot = pd.merge(left=df_bal_tot, \n",
    "                      right=df_bal_ovs_stk[['iqr_dt','cus_no', 'tot_aet_amt']], \n",
    "                      on=['cus_no', 'iqr_dt'], \n",
    "                      suffixes=('', '_ovs_stk'), \n",
    "                      how='left')\n",
    "df_bal_tot = pd.merge(left=df_bal_tot, \n",
    "                      right=df_bal_kor_etf[['iqr_dt','cus_no', 'tot_aet_amt']], \n",
    "                      on=['cus_no', 'iqr_dt'], \n",
    "                      suffixes=('', '_kor_etf'), \n",
    "                      \n",
    "                      how='left')\n",
    "df_bal_tot = pd.merge(left=df_bal_tot, \n",
    "                      right=df_bal_ovs_etf[['iqr_dt','cus_no', 'tot_aet_amt']], \n",
    "                      on=['cus_no', 'iqr_dt'], \n",
    "                      suffixes=('', '_ovs_etf'), \n",
    "                      how='left')\n",
    "df_bal_tot.shape #(144907, 7)"
   ]
  },
  {
   "cell_type": "code",
   "execution_count": 13,
   "metadata": {},
   "outputs": [],
   "source": [
    "'''\n",
    "Fill NaN values in merged columns with 0\n",
    "'''\n",
    "df_bal_tot[['tot_aet_amt_kor_stk', \n",
    "            'tot_aet_amt_ovs_stk', \n",
    "            'tot_aet_amt_kor_etf', \n",
    "            'tot_aet_amt_ovs_etf']] = df_bal_tot[['tot_aet_amt_kor_stk', \n",
    "                                                  'tot_aet_amt_ovs_stk', \n",
    "                                                  'tot_aet_amt_kor_etf', \n",
    "                                                  'tot_aet_amt_ovs_etf']].fillna(0)"
   ]
  },
  {
   "cell_type": "code",
   "execution_count": 14,
   "metadata": {},
   "outputs": [],
   "source": [
    "'''\n",
    "Break the dataframe into a list (by each date)\n",
    "Create sub-columns that depend on other columns\n",
    "'''\n",
    "df_bal_list = []\n",
    "for i in df_bal_tot['iqr_dt'].unique():\n",
    "    df = df_bal_tot[df_bal_tot['iqr_dt'] == i]\n",
    "    df = pd.merge(left=df_cus_w, right=df, on='cus_no', suffixes=('',''))\n",
    "    df['kor_etf_ratio'] = df['tot_aet_amt_kor_etf'] / (df['tot_aet_amt_kor_stk']+df['tot_aet_amt_kor_etf'])\n",
    "    df['ovs_etf_ratio'] = df['tot_aet_amt_ovs_etf'] / (df['tot_aet_amt_ovs_stk']+df['tot_aet_amt_ovs_etf'])\n",
    "    df['kor_ovs_amt_ratio'] = (df['tot_aet_amt_ovs_stk']+df['tot_aet_amt_ovs_etf'] )/ df['tot_aet_amt']\n",
    "    df[['kor_etf_ratio', 'ovs_etf_ratio', 'kor_ovs_amt_ratio']] = df[['kor_etf_ratio', 'ovs_etf_ratio', 'kor_ovs_amt_ratio']].fillna(0)\n",
    "    df_bal_list.append(df)"
   ]
  },
  {
   "cell_type": "markdown",
   "metadata": {},
   "source": [
    "df = df_bal_list[364]\n",
    "plt.scatter(df['cus_age'], df['kor_ovs_amt_ratio'])"
   ]
  },
  {
   "cell_type": "code",
   "execution_count": 15,
   "metadata": {},
   "outputs": [
    {
     "data": {
      "text/plain": [
       "(492, 10)"
      ]
     },
     "execution_count": 15,
     "metadata": {},
     "output_type": "execute_result"
    }
   ],
   "source": [
    "'''\n",
    "To cluster customers between 10 to 30 years old,\n",
    "analyze their account info as of Dec. 31, 2021\n",
    "'''\n",
    "ten_thirty = df_bal_list[364].set_index(keys='cus_no')\n",
    "ten_thirty = ten_thirty.drop(['ivs_icn_cd', 'iqr_dt', 'zip_ctp_cd', 'tco_cus_grd_cd'], axis=1) #drop unused columns\n",
    "#ten_thirty = ten_thirty.drop(['tco_cus_grd_cd', 'tot_aet_amt', 'kor_etf_ratio', 'ovs_etf_ratio', 'kor_ovs_amt_ratio'], axis=1)\n",
    "ten_thirty ['sex_dit_cd'] = ten_thirty['sex_dit_cd'].replace({1:'M', 2:'F'}) #categorize \n",
    "\n",
    "#Uncommenting the lines below will log the asset values \n",
    "ten_thirty[['tot_aet_amt_kor_stk',\n",
    "            'tot_aet_amt_ovs_stk',\n",
    "            'tot_aet_amt_kor_etf',\n",
    "            'tot_aet_amt_ovs_etf']] = np.log10(ten_thirty[['tot_aet_amt_kor_stk',\n",
    "                                                        'tot_aet_amt_ovs_stk',\n",
    "                                                        'tot_aet_amt_kor_etf',\n",
    "                                                        'tot_aet_amt_ovs_etf']],\n",
    "                                             where = (ten_thirty[['tot_aet_amt_kor_stk',\n",
    "                                                        'tot_aet_amt_ovs_stk',\n",
    "                                                        'tot_aet_amt_kor_etf',\n",
    "                                                        'tot_aet_amt_ovs_etf']] != 0))\n",
    "ten_thirty.shape #(492, 10)"
   ]
  },
  {
   "cell_type": "code",
   "execution_count": 16,
   "metadata": {},
   "outputs": [
    {
     "data": {
      "text/plain": [
       "(492, 492)"
      ]
     },
     "execution_count": 16,
     "metadata": {},
     "output_type": "execute_result"
    }
   ],
   "source": [
    "'''\n",
    "import 'gower' library\n",
    "calculate the gower distance between each customer based on selected columns\n",
    "save the distance info into a matrix\n",
    "\n",
    "'''\n",
    "dist_mat = pd.DataFrame(gower.gower_matrix(ten_thirty[['cus_age',\n",
    "                                                      'tot_aet_amt_kor_stk',\n",
    "                                                      'tot_aet_amt_ovs_stk',\n",
    "                                                      'tot_aet_amt_kor_etf',\n",
    "                                                      'tot_aet_amt_ovs_etf',\n",
    "                                                      ]]), index=ten_thirty .index, columns=ten_thirty.index)\n",
    "dist_mat.shape #(492, 492)"
   ]
  },
  {
   "cell_type": "code",
   "execution_count": 17,
   "metadata": {},
   "outputs": [
    {
     "data": {
      "text/plain": [
       "DBSCAN(algorithm='auto', eps=0.09, leaf_size=30, metric='precomputed',\n",
       "       metric_params=None, min_samples=20, n_jobs=None, p=None)"
      ]
     },
     "execution_count": 17,
     "metadata": {},
     "output_type": "execute_result"
    }
   ],
   "source": [
    "'''\n",
    "define DBSCAM model with parameters\n",
    "because dist_mat is already calculated, use metric='precomputed'\n",
    "fit the model\n",
    "'''\n",
    "dbscan_cluster = DBSCAN(eps=0.09, min_samples=20, metric='precomputed')\n",
    "dbscan_cluster.fit(dist_mat)"
   ]
  },
  {
   "cell_type": "code",
   "execution_count": 18,
   "metadata": {},
   "outputs": [
    {
     "data": {
      "text/html": [
       "<div>\n",
       "<style scoped>\n",
       "    .dataframe tbody tr th:only-of-type {\n",
       "        vertical-align: middle;\n",
       "    }\n",
       "\n",
       "    .dataframe tbody tr th {\n",
       "        vertical-align: top;\n",
       "    }\n",
       "\n",
       "    .dataframe thead th {\n",
       "        text-align: right;\n",
       "    }\n",
       "</style>\n",
       "<table border=\"1\" class=\"dataframe\">\n",
       "  <thead>\n",
       "    <tr style=\"text-align: right;\">\n",
       "      <th></th>\n",
       "      <th>sex_dit_cd</th>\n",
       "      <th>cus_age</th>\n",
       "      <th>tot_aet_amt</th>\n",
       "      <th>tot_aet_amt_kor_stk</th>\n",
       "      <th>tot_aet_amt_ovs_stk</th>\n",
       "      <th>tot_aet_amt_kor_etf</th>\n",
       "      <th>tot_aet_amt_ovs_etf</th>\n",
       "      <th>kor_etf_ratio</th>\n",
       "      <th>ovs_etf_ratio</th>\n",
       "      <th>kor_ovs_amt_ratio</th>\n",
       "    </tr>\n",
       "    <tr>\n",
       "      <th>cluster</th>\n",
       "      <th></th>\n",
       "      <th></th>\n",
       "      <th></th>\n",
       "      <th></th>\n",
       "      <th></th>\n",
       "      <th></th>\n",
       "      <th></th>\n",
       "      <th></th>\n",
       "      <th></th>\n",
       "      <th></th>\n",
       "    </tr>\n",
       "  </thead>\n",
       "  <tbody>\n",
       "    <tr>\n",
       "      <th>-1</th>\n",
       "      <td>53</td>\n",
       "      <td>53</td>\n",
       "      <td>53</td>\n",
       "      <td>53</td>\n",
       "      <td>53</td>\n",
       "      <td>53</td>\n",
       "      <td>53</td>\n",
       "      <td>53</td>\n",
       "      <td>53</td>\n",
       "      <td>53</td>\n",
       "    </tr>\n",
       "    <tr>\n",
       "      <th>0</th>\n",
       "      <td>25</td>\n",
       "      <td>25</td>\n",
       "      <td>25</td>\n",
       "      <td>25</td>\n",
       "      <td>25</td>\n",
       "      <td>25</td>\n",
       "      <td>25</td>\n",
       "      <td>25</td>\n",
       "      <td>25</td>\n",
       "      <td>25</td>\n",
       "    </tr>\n",
       "    <tr>\n",
       "      <th>1</th>\n",
       "      <td>326</td>\n",
       "      <td>326</td>\n",
       "      <td>326</td>\n",
       "      <td>326</td>\n",
       "      <td>326</td>\n",
       "      <td>326</td>\n",
       "      <td>326</td>\n",
       "      <td>326</td>\n",
       "      <td>326</td>\n",
       "      <td>326</td>\n",
       "    </tr>\n",
       "    <tr>\n",
       "      <th>2</th>\n",
       "      <td>66</td>\n",
       "      <td>66</td>\n",
       "      <td>66</td>\n",
       "      <td>66</td>\n",
       "      <td>66</td>\n",
       "      <td>66</td>\n",
       "      <td>66</td>\n",
       "      <td>66</td>\n",
       "      <td>66</td>\n",
       "      <td>66</td>\n",
       "    </tr>\n",
       "    <tr>\n",
       "      <th>3</th>\n",
       "      <td>22</td>\n",
       "      <td>22</td>\n",
       "      <td>22</td>\n",
       "      <td>22</td>\n",
       "      <td>22</td>\n",
       "      <td>22</td>\n",
       "      <td>22</td>\n",
       "      <td>22</td>\n",
       "      <td>22</td>\n",
       "      <td>22</td>\n",
       "    </tr>\n",
       "  </tbody>\n",
       "</table>\n",
       "</div>"
      ],
      "text/plain": [
       "         sex_dit_cd  cus_age  tot_aet_amt  tot_aet_amt_kor_stk  \\\n",
       "cluster                                                          \n",
       "-1               53       53           53                   53   \n",
       " 0               25       25           25                   25   \n",
       " 1              326      326          326                  326   \n",
       " 2               66       66           66                   66   \n",
       " 3               22       22           22                   22   \n",
       "\n",
       "         tot_aet_amt_ovs_stk  tot_aet_amt_kor_etf  tot_aet_amt_ovs_etf  \\\n",
       "cluster                                                                  \n",
       "-1                        53                   53                   53   \n",
       " 0                        25                   25                   25   \n",
       " 1                       326                  326                  326   \n",
       " 2                        66                   66                   66   \n",
       " 3                        22                   22                   22   \n",
       "\n",
       "         kor_etf_ratio  ovs_etf_ratio  kor_ovs_amt_ratio  \n",
       "cluster                                                   \n",
       "-1                  53             53                 53  \n",
       " 0                  25             25                 25  \n",
       " 1                 326            326                326  \n",
       " 2                  66             66                 66  \n",
       " 3                  22             22                 22  "
      ]
     },
     "execution_count": 18,
     "metadata": {},
     "output_type": "execute_result"
    }
   ],
   "source": [
    "'''\n",
    "group labels to count the number of data points in each cluster\n",
    "'''\n",
    "ten_thirty ['cluster'] = dbscan_cluster.labels_\n",
    "ten_thirty_grp = ten_thirty.groupby('cluster').count()\n",
    "ten_thirty_grp"
   ]
  },
  {
   "cell_type": "code",
   "execution_count": 19,
   "metadata": {},
   "outputs": [
    {
     "data": {
      "text/html": [
       "<div>\n",
       "<style scoped>\n",
       "    .dataframe tbody tr th:only-of-type {\n",
       "        vertical-align: middle;\n",
       "    }\n",
       "\n",
       "    .dataframe tbody tr th {\n",
       "        vertical-align: top;\n",
       "    }\n",
       "\n",
       "    .dataframe thead th {\n",
       "        text-align: right;\n",
       "    }\n",
       "</style>\n",
       "<table border=\"1\" class=\"dataframe\">\n",
       "  <thead>\n",
       "    <tr style=\"text-align: right;\">\n",
       "      <th></th>\n",
       "      <th>cus_age</th>\n",
       "      <th>tot_aet_amt</th>\n",
       "      <th>tot_aet_amt_kor_stk</th>\n",
       "      <th>tot_aet_amt_ovs_stk</th>\n",
       "      <th>tot_aet_amt_kor_etf</th>\n",
       "      <th>tot_aet_amt_ovs_etf</th>\n",
       "      <th>kor_etf_ratio</th>\n",
       "      <th>ovs_etf_ratio</th>\n",
       "      <th>kor_ovs_amt_ratio</th>\n",
       "    </tr>\n",
       "    <tr>\n",
       "      <th>cluster</th>\n",
       "      <th></th>\n",
       "      <th></th>\n",
       "      <th></th>\n",
       "      <th></th>\n",
       "      <th></th>\n",
       "      <th></th>\n",
       "      <th></th>\n",
       "      <th></th>\n",
       "      <th></th>\n",
       "    </tr>\n",
       "  </thead>\n",
       "  <tbody>\n",
       "    <tr>\n",
       "      <th>-1</th>\n",
       "      <td>25.452830</td>\n",
       "      <td>2.085454e+07</td>\n",
       "      <td>4.142749</td>\n",
       "      <td>4.423772</td>\n",
       "      <td>3.068360</td>\n",
       "      <td>3.966831</td>\n",
       "      <td>0.294744</td>\n",
       "      <td>0.358709</td>\n",
       "      <td>5.072114e-01</td>\n",
       "    </tr>\n",
       "    <tr>\n",
       "      <th>0</th>\n",
       "      <td>26.320000</td>\n",
       "      <td>9.113784e+06</td>\n",
       "      <td>6.359636</td>\n",
       "      <td>0.000000</td>\n",
       "      <td>5.561387</td>\n",
       "      <td>0.000000</td>\n",
       "      <td>0.247156</td>\n",
       "      <td>0.000000</td>\n",
       "      <td>0.000000e+00</td>\n",
       "    </tr>\n",
       "    <tr>\n",
       "      <th>1</th>\n",
       "      <td>24.095092</td>\n",
       "      <td>7.298083e+06</td>\n",
       "      <td>6.337150</td>\n",
       "      <td>0.000000</td>\n",
       "      <td>0.000000</td>\n",
       "      <td>0.000000</td>\n",
       "      <td>0.000000</td>\n",
       "      <td>0.000000</td>\n",
       "      <td>8.209731e-10</td>\n",
       "    </tr>\n",
       "    <tr>\n",
       "      <th>2</th>\n",
       "      <td>25.651515</td>\n",
       "      <td>1.121828e+07</td>\n",
       "      <td>6.354720</td>\n",
       "      <td>5.615888</td>\n",
       "      <td>0.000000</td>\n",
       "      <td>0.000000</td>\n",
       "      <td>0.000000</td>\n",
       "      <td>0.000000</td>\n",
       "      <td>2.896850e-01</td>\n",
       "    </tr>\n",
       "    <tr>\n",
       "      <th>3</th>\n",
       "      <td>24.772727</td>\n",
       "      <td>5.113668e+06</td>\n",
       "      <td>0.000000</td>\n",
       "      <td>6.141363</td>\n",
       "      <td>0.000000</td>\n",
       "      <td>0.000000</td>\n",
       "      <td>0.000000</td>\n",
       "      <td>0.000000</td>\n",
       "      <td>1.000000e+00</td>\n",
       "    </tr>\n",
       "  </tbody>\n",
       "</table>\n",
       "</div>"
      ],
      "text/plain": [
       "           cus_age   tot_aet_amt  tot_aet_amt_kor_stk  tot_aet_amt_ovs_stk  \\\n",
       "cluster                                                                      \n",
       "-1       25.452830  2.085454e+07             4.142749             4.423772   \n",
       " 0       26.320000  9.113784e+06             6.359636             0.000000   \n",
       " 1       24.095092  7.298083e+06             6.337150             0.000000   \n",
       " 2       25.651515  1.121828e+07             6.354720             5.615888   \n",
       " 3       24.772727  5.113668e+06             0.000000             6.141363   \n",
       "\n",
       "         tot_aet_amt_kor_etf  tot_aet_amt_ovs_etf  kor_etf_ratio  \\\n",
       "cluster                                                            \n",
       "-1                  3.068360             3.966831       0.294744   \n",
       " 0                  5.561387             0.000000       0.247156   \n",
       " 1                  0.000000             0.000000       0.000000   \n",
       " 2                  0.000000             0.000000       0.000000   \n",
       " 3                  0.000000             0.000000       0.000000   \n",
       "\n",
       "         ovs_etf_ratio  kor_ovs_amt_ratio  \n",
       "cluster                                    \n",
       "-1            0.358709       5.072114e-01  \n",
       " 0            0.000000       0.000000e+00  \n",
       " 1            0.000000       8.209731e-10  \n",
       " 2            0.000000       2.896850e-01  \n",
       " 3            0.000000       1.000000e+00  "
      ]
     },
     "execution_count": 19,
     "metadata": {},
     "output_type": "execute_result"
    }
   ],
   "source": [
    "'''\n",
    "briefyly get the idea of how data points are being clustered\n",
    "'''\n",
    "ten_thirty.groupby('cluster').mean()"
   ]
  },
  {
   "cell_type": "code",
   "execution_count": 20,
   "metadata": {},
   "outputs": [
    {
     "data": {
      "text/plain": [
       "DBSCAN(algorithm='auto', eps=0.2, leaf_size=30, metric='precomputed',\n",
       "       metric_params=None, min_samples=15, n_jobs=None, p=None)"
      ]
     },
     "execution_count": 20,
     "metadata": {},
     "output_type": "execute_result"
    }
   ],
   "source": [
    "'''\n",
    "re-cluster the outliers with a higher eps value\n",
    "'''\n",
    "ten_thirty_x = ten_thirty.copy()[ten_thirty['cluster'] == -1]\n",
    "dist_mat_x = pd.DataFrame(gower.gower_matrix(ten_thirty_x), index=ten_thirty_x .index, columns=ten_thirty_x.index)\n",
    "dbscan_cluster_x = DBSCAN(eps=0.2, min_samples=15, metric='precomputed')\n",
    "dbscan_cluster_x.fit(dist_mat_x)"
   ]
  },
  {
   "cell_type": "code",
   "execution_count": 21,
   "metadata": {},
   "outputs": [
    {
     "data": {
      "text/html": [
       "<div>\n",
       "<style scoped>\n",
       "    .dataframe tbody tr th:only-of-type {\n",
       "        vertical-align: middle;\n",
       "    }\n",
       "\n",
       "    .dataframe tbody tr th {\n",
       "        vertical-align: top;\n",
       "    }\n",
       "\n",
       "    .dataframe thead th {\n",
       "        text-align: right;\n",
       "    }\n",
       "</style>\n",
       "<table border=\"1\" class=\"dataframe\">\n",
       "  <thead>\n",
       "    <tr style=\"text-align: right;\">\n",
       "      <th></th>\n",
       "      <th>sex_dit_cd</th>\n",
       "      <th>cus_age</th>\n",
       "      <th>tot_aet_amt</th>\n",
       "      <th>tot_aet_amt_kor_stk</th>\n",
       "      <th>tot_aet_amt_ovs_stk</th>\n",
       "      <th>tot_aet_amt_kor_etf</th>\n",
       "      <th>tot_aet_amt_ovs_etf</th>\n",
       "      <th>kor_etf_ratio</th>\n",
       "      <th>ovs_etf_ratio</th>\n",
       "      <th>kor_ovs_amt_ratio</th>\n",
       "    </tr>\n",
       "    <tr>\n",
       "      <th>cluster</th>\n",
       "      <th></th>\n",
       "      <th></th>\n",
       "      <th></th>\n",
       "      <th></th>\n",
       "      <th></th>\n",
       "      <th></th>\n",
       "      <th></th>\n",
       "      <th></th>\n",
       "      <th></th>\n",
       "      <th></th>\n",
       "    </tr>\n",
       "  </thead>\n",
       "  <tbody>\n",
       "    <tr>\n",
       "      <th>-1</th>\n",
       "      <td>24</td>\n",
       "      <td>24</td>\n",
       "      <td>24</td>\n",
       "      <td>24</td>\n",
       "      <td>24</td>\n",
       "      <td>24</td>\n",
       "      <td>24</td>\n",
       "      <td>24</td>\n",
       "      <td>24</td>\n",
       "      <td>24</td>\n",
       "    </tr>\n",
       "    <tr>\n",
       "      <th>0</th>\n",
       "      <td>29</td>\n",
       "      <td>29</td>\n",
       "      <td>29</td>\n",
       "      <td>29</td>\n",
       "      <td>29</td>\n",
       "      <td>29</td>\n",
       "      <td>29</td>\n",
       "      <td>29</td>\n",
       "      <td>29</td>\n",
       "      <td>29</td>\n",
       "    </tr>\n",
       "  </tbody>\n",
       "</table>\n",
       "</div>"
      ],
      "text/plain": [
       "         sex_dit_cd  cus_age  tot_aet_amt  tot_aet_amt_kor_stk  \\\n",
       "cluster                                                          \n",
       "-1               24       24           24                   24   \n",
       " 0               29       29           29                   29   \n",
       "\n",
       "         tot_aet_amt_ovs_stk  tot_aet_amt_kor_etf  tot_aet_amt_ovs_etf  \\\n",
       "cluster                                                                  \n",
       "-1                        24                   24                   24   \n",
       " 0                        29                   29                   29   \n",
       "\n",
       "         kor_etf_ratio  ovs_etf_ratio  kor_ovs_amt_ratio  \n",
       "cluster                                                   \n",
       "-1                  24             24                 24  \n",
       " 0                  29             29                 29  "
      ]
     },
     "execution_count": 21,
     "metadata": {},
     "output_type": "execute_result"
    }
   ],
   "source": [
    "ten_thirty_x['cluster'] = dbscan_cluster_x.labels_\n",
    "ten_thirty_x_grp = ten_thirty_x.groupby('cluster').count()\n",
    "ten_thirty_x_grp"
   ]
  },
  {
   "cell_type": "code",
   "execution_count": 22,
   "metadata": {},
   "outputs": [
    {
     "data": {
      "text/html": [
       "<div>\n",
       "<style scoped>\n",
       "    .dataframe tbody tr th:only-of-type {\n",
       "        vertical-align: middle;\n",
       "    }\n",
       "\n",
       "    .dataframe tbody tr th {\n",
       "        vertical-align: top;\n",
       "    }\n",
       "\n",
       "    .dataframe thead th {\n",
       "        text-align: right;\n",
       "    }\n",
       "</style>\n",
       "<table border=\"1\" class=\"dataframe\">\n",
       "  <thead>\n",
       "    <tr style=\"text-align: right;\">\n",
       "      <th></th>\n",
       "      <th>cus_age</th>\n",
       "      <th>tot_aet_amt</th>\n",
       "      <th>tot_aet_amt_kor_stk</th>\n",
       "      <th>tot_aet_amt_ovs_stk</th>\n",
       "      <th>tot_aet_amt_kor_etf</th>\n",
       "      <th>tot_aet_amt_ovs_etf</th>\n",
       "      <th>kor_etf_ratio</th>\n",
       "      <th>ovs_etf_ratio</th>\n",
       "      <th>kor_ovs_amt_ratio</th>\n",
       "    </tr>\n",
       "    <tr>\n",
       "      <th>cluster</th>\n",
       "      <th></th>\n",
       "      <th></th>\n",
       "      <th></th>\n",
       "      <th></th>\n",
       "      <th></th>\n",
       "      <th></th>\n",
       "      <th></th>\n",
       "      <th></th>\n",
       "      <th></th>\n",
       "    </tr>\n",
       "  </thead>\n",
       "  <tbody>\n",
       "    <tr>\n",
       "      <th>-1</th>\n",
       "      <td>25.166667</td>\n",
       "      <td>1.722288e+07</td>\n",
       "      <td>3.891026</td>\n",
       "      <td>3.394151</td>\n",
       "      <td>5.846509</td>\n",
       "      <td>2.331592</td>\n",
       "      <td>0.639483</td>\n",
       "      <td>0.253099</td>\n",
       "      <td>0.305903</td>\n",
       "    </tr>\n",
       "    <tr>\n",
       "      <th>0</th>\n",
       "      <td>25.689655</td>\n",
       "      <td>2.386004e+07</td>\n",
       "      <td>4.351071</td>\n",
       "      <td>5.275873</td>\n",
       "      <td>0.769203</td>\n",
       "      <td>5.320132</td>\n",
       "      <td>0.009443</td>\n",
       "      <td>0.446110</td>\n",
       "      <td>0.673811</td>\n",
       "    </tr>\n",
       "  </tbody>\n",
       "</table>\n",
       "</div>"
      ],
      "text/plain": [
       "           cus_age   tot_aet_amt  tot_aet_amt_kor_stk  tot_aet_amt_ovs_stk  \\\n",
       "cluster                                                                      \n",
       "-1       25.166667  1.722288e+07             3.891026             3.394151   \n",
       " 0       25.689655  2.386004e+07             4.351071             5.275873   \n",
       "\n",
       "         tot_aet_amt_kor_etf  tot_aet_amt_ovs_etf  kor_etf_ratio  \\\n",
       "cluster                                                            \n",
       "-1                  5.846509             2.331592       0.639483   \n",
       " 0                  0.769203             5.320132       0.009443   \n",
       "\n",
       "         ovs_etf_ratio  kor_ovs_amt_ratio  \n",
       "cluster                                    \n",
       "-1            0.253099           0.305903  \n",
       " 0            0.446110           0.673811  "
      ]
     },
     "execution_count": 22,
     "metadata": {},
     "output_type": "execute_result"
    }
   ],
   "source": [
    "ten_thirty_x.groupby('cluster').mean()"
   ]
  },
  {
   "cell_type": "code",
   "execution_count": 23,
   "metadata": {},
   "outputs": [],
   "source": [
    "'''\n",
    "For each cluster, print out the top five popular stocks on Dec. 31, 2021\n",
    "'''\n",
    "\n",
    "def top_five(i):\n",
    "    return df_trd[(df_trd['iqr_dt'] == 20211231) \n",
    "           & (df_trd['cus_no'].isin(ten_thirty[ten_thirty['cluster'] == i-1].reset_index()['cus_no']))].groupby('iem_krl_anm').count().sort_values(by='iqr_dt', \n",
    "                                                                                                                                                 ascending=False)['cus_no'].head() / ten_thirty_grp['cus_age'][i-1]"
   ]
  },
  {
   "cell_type": "code",
   "execution_count": 24,
   "metadata": {},
   "outputs": [
    {
     "data": {
      "text/plain": [
       "iem_krl_anm\n",
       "삼성전자                         0.291667\n",
       "TIGER KRX2차전지K-뉴딜            0.208333\n",
       "TIGER 미국S&P500               0.208333\n",
       "TIGER 미국필라델피아반도체나스닥          0.208333\n",
       "INVSC QQQ TRUST SRS 1 ETF    0.166667\n",
       "Name: cus_no, dtype: float64"
      ]
     },
     "execution_count": 24,
     "metadata": {},
     "output_type": "execute_result"
    }
   ],
   "source": [
    "'''\n",
    "outliers of outlier group\n",
    "'''\n",
    "i = 0\n",
    "df_trd[(df_trd['iqr_dt'] == 20211231) \n",
    "           & (df_trd['cus_no'].isin(ten_thirty_x[ten_thirty_x['cluster'] == i-1].reset_index()['cus_no']))].groupby('iem_krl_anm').count().sort_values(by='iqr_dt', \n",
    "                                                                                                                                                 ascending=False)['cus_no'].head() / ten_thirty_x_grp['cus_age'][i-1]"
   ]
  },
  {
   "cell_type": "code",
   "execution_count": 25,
   "metadata": {},
   "outputs": [
    {
     "data": {
      "text/plain": [
       "iem_krl_anm\n",
       "삼성전자    0.586207\n",
       "애플      0.310345\n",
       "스타벅스    0.206897\n",
       "현대차     0.206897\n",
       "카카오     0.206897\n",
       "Name: cus_no, dtype: float64"
      ]
     },
     "execution_count": 25,
     "metadata": {},
     "output_type": "execute_result"
    }
   ],
   "source": [
    "'''\n",
    "cluster 0 of outlier group\n",
    "'''\n",
    "i = 1\n",
    "df_trd[(df_trd['iqr_dt'] == 20211231) \n",
    "           & (df_trd['cus_no'].isin(ten_thirty_x[ten_thirty_x['cluster'] == i-1].reset_index()['cus_no']))].groupby('iem_krl_anm').count().sort_values(by='iqr_dt', \n",
    "                                                                                                                                                 ascending=False)['cus_no'].head() / ten_thirty_x_grp['cus_age'][i-1]"
   ]
  },
  {
   "cell_type": "code",
   "execution_count": 26,
   "metadata": {},
   "outputs": [
    {
     "name": "stdout",
     "output_type": "stream",
     "text": [
      "Group:-1\n"
     ]
    },
    {
     "data": {
      "text/plain": [
       "iem_krl_anm\n",
       "삼성전자                         0.452830\n",
       "애플                           0.226415\n",
       "INVSC QQQ TRUST SRS 1 ETF    0.150943\n",
       "삼성전자우                        0.132075\n",
       "카카오                          0.132075\n",
       "Name: cus_no, dtype: float64"
      ]
     },
     "metadata": {},
     "output_type": "display_data"
    },
    {
     "name": "stdout",
     "output_type": "stream",
     "text": [
      "Group:0\n"
     ]
    },
    {
     "data": {
      "text/plain": [
       "iem_krl_anm\n",
       "삼성전자                 0.44\n",
       "삼성전자우                0.44\n",
       "카카오                  0.24\n",
       "SK하이닉스               0.20\n",
       "TIGER KRX2차전지K-뉴딜    0.20\n",
       "Name: cus_no, dtype: float64"
      ]
     },
     "metadata": {},
     "output_type": "display_data"
    },
    {
     "name": "stdout",
     "output_type": "stream",
     "text": [
      "Group:1\n"
     ]
    },
    {
     "data": {
      "text/plain": [
       "iem_krl_anm\n",
       "삼성전자      0.493865\n",
       "카카오       0.180982\n",
       "삼성전자우     0.110429\n",
       "대한항공      0.104294\n",
       "SK하이닉스    0.058282\n",
       "Name: cus_no, dtype: float64"
      ]
     },
     "metadata": {},
     "output_type": "display_data"
    },
    {
     "name": "stdout",
     "output_type": "stream",
     "text": [
      "Group:2\n"
     ]
    },
    {
     "data": {
      "text/plain": [
       "iem_krl_anm\n",
       "삼성전자    0.560606\n",
       "카카오     0.212121\n",
       "애플      0.196970\n",
       "현대차     0.181818\n",
       "대한항공    0.090909\n",
       "Name: cus_no, dtype: float64"
      ]
     },
     "metadata": {},
     "output_type": "display_data"
    },
    {
     "name": "stdout",
     "output_type": "stream",
     "text": [
      "Group:3\n"
     ]
    },
    {
     "data": {
      "text/plain": [
       "iem_krl_anm\n",
       "애플                0.272727\n",
       "AMD               0.227273\n",
       "Meta Platforms    0.136364\n",
       "보잉                0.090909\n",
       "엔비디아              0.090909\n",
       "Name: cus_no, dtype: float64"
      ]
     },
     "metadata": {},
     "output_type": "display_data"
    }
   ],
   "source": [
    "'''\n",
    "for each cluster, print out the top 5 popular stocks\n",
    "'''\n",
    "for i in range(len(ten_thirty_grp)):\n",
    "    print('Group:' + str(i-1))\n",
    "    display(top_five(i))"
   ]
  },
  {
   "cell_type": "markdown",
   "metadata": {},
   "source": [
    "Below is to show how hierarchical DBSCAN clustering works "
   ]
  },
  {
   "cell_type": "code",
   "execution_count": 27,
   "metadata": {},
   "outputs": [],
   "source": [
    "ten_thirty_db = ten_thirty.copy()[['tot_aet_amt',\n",
    "                                                          'kor_ovs_amt_ratio'\n",
    "                                                      ]]\n",
    "dist_mat_db = pd.DataFrame(gower.gower_matrix(ten_thirty_db), index=ten_thirty_db.index, columns=ten_thirty_db.index)"
   ]
  },
  {
   "cell_type": "code",
   "execution_count": 28,
   "metadata": {},
   "outputs": [
    {
     "data": {
      "text/html": [
       "<div>\n",
       "<style scoped>\n",
       "    .dataframe tbody tr th:only-of-type {\n",
       "        vertical-align: middle;\n",
       "    }\n",
       "\n",
       "    .dataframe tbody tr th {\n",
       "        vertical-align: top;\n",
       "    }\n",
       "\n",
       "    .dataframe thead th {\n",
       "        text-align: right;\n",
       "    }\n",
       "</style>\n",
       "<table border=\"1\" class=\"dataframe\">\n",
       "  <thead>\n",
       "    <tr style=\"text-align: right;\">\n",
       "      <th></th>\n",
       "      <th>tot_aet_amt</th>\n",
       "      <th>kor_ovs_amt_ratio</th>\n",
       "    </tr>\n",
       "    <tr>\n",
       "      <th>cluster</th>\n",
       "      <th></th>\n",
       "      <th></th>\n",
       "    </tr>\n",
       "  </thead>\n",
       "  <tbody>\n",
       "    <tr>\n",
       "      <th>-1</th>\n",
       "      <td>8</td>\n",
       "      <td>8</td>\n",
       "    </tr>\n",
       "    <tr>\n",
       "      <th>0</th>\n",
       "      <td>423</td>\n",
       "      <td>423</td>\n",
       "    </tr>\n",
       "    <tr>\n",
       "      <th>1</th>\n",
       "      <td>61</td>\n",
       "      <td>61</td>\n",
       "    </tr>\n",
       "  </tbody>\n",
       "</table>\n",
       "</div>"
      ],
      "text/plain": [
       "         tot_aet_amt  kor_ovs_amt_ratio\n",
       "cluster                                \n",
       "-1                 8                  8\n",
       " 0               423                423\n",
       " 1                61                 61"
      ]
     },
     "execution_count": 28,
     "metadata": {},
     "output_type": "execute_result"
    }
   ],
   "source": [
    "dbscan_cluster_db = DBSCAN(eps=0.09, min_samples=20, metric='precomputed')\n",
    "dbscan_cluster_db.fit(dist_mat_db)\n",
    "\n",
    "ten_thirty_db['cluster'] = dbscan_cluster_db.labels_\n",
    "ten_thirty_grp_db = ten_thirty_db.groupby('cluster').count()\n",
    "ten_thirty_grp_db"
   ]
  },
  {
   "cell_type": "code",
   "execution_count": 29,
   "metadata": {},
   "outputs": [
    {
     "data": {
      "image/png": "[encoded data removed]",
      "text/plain": [
       "<Figure size 432x288 with 1 Axes>"
      ]
     },
     "metadata": {
      "needs_background": "light"
     },
     "output_type": "display_data"
    }
   ],
   "source": [
    "cmap = plt.cm.get_cmap(\"Spectral\")\n",
    "colors = cmap((ten_thirty_db['cluster']+1) / 7)\n",
    "plt.scatter(ten_thirty_db['tot_aet_amt'], ten_thirty_db['kor_ovs_amt_ratio'], c=colors)\n",
    "plt.show()"
   ]
  },
  {
   "cell_type": "code",
   "execution_count": 30,
   "metadata": {},
   "outputs": [
    {
     "data": {
      "image/png": "[encoded data removed]",
      "text/plain": [
       "<Figure size 432x288 with 1 Axes>"
      ]
     },
     "metadata": {
      "needs_background": "light"
     },
     "output_type": "display_data"
    }
   ],
   "source": [
    "ten_thirty_db_0 = ten_thirty_db[ten_thirty_db['cluster'] == 0].copy()\n",
    "dist_mat_db_0 = pd.DataFrame(gower.gower_matrix(ten_thirty_db_0), \n",
    "                             index=ten_thirty_db_0.index, \n",
    "                             columns=ten_thirty_db_0.index)\n",
    "dbscan_cluster_db_0 = DBSCAN(eps=0.05, min_samples=2, metric='precomputed')\n",
    "dbscan_cluster_db_0.fit(dist_mat_db_0)\n",
    "\n",
    "ten_thirty_db_0['cluster'] = dbscan_cluster_db_0.labels_\n",
    "ten_thirty_grp_db_0 = ten_thirty_db_0.groupby('cluster').count()\n",
    "cmap = plt.cm.get_cmap(\"Spectral\")\n",
    "colors = cmap((ten_thirty_db_0['cluster']+1) / 3.5)\n",
    "plt.scatter(ten_thirty_db_0['tot_aet_amt'], ten_thirty_db_0['kor_ovs_amt_ratio'], c=colors)\n",
    "plt.show()"
   ]
  },
  {
   "cell_type": "code",
   "execution_count": 31,
   "metadata": {},
   "outputs": [
    {
     "data": {
      "image/png": "[encoded data removed]",
      "text/plain": [
       "<Figure size 432x288 with 1 Axes>"
      ]
     },
     "metadata": {
      "needs_background": "light"
     },
     "output_type": "display_data"
    }
   ],
   "source": [
    "ten_thirty_db_0 = ten_thirty_db[ten_thirty_db['cluster'] == -1].copy()\n",
    "dist_mat_db_0 = pd.DataFrame(gower.gower_matrix(ten_thirty_db_0), \n",
    "                             index=ten_thirty_db_0.index, \n",
    "                             columns=ten_thirty_db_0.index)\n",
    "dbscan_cluster_db_0 = DBSCAN(eps=0.2, min_samples=2, metric='precomputed')\n",
    "dbscan_cluster_db_0.fit(dist_mat_db_0)\n",
    "\n",
    "ten_thirty_db_0['cluster'] = dbscan_cluster_db_0.labels_\n",
    "ten_thirty_grp_db_0 = ten_thirty_db_0.groupby('cluster').count()\n",
    "cmap = plt.cm.get_cmap(\"Spectral\")\n",
    "colors = cmap((ten_thirty_db_0['cluster']+1) / 1.2)\n",
    "plt.scatter(ten_thirty_db_0['tot_aet_amt'], ten_thirty_db_0['kor_ovs_amt_ratio'], c=colors)\n",
    "plt.show()"
   ]
  },
  {
   "cell_type": "code",
   "execution_count": null,
   "metadata": {},
   "outputs": [],
   "source": []
  }
 ],
 "metadata": {
  "kernelspec": {
   "display_name": "Python 3",
   "language": "python",
   "name": "python3"
  },
  "language_info": {
   "codemirror_mode": {
    "name": "ipython",
    "version": 3
   },
   "file_extension": ".py",
   "mimetype": "text/x-python",
   "name": "python",
   "nbconvert_exporter": "python",
   "pygments_lexer": "ipython3",
   "version": "3.6.10"
  }
 },
 "nbformat": 4,
 "nbformat_minor": 4
}
