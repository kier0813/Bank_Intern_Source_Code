{
 "cells": [
  {
   "cell_type": "markdown",
   "metadata": {},
   "source": [
    "Using Gower Distance and DBSCAN to cluster customers of age 10-30"
   ]
  },
  {
   "cell_type": "code",
   "execution_count": 1,
   "metadata": {},
   "outputs": [],
   "source": [
    "import pandas as pd\n",
    "import numpy as np\n",
    "import matplotlib.pyplot as plt\n",
    "import gower\n",
    "from sklearn.cluster import DBSCAN"
   ]
  },
  {
   "cell_type": "code",
   "execution_count": null,
   "metadata": {},
   "outputs": [],
   "source": [
    "# Column Names are changed manually\n",
    "table_nm = 'DLAB' \n",
    "names = ['iqr_dt','cus_no','act_no','mkt_gb','pdt_gb','iem_cd','iem_krl_anm','bnc_qty','tot_aet_amt'] \n",
    "file_path = f'/home/{table_nm}_1030.csv' \n",
    "df_trd_1 = pd.read_csv(file_path)\n",
    "\n",
    "table_nm = 'DLAB2' \n",
    "names = ['iqr_dt','cus_no','act_no','mkt_gb','pdt_gb','iem_cd','iem_krl_anm','bnc_qty','tot_aet_amt'] \n",
    "file_path = f'/home/{table_nm}2_1030.csv' \n",
    "df_trd_2 = pd.read_csv(file_path) \n",
    "\n",
    "table_nm = 'DLAB3' \n",
    "names = ['cus_no','sex_dit_cd','cus_age','zip_ctp_cd', 'tco_cus_grd_cd', 'ivs_icn_cd'] \n",
    "file_path = f'/home/{table_nm}_1030.csv' \n",
    "df_cus = pd.read_csv(file_path) \n",
    "\n",
    "table_nm = 'DLAB4' \n",
    "names = ['act_no','cus_no','act_opn_ym'] \n",
    "file_path = f'/home/{table_nm}_1030.csv' \n",
    "df_act = pd.read_csv(file_path) "
   ]
  },
  {
   "cell_type": "code",
   "execution_count": null,
   "metadata": {},
   "outputs": [],
   "source": [
    "'''\n",
    "Index(['iqr_dt', 'cus_no', 'act_no', 'mkt_gb', 'pdt_gb', 'iem_cd', iem_krl_anm', 'bnc_qty', 'tot_aet_amt'])\n",
    "날짜, 고객번호, 계죄번호, 국내/해외, 주식/ETF, 종목코드, 종목한글명, 수량, 총평가액\n",
    "'''\n",
    "df_trd = pd.merge(left=df_trd_1, right=df_trd_2[df_trd_2['iqr_dt'] > 20210701], how='outer')\n",
    "df_trd = df_trd.drop('Unnamed: 0', axis=1)\n",
    "df_trd.shape "
   ]
  },
  {
   "cell_type": "code",
   "execution_count": null,
   "metadata": {
    "scrolled": true
   },
   "outputs": [],
   "source": [
    "'''\n",
    "Index(['act_no', 'cus_no', 'act_opn_ym'])\n",
    "계좌번호, 고객번호, 계좌개설년월\n",
    "'''\n",
    "df_act = df_act.drop('Unnamed: 0', axis=1)\n",
    "df_act.shape"
   ]
  },
  {
   "cell_type": "code",
   "execution_count": null,
   "metadata": {},
   "outputs": [],
   "source": [
    "'''\n",
    "Index(['cus_no', 'sex_dit_cd', 'cus_age', 'zip_ctp_cd', 'tco_cus_grd_cd', 'ivs_icn_cd'])\n",
    "고객번호, 성별, 나이, 지역, 고객등급코드, 투자성향응답\n",
    "'''\n",
    "df_cus = df_cus.drop('Unnamed: 0', axis=1)\n",
    "df_cus.shape "
   ]
  },
  {
   "cell_type": "code",
   "execution_count": 6,
   "metadata": {},
   "outputs": [
    {
     "data": {
      "text/plain": [
       "(493, 6)"
      ]
     },
     "execution_count": 6,
     "metadata": {},
     "output_type": "execute_result"
    }
   ],
   "source": [
    "'''\n",
    "choose 440 customers with trd data\n",
    "remove noisy data (customers with DIREXION SEMICONDUCTOR BULL 3X ETF)\n",
    "'''\n",
    "df_cus_w = df_cus.copy()[(df_cus['cus_no'].isin(df_trd['cus_no'])) \n",
    "                         & ~(df_cus['cus_no'].isin(df_trd[(df_trd['iem_cd'] == \"US25459W4583\")]['cus_no']))]\n",
    "df_cus_w.shape"
   ]
  },
  {
   "cell_type": "code",
   "execution_count": 7,
   "metadata": {},
   "outputs": [
    {
     "data": {
      "text/plain": [
       "(144907, 3)"
      ]
     },
     "execution_count": 7,
     "metadata": {},
     "output_type": "execute_result"
    }
   ],
   "source": [
    "'''\n",
    "For each date from Jan. 1st to Dec. 31st,\n",
    "sum up each customer's total asset amount \n",
    "'''\n",
    "df_bal = df_trd.copy()[['iqr_dt', 'cus_no', 'tot_aet_amt']].groupby(['iqr_dt', 'cus_no']).sum()\n",
    "df_bal = df_bal.reset_index()\n",
    "df_bal.shape "
   ]
  },
  {
   "cell_type": "code",
   "execution_count": 8,
   "metadata": {},
   "outputs": [],
   "source": [
    "'''\n",
    "For each date from Jan. 1st to Dec. 31st,\n",
    "sum up each customer's total [Korean Stock] asset amount\n",
    "'''\n",
    "df_bal_kor_stk = df_trd[(df_trd['mkt_gb'] == '국내') \n",
    "                        & (df_trd['pdt_gb'] == '주식')].copy()[['iqr_dt', \n",
    "                                                              'cus_no', \n",
    "                                                              'tot_aet_amt']].groupby(['iqr_dt', \n",
    "                                                                                       'cus_no']).sum()\n",
    "df_bal_kor_stk = df_bal_kor_stk.reset_index()"
   ]
  },
  {
   "cell_type": "code",
   "execution_count": 9,
   "metadata": {},
   "outputs": [],
   "source": [
    "'''\n",
    "For each date from Jan. 1st to Dec. 31st,\n",
    "sum up each customer's total [Foreign Stock] asset amount\n",
    "'''\n",
    "df_bal_ovs_stk = df_trd[(df_trd['mkt_gb'] == '해외') \n",
    "                        & (df_trd['pdt_gb'] == '주식')].copy()[['iqr_dt', \n",
    "                                                              'cus_no', \n",
    "                                                              'tot_aet_amt']].groupby(['iqr_dt', \n",
    "                                                                                       'cus_no']).sum()\n",
    "df_bal_ovs_stk = df_bal_ovs_stk.reset_index()"
   ]
  },
  {
   "cell_type": "code",
   "execution_count": 10,
   "metadata": {},
   "outputs": [],
   "source": [
    "'''\n",
    "For each date from Jan. 1st to Dec. 31st,\n",
    "sum up each customer's total [Korean ETF] asset amount\n",
    "'''\n",
    "df_bal_kor_etf = df_trd[(df_trd['mkt_gb'] == '국내') \n",
    "                        & (df_trd['pdt_gb'] == 'ETF')].copy()[['iqr_dt', \n",
    "                                                               'cus_no', \n",
    "                                                               'tot_aet_amt']].groupby(['iqr_dt', \n",
    "                                                                                        'cus_no']).sum()\n",
    "df_bal_kor_etf = df_bal_kor_etf.reset_index()"
   ]
  },
  {
   "cell_type": "code",
   "execution_count": 11,
   "metadata": {},
   "outputs": [],
   "source": [
    "'''\n",
    "For each date from Jan. 1st to Dec. 31st,\n",
    "sum up each customer's total [Foreign ETF] asset amount\n",
    "'''\n",
    "df_bal_ovs_etf = df_trd[(df_trd['mkt_gb'] == '해외') \n",
    "                        & (df_trd['pdt_gb'] == 'ETF')].copy()[['iqr_dt', \n",
    "                                                               'cus_no', \n",
    "                                                               'tot_aet_amt']].groupby(['iqr_dt', \n",
    "                                                                                        'cus_no']).sum()\n",
    "df_bal_ovs_etf = df_bal_ovs_etf.reset_index()"
   ]
  },
  {
   "cell_type": "code",
   "execution_count": 12,
   "metadata": {},
   "outputs": [
    {
     "data": {
      "text/plain": [
       "(144907, 7)"
      ]
     },
     "execution_count": 12,
     "metadata": {},
     "output_type": "execute_result"
    }
   ],
   "source": [
    "'''\n",
    "Combine all the previously calculated columns\n",
    "'''\n",
    "df_bal_tot = pd.merge(left=df_bal, \n",
    "                      right=df_bal_kor_stk[['iqr_dt','cus_no', 'tot_aet_amt']], \n",
    "                      on=['cus_no', 'iqr_dt'], \n",
    "                      suffixes=('', '_kor_stk'), \n",
    "                      how='left')\n",
    "df_bal_tot = pd.merge(left=df_bal_tot, \n",
    "                      right=df_bal_ovs_stk[['iqr_dt','cus_no', 'tot_aet_amt']], \n",
    "                      on=['cus_no', 'iqr_dt'], \n",
    "                      suffixes=('', '_ovs_stk'), \n",
    "                      how='left')\n",
    "df_bal_tot = pd.merge(left=df_bal_tot, \n",
    "                      right=df_bal_kor_etf[['iqr_dt','cus_no', 'tot_aet_amt']], \n",
    "                      on=['cus_no', 'iqr_dt'], \n",
    "                      suffixes=('', '_kor_etf'), \n",
    "                      \n",
    "                      how='left')\n",
    "df_bal_tot = pd.merge(left=df_bal_tot, \n",
    "                      right=df_bal_ovs_etf[['iqr_dt','cus_no', 'tot_aet_amt']], \n",
    "                      on=['cus_no', 'iqr_dt'], \n",
    "                      suffixes=('', '_ovs_etf'), \n",
    "                      how='left')\n",
    "df_bal_tot.shape #(144907, 7)"
   ]
  },
  {
   "cell_type": "code",
   "execution_count": 13,
   "metadata": {},
   "outputs": [],
   "source": [
    "'''\n",
    "Fill NaN values in merged columns with 0\n",
    "'''\n",
    "df_bal_tot[['tot_aet_amt_kor_stk', \n",
    "            'tot_aet_amt_ovs_stk', \n",
    "            'tot_aet_amt_kor_etf', \n",
    "            'tot_aet_amt_ovs_etf']] = df_bal_tot[['tot_aet_amt_kor_stk', \n",
    "                                                  'tot_aet_amt_ovs_stk', \n",
    "                                                  'tot_aet_amt_kor_etf', \n",
    "                                                  'tot_aet_amt_ovs_etf']].fillna(0)"
   ]
  },
  {
   "cell_type": "code",
   "execution_count": 14,
   "metadata": {},
   "outputs": [],
   "source": [
    "'''\n",
    "Break the dataframe into a list (by each date)\n",
    "Create sub-columns that depend on other columns\n",
    "'''\n",
    "df_bal_list = []\n",
    "for i in df_bal_tot['iqr_dt'].unique():\n",
    "    df = df_bal_tot[df_bal_tot['iqr_dt'] == i]\n",
    "    df = pd.merge(left=df_cus_w, right=df, on='cus_no', suffixes=('',''))\n",
    "    df['kor_etf_ratio'] = df['tot_aet_amt_kor_etf'] / (df['tot_aet_amt_kor_stk']+df['tot_aet_amt_kor_etf'])\n",
    "    df['ovs_etf_ratio'] = df['tot_aet_amt_ovs_etf'] / (df['tot_aet_amt_ovs_stk']+df['tot_aet_amt_ovs_etf'])\n",
    "    df['kor_ovs_amt_ratio'] = (df['tot_aet_amt_ovs_stk']+df['tot_aet_amt_ovs_etf'] )/ df['tot_aet_amt']\n",
    "    df[['kor_etf_ratio', 'ovs_etf_ratio', 'kor_ovs_amt_ratio']] = df[['kor_etf_ratio', 'ovs_etf_ratio', 'kor_ovs_amt_ratio']].fillna(0)\n",
    "    df_bal_list.append(df)"
   ]
  },
  {
   "cell_type": "code",
   "execution_count": 15,
   "metadata": {},
   "outputs": [
    {
     "data": {
      "text/plain": [
       "(492, 10)"
      ]
     },
     "execution_count": 15,
     "metadata": {},
     "output_type": "execute_result"
    }
   ],
   "source": [
    "'''\n",
    "To cluster customers between 10 to 30 years old,\n",
    "analyze their account info as of Dec. 31, 2021\n",
    "'''\n",
    "ten_thirty = df_bal_list[364].set_index(keys='cus_no')\n",
    "ten_thirty = ten_thirty.drop(['ivs_icn_cd', 'iqr_dt', 'zip_ctp_cd', 'tco_cus_grd_cd'], axis=1) #drop unused columns\n",
    "ten_thirty ['sex_dit_cd'] = ten_thirty['sex_dit_cd'].replace({1:'M', 2:'F'}) #categorize \n",
    "\n",
    "#Uncommenting the lines below will log the asset values \n",
    "ten_thirty[['tot_aet_amt_kor_stk',\n",
    "            'tot_aet_amt_ovs_stk',\n",
    "            'tot_aet_amt_kor_etf',\n",
    "            'tot_aet_amt_ovs_etf']] = np.log10(ten_thirty[['tot_aet_amt_kor_stk',\n",
    "                                                        'tot_aet_amt_ovs_stk',\n",
    "                                                        'tot_aet_amt_kor_etf',\n",
    "                                                        'tot_aet_amt_ovs_etf']],\n",
    "                                             where = (ten_thirty[['tot_aet_amt_kor_stk',\n",
    "                                                        'tot_aet_amt_ovs_stk',\n",
    "                                                        'tot_aet_amt_kor_etf',\n",
    "                                                        'tot_aet_amt_ovs_etf']] != 0))\n",
    "ten_thirty.shape #(492, 10)"
   ]
  },
  {
   "cell_type": "code",
   "execution_count": 16,
   "metadata": {},
   "outputs": [
    {
     "data": {
      "text/plain": [
       "(492, 492)"
      ]
     },
     "execution_count": 16,
     "metadata": {},
     "output_type": "execute_result"
    }
   ],
   "source": [
    "'''\n",
    "import 'gower' library\n",
    "calculate the gower distance between each customer based on selected columns\n",
    "save the distance info into a matrix\n",
    "\n",
    "'''\n",
    "dist_mat = pd.DataFrame(gower.gower_matrix(ten_thirty[['cus_age',\n",
    "                                                      'tot_aet_amt_kor_stk',\n",
    "                                                      'tot_aet_amt_ovs_stk',\n",
    "                                                      'tot_aet_amt_kor_etf',\n",
    "                                                      'tot_aet_amt_ovs_etf',\n",
    "                                                      ]]), index=ten_thirty .index, columns=ten_thirty.index)\n",
    "dist_mat.shape #(492, 492)"
   ]
  },
  {
   "cell_type": "code",
   "execution_count": 17,
   "metadata": {},
   "outputs": [
    {
     "data": {
      "text/plain": [
       "DBSCAN(algorithm='auto', eps=0.09, leaf_size=30, metric='precomputed',\n",
       "       metric_params=None, min_samples=20, n_jobs=None, p=None)"
      ]
     },
     "execution_count": 17,
     "metadata": {},
     "output_type": "execute_result"
    }
   ],
   "source": [
    "'''\n",
    "define DBSCAM model with parameters\n",
    "because dist_mat is already calculated, use metric='precomputed'\n",
    "fit the model\n",
    "'''\n",
    "dbscan_cluster = DBSCAN(eps=0.09, min_samples=20, metric='precomputed')\n",
    "dbscan_cluster.fit(dist_mat)"
   ]
  },
  {
   "cell_type": "code",
   "execution_count": null,
   "metadata": {},
   "outputs": [],
   "source": [
    "'''\n",
    "group labels to count the number of data points in each cluster\n",
    "'''\n",
    "ten_thirty ['cluster'] = dbscan_cluster.labels_\n",
    "ten_thirty_grp = ten_thirty.groupby('cluster').count()\n",
    "ten_thirty_grp"
   ]
  },
  {
   "cell_type": "code",
   "execution_count": null,
   "metadata": {},
   "outputs": [],
   "source": [
    "'''\n",
    "briefyly get the idea of how data points are being clustered\n",
    "'''\n",
    "ten_thirty.groupby('cluster').mean()"
   ]
  },
  {
   "cell_type": "code",
   "execution_count": null,
   "metadata": {},
   "outputs": [],
   "source": [
    "'''\n",
    "re-cluster the outliers with a higher eps value\n",
    "'''\n",
    "ten_thirty_x = ten_thirty.copy()[ten_thirty['cluster'] == -1]\n",
    "dist_mat_x = pd.DataFrame(gower.gower_matrix(ten_thirty_x), index=ten_thirty_x .index, columns=ten_thirty_x.index)\n",
    "dbscan_cluster_x = DBSCAN(eps=0.2, min_samples=15, metric='precomputed')\n",
    "dbscan_cluster_x.fit(dist_mat_x)"
   ]
  },
  {
   "cell_type": "code",
   "execution_count": null,
   "metadata": {},
   "outputs": [],
   "source": [
    "ten_thirty_x['cluster'] = dbscan_cluster_x.labels_\n",
    "ten_thirty_x_grp = ten_thirty_x.groupby('cluster').count()\n",
    "ten_thirty_x_grp"
   ]
  },
  {
   "cell_type": "code",
   "execution_count": null,
   "metadata": {},
   "outputs": [],
   "source": [
    "ten_thirty_x.groupby('cluster').mean()"
   ]
  },
  {
   "cell_type": "code",
   "execution_count": 23,
   "metadata": {},
   "outputs": [],
   "source": [
    "'''\n",
    "For each cluster, print out the top five popular stocks on Dec. 31, 2021\n",
    "'''\n",
    "\n",
    "def top_five(i):\n",
    "    return df_trd[(df_trd['iqr_dt'] == 20211231) \n",
    "           & (df_trd['cus_no'].isin(ten_thirty[ten_thirty['cluster'] == i-1].reset_index()['cus_no']))].groupby('iem_krl_anm').count().sort_values(by='iqr_dt', \n",
    "                                                                                                                                                 ascending=False)['cus_no'].head() / ten_thirty_grp['cus_age'][i-1]"
   ]
  },
  {
   "cell_type": "code",
   "execution_count": null,
   "metadata": {},
   "outputs": [],
   "source": [
    "'''\n",
    "outliers of outlier group\n",
    "'''\n",
    "i = 0\n",
    "df_trd[(df_trd['iqr_dt'] == 20211231) \n",
    "           & (df_trd['cus_no'].isin(ten_thirty_x[ten_thirty_x['cluster'] == i-1].reset_index()['cus_no']))].groupby('iem_krl_anm').count().sort_values(by='iqr_dt', \n",
    "                                                                                                                                                 ascending=False)['cus_no'].head() / ten_thirty_x_grp['cus_age'][i-1]"
   ]
  },
  {
   "cell_type": "code",
   "execution_count": null,
   "metadata": {},
   "outputs": [],
   "source": [
    "'''\n",
    "cluster 0 of outlier group\n",
    "'''\n",
    "i = 1\n",
    "df_trd[(df_trd['iqr_dt'] == 20211231) \n",
    "           & (df_trd['cus_no'].isin(ten_thirty_x[ten_thirty_x['cluster'] == i-1].reset_index()['cus_no']))].groupby('iem_krl_anm').count().sort_values(by='iqr_dt', \n",
    "                                                                                                                                                 ascending=False)['cus_no'].head() / ten_thirty_x_grp['cus_age'][i-1]"
   ]
  },
  {
   "cell_type": "code",
   "execution_count": null,
   "metadata": {},
   "outputs": [],
   "source": [
    "'''\n",
    "for each cluster, print out the top 5 popular stocks\n",
    "'''\n",
    "for i in range(len(ten_thirty_grp)):\n",
    "    print('Group:' + str(i-1))\n",
    "    display(top_five(i))"
   ]
  },
  {
   "cell_type": "markdown",
   "metadata": {},
   "source": [
    "Below is to show how hierarchical DBSCAN clustering works "
   ]
  },
  {
   "cell_type": "code",
   "execution_count": 27,
   "metadata": {},
   "outputs": [],
   "source": [
    "ten_thirty_db = ten_thirty.copy()[['tot_aet_amt',\n",
    "                                                          'kor_ovs_amt_ratio'\n",
    "                                                      ]]\n",
    "dist_mat_db = pd.DataFrame(gower.gower_matrix(ten_thirty_db), index=ten_thirty_db.index, columns=ten_thirty_db.index)"
   ]
  },
  {
   "cell_type": "code",
   "execution_count": null,
   "metadata": {},
   "outputs": [],
   "source": [
    "dbscan_cluster_db = DBSCAN(eps=0.09, min_samples=20, metric='precomputed')\n",
    "dbscan_cluster_db.fit(dist_mat_db)\n",
    "\n",
    "ten_thirty_db['cluster'] = dbscan_cluster_db.labels_\n",
    "ten_thirty_grp_db = ten_thirty_db.groupby('cluster').count()\n",
    "ten_thirty_grp_db"
   ]
  },
  {
   "cell_type": "code",
   "execution_count": null,
   "metadata": {},
   "outputs": [],
   "source": [
    "cmap = plt.cm.get_cmap(\"Spectral\")\n",
    "colors = cmap((ten_thirty_db['cluster']+1) / 7)\n",
    "plt.scatter(ten_thirty_db['tot_aet_amt'], ten_thirty_db['kor_ovs_amt_ratio'], c=colors)\n",
    "plt.show()"
   ]
  },
  {
   "cell_type": "code",
   "execution_count": null,
   "metadata": {},
   "outputs": [],
   "source": [
    "ten_thirty_db_0 = ten_thirty_db[ten_thirty_db['cluster'] == 0].copy()\n",
    "dist_mat_db_0 = pd.DataFrame(gower.gower_matrix(ten_thirty_db_0), \n",
    "                             index=ten_thirty_db_0.index, \n",
    "                             columns=ten_thirty_db_0.index)\n",
    "dbscan_cluster_db_0 = DBSCAN(eps=0.05, min_samples=2, metric='precomputed')\n",
    "dbscan_cluster_db_0.fit(dist_mat_db_0)\n",
    "\n",
    "ten_thirty_db_0['cluster'] = dbscan_cluster_db_0.labels_\n",
    "ten_thirty_grp_db_0 = ten_thirty_db_0.groupby('cluster').count()\n",
    "cmap = plt.cm.get_cmap(\"Spectral\")\n",
    "colors = cmap((ten_thirty_db_0['cluster']+1) / 3.5)\n",
    "plt.scatter(ten_thirty_db_0['tot_aet_amt'], ten_thirty_db_0['kor_ovs_amt_ratio'], c=colors)\n",
    "plt.show()"
   ]
  },
  {
   "cell_type": "code",
   "execution_count": null,
   "metadata": {},
   "outputs": [],
   "source": [
    "ten_thirty_db_0 = ten_thirty_db[ten_thirty_db['cluster'] == -1].copy()\n",
    "dist_mat_db_0 = pd.DataFrame(gower.gower_matrix(ten_thirty_db_0), \n",
    "                             index=ten_thirty_db_0.index, \n",
    "                             columns=ten_thirty_db_0.index)\n",
    "dbscan_cluster_db_0 = DBSCAN(eps=0.2, min_samples=2, metric='precomputed')\n",
    "dbscan_cluster_db_0.fit(dist_mat_db_0)\n",
    "\n",
    "ten_thirty_db_0['cluster'] = dbscan_cluster_db_0.labels_\n",
    "ten_thirty_grp_db_0 = ten_thirty_db_0.groupby('cluster').count()\n",
    "cmap = plt.cm.get_cmap(\"Spectral\")\n",
    "colors = cmap((ten_thirty_db_0['cluster']+1) / 1.2)\n",
    "plt.scatter(ten_thirty_db_0['tot_aet_amt'], ten_thirty_db_0['kor_ovs_amt_ratio'], c=colors)\n",
    "plt.show()"
   ]
  }
 ],
 "metadata": {
  "kernelspec": {
   "display_name": "Python 3",
   "language": "python",
   "name": "python3"
  },
  "language_info": {
   "codemirror_mode": {
    "name": "ipython",
    "version": 3
   },
   "file_extension": ".py",
   "mimetype": "text/x-python",
   "name": "python",
   "nbconvert_exporter": "python",
   "pygments_lexer": "ipython3",
   "version": "3.6.10"
  }
 },
 "nbformat": 4,
 "nbformat_minor": 4
}
