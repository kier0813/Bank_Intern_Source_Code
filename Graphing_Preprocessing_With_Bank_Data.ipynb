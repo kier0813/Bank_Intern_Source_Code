{
 "cells": [
  {
   "cell_type": "code",
   "execution_count": 2,
   "metadata": {},
   "outputs": [],
   "source": [
    "import pandas as pd\n",
    "import matplotlib.pyplot as plt\n",
    "import seaborn as sns\n",
    "import numpy as np"
   ]
  },
  {
   "cell_type": "code",
   "execution_count": 3,
   "metadata": {},
   "outputs": [],
   "source": [
    "#Importing account info, customer info, transaction info, stock info\n",
    "df_acc = pd.read_csv('../계좌정보.csv')\n",
    "df_cus = pd.read_csv('../고객정보.csv')\n",
    "df_trn = pd.read_csv('../국내주식매매정보.csv')\n",
    "df_tic = pd.read_csv('../종목정보.csv')"
   ]
  },
  {
   "cell_type": "code",
   "execution_count": 4,
   "metadata": {},
   "outputs": [],
   "source": [
    "#Preprocessing the imported data\n",
    "df_num_trn = df_trn.copy().groupby('act_id').count() #number of transactions in 2020 for each account\n",
    "df_num_trn['sum_num_trn'] = df_num_trn['orr_dt']\n",
    "\n",
    "df_acc_trn = df_acc.join(df_num_trn['sum_num_trn'], on='act_id')\n",
    "df_acc_trn = df_acc_trn.copy()[df_acc_trn['sum_num_trn'].notnull()]\n",
    "df_acc_trn = df_acc_trn.groupby('cus_id').sum()\n",
    "\n",
    "df_cus_trn = df_cus.join(df_acc_trn['sum_num_trn'], on='cus_id')\n",
    "df_cus_trn = df_cus_trn[(df_cus_trn['sum_num_trn'].notnull()) & (df_cus_trn['tco_cus_grd_cd'] != '_ ')]"
   ]
  },
  {
   "cell_type": "code",
   "execution_count": 5,
   "metadata": {},
   "outputs": [
    {
     "data": {
      "text/html": [
       "<div>\n",
       "<style scoped>\n",
       "    .dataframe tbody tr th:only-of-type {\n",
       "        vertical-align: middle;\n",
       "    }\n",
       "\n",
       "    .dataframe tbody tr th {\n",
       "        vertical-align: top;\n",
       "    }\n",
       "\n",
       "    .dataframe thead th {\n",
       "        text-align: right;\n",
       "    }\n",
       "</style>\n",
       "<table border=\"1\" class=\"dataframe\">\n",
       "  <thead>\n",
       "    <tr style=\"text-align: right;\">\n",
       "      <th></th>\n",
       "      <th>cus_id</th>\n",
       "      <th>sex_dit_cd</th>\n",
       "      <th>cus_age</th>\n",
       "      <th>tco_cus_grd_cd</th>\n",
       "      <th>sum_num_trn</th>\n",
       "    </tr>\n",
       "  </thead>\n",
       "  <tbody>\n",
       "    <tr>\n",
       "      <th>0</th>\n",
       "      <td>4d8b277319e2b9702558e2051e3921b7577b8f91af1c57...</td>\n",
       "      <td>1</td>\n",
       "      <td>(54, 70]</td>\n",
       "      <td>04</td>\n",
       "      <td>43.0</td>\n",
       "    </tr>\n",
       "    <tr>\n",
       "      <th>1</th>\n",
       "      <td>6dd7a26cd20b8bf9f1a21112cdf6484f8d39941e927d5c...</td>\n",
       "      <td>1</td>\n",
       "      <td>(54, 70]</td>\n",
       "      <td>01</td>\n",
       "      <td>1.0</td>\n",
       "    </tr>\n",
       "    <tr>\n",
       "      <th>4</th>\n",
       "      <td>521ed7bcd25272bedf5c8b539873fb342e318b22b4fcaf...</td>\n",
       "      <td>1</td>\n",
       "      <td>(54, 70]</td>\n",
       "      <td>03</td>\n",
       "      <td>1.0</td>\n",
       "    </tr>\n",
       "    <tr>\n",
       "      <th>5</th>\n",
       "      <td>ad142f0657873f53455432ff4b336e53dc8905b8e70698...</td>\n",
       "      <td>1</td>\n",
       "      <td>(54, 70]</td>\n",
       "      <td>02</td>\n",
       "      <td>4.0</td>\n",
       "    </tr>\n",
       "    <tr>\n",
       "      <th>6</th>\n",
       "      <td>2cdbbc8097fbd2abbf4dcc8779d0b742ba7a13e5211155...</td>\n",
       "      <td>1</td>\n",
       "      <td>(54, 70]</td>\n",
       "      <td>09</td>\n",
       "      <td>4.0</td>\n",
       "    </tr>\n",
       "  </tbody>\n",
       "</table>\n",
       "</div>"
      ],
      "text/plain": [
       "                                              cus_id  sex_dit_cd   cus_age  \\\n",
       "0  4d8b277319e2b9702558e2051e3921b7577b8f91af1c57...           1  (54, 70]   \n",
       "1  6dd7a26cd20b8bf9f1a21112cdf6484f8d39941e927d5c...           1  (54, 70]   \n",
       "4  521ed7bcd25272bedf5c8b539873fb342e318b22b4fcaf...           1  (54, 70]   \n",
       "5  ad142f0657873f53455432ff4b336e53dc8905b8e70698...           1  (54, 70]   \n",
       "6  2cdbbc8097fbd2abbf4dcc8779d0b742ba7a13e5211155...           1  (54, 70]   \n",
       "\n",
       "  tco_cus_grd_cd  sum_num_trn  \n",
       "0             04         43.0  \n",
       "1             01          1.0  \n",
       "4             03          1.0  \n",
       "5             02          4.0  \n",
       "6             09          4.0  "
      ]
     },
     "execution_count": 5,
     "metadata": {},
     "output_type": "execute_result"
    }
   ],
   "source": [
    "# Making age bin\n",
    "r = np.array([0, 24, 39, 54, 70])\n",
    "df_cus_trns = df_cus_trn.drop(columns=['ivs_icn_cd', 'zip_ctp_cd'])\n",
    "df_cus_trns['cus_age'] = pd.cut(df_cus_trn['cus_age'], r)\n",
    "df_cus_trns.head()"
   ]
  },
  {
   "cell_type": "code",
   "execution_count": 6,
   "metadata": {},
   "outputs": [
    {
     "data": {
      "text/plain": [
       "<seaborn.axisgrid.PairGrid at 0x7f1f943ade10>"
      ]
     },
     "execution_count": 6,
     "metadata": {},
     "output_type": "execute_result"
    },
    {
     "data": {
      "image/png": "[encoded data removed]",
      "text/plain": [
       "<Figure size 720x720 with 20 Axes>"
      ]
     },
     "metadata": {
      "needs_background": "light"
     },
     "output_type": "display_data"
    }
   ],
   "source": [
    "#Making 2D Matrix scatter plot to find any pattern\n",
    "sns.pairplot(df_cus_trn[['sex_dit_cd', 'cus_age', 'tco_cus_grd_cd', 'sum_num_trn']])"
   ]
  },
  {
   "cell_type": "code",
   "execution_count": 39,
   "metadata": {},
   "outputs": [
    {
     "data": {
      "text/plain": [
       "<matplotlib.collections.PathCollection at 0x7f42f2731ac8>"
      ]
     },
     "execution_count": 39,
     "metadata": {},
     "output_type": "execute_result"
    },
    {
     "data": {
      "image/png": "[encoded data removed]",
      "text/plain": [
       "<Figure size 432x288 with 1 Axes>"
      ]
     },
     "metadata": {
      "needs_background": "light"
     },
     "output_type": "display_data"
    }
   ],
   "source": [
    "# Checking specific plot to get a closer look\n",
    "plt.scatter(x= df_cus_trn['sum_num_trn'], y= df_cus_trn['tco_cus_grd_cd'])"
   ]
  },
  {
   "cell_type": "code",
   "execution_count": 86,
   "metadata": {},
   "outputs": [
    {
     "data": {
      "text/html": [
       "<div>\n",
       "<style scoped>\n",
       "    .dataframe tbody tr th:only-of-type {\n",
       "        vertical-align: middle;\n",
       "    }\n",
       "\n",
       "    .dataframe tbody tr th {\n",
       "        vertical-align: top;\n",
       "    }\n",
       "\n",
       "    .dataframe thead th {\n",
       "        text-align: right;\n",
       "    }\n",
       "</style>\n",
       "<table border=\"1\" class=\"dataframe\">\n",
       "  <thead>\n",
       "    <tr style=\"text-align: right;\">\n",
       "      <th></th>\n",
       "      <th>cus_id</th>\n",
       "      <th>sex_dit_cd</th>\n",
       "      <th>cus_age</th>\n",
       "      <th>zip_ctp_cd</th>\n",
       "      <th>tco_cus_grd_cd</th>\n",
       "      <th>sum_num_trn</th>\n",
       "    </tr>\n",
       "  </thead>\n",
       "  <tbody>\n",
       "    <tr>\n",
       "      <th>0</th>\n",
       "      <td>4d8b277319e2b9702558e2051e3921b7577b8f91af1c57...</td>\n",
       "      <td>1</td>\n",
       "      <td>70</td>\n",
       "      <td>29</td>\n",
       "      <td>04</td>\n",
       "      <td>43.0</td>\n",
       "    </tr>\n",
       "    <tr>\n",
       "      <th>1</th>\n",
       "      <td>6dd7a26cd20b8bf9f1a21112cdf6484f8d39941e927d5c...</td>\n",
       "      <td>1</td>\n",
       "      <td>70</td>\n",
       "      <td>27</td>\n",
       "      <td>01</td>\n",
       "      <td>1.0</td>\n",
       "    </tr>\n",
       "    <tr>\n",
       "      <th>4</th>\n",
       "      <td>521ed7bcd25272bedf5c8b539873fb342e318b22b4fcaf...</td>\n",
       "      <td>1</td>\n",
       "      <td>70</td>\n",
       "      <td>41</td>\n",
       "      <td>03</td>\n",
       "      <td>1.0</td>\n",
       "    </tr>\n",
       "    <tr>\n",
       "      <th>5</th>\n",
       "      <td>ad142f0657873f53455432ff4b336e53dc8905b8e70698...</td>\n",
       "      <td>1</td>\n",
       "      <td>70</td>\n",
       "      <td>30</td>\n",
       "      <td>02</td>\n",
       "      <td>4.0</td>\n",
       "    </tr>\n",
       "    <tr>\n",
       "      <th>6</th>\n",
       "      <td>2cdbbc8097fbd2abbf4dcc8779d0b742ba7a13e5211155...</td>\n",
       "      <td>1</td>\n",
       "      <td>70</td>\n",
       "      <td>11</td>\n",
       "      <td>09</td>\n",
       "      <td>4.0</td>\n",
       "    </tr>\n",
       "  </tbody>\n",
       "</table>\n",
       "</div>"
      ],
      "text/plain": [
       "                                              cus_id  sex_dit_cd  cus_age  \\\n",
       "0  4d8b277319e2b9702558e2051e3921b7577b8f91af1c57...           1       70   \n",
       "1  6dd7a26cd20b8bf9f1a21112cdf6484f8d39941e927d5c...           1       70   \n",
       "4  521ed7bcd25272bedf5c8b539873fb342e318b22b4fcaf...           1       70   \n",
       "5  ad142f0657873f53455432ff4b336e53dc8905b8e70698...           1       70   \n",
       "6  2cdbbc8097fbd2abbf4dcc8779d0b742ba7a13e5211155...           1       70   \n",
       "\n",
       "  zip_ctp_cd tco_cus_grd_cd  sum_num_trn  \n",
       "0         29             04         43.0  \n",
       "1         27             01          1.0  \n",
       "4         41             03          1.0  \n",
       "5         30             02          4.0  \n",
       "6         11             09          4.0  "
      ]
     },
     "execution_count": 86,
     "metadata": {},
     "output_type": "execute_result"
    }
   ],
   "source": [
    "# Dropping columns in order to do preprocessing\n",
    "df_cus_trnss = df_cus_trn.drop(columns=['ivs_icn_cd'])\n",
    "df_cus_copy = df_cus_trnss.copy()\n",
    "df_cus_copy.head()"
   ]
  },
  {
   "cell_type": "code",
   "execution_count": 87,
   "metadata": {},
   "outputs": [
    {
     "data": {
      "text/html": [
       "<div>\n",
       "<style scoped>\n",
       "    .dataframe tbody tr th:only-of-type {\n",
       "        vertical-align: middle;\n",
       "    }\n",
       "\n",
       "    .dataframe tbody tr th {\n",
       "        vertical-align: top;\n",
       "    }\n",
       "\n",
       "    .dataframe thead th {\n",
       "        text-align: right;\n",
       "    }\n",
       "</style>\n",
       "<table border=\"1\" class=\"dataframe\">\n",
       "  <thead>\n",
       "    <tr style=\"text-align: right;\">\n",
       "      <th></th>\n",
       "      <th>cus_id</th>\n",
       "      <th>sex_dit_cd</th>\n",
       "      <th>cus_age</th>\n",
       "      <th>zip_ctp_cd</th>\n",
       "      <th>tco_cus_grd_cd</th>\n",
       "      <th>sum_num_trn</th>\n",
       "    </tr>\n",
       "  </thead>\n",
       "  <tbody>\n",
       "    <tr>\n",
       "      <th>0</th>\n",
       "      <td>1538</td>\n",
       "      <td>0</td>\n",
       "      <td>11</td>\n",
       "      <td>5</td>\n",
       "      <td>3</td>\n",
       "      <td>42</td>\n",
       "    </tr>\n",
       "    <tr>\n",
       "      <th>1</th>\n",
       "      <td>2185</td>\n",
       "      <td>0</td>\n",
       "      <td>11</td>\n",
       "      <td>3</td>\n",
       "      <td>0</td>\n",
       "      <td>0</td>\n",
       "    </tr>\n",
       "    <tr>\n",
       "      <th>4</th>\n",
       "      <td>1627</td>\n",
       "      <td>0</td>\n",
       "      <td>11</td>\n",
       "      <td>9</td>\n",
       "      <td>2</td>\n",
       "      <td>0</td>\n",
       "    </tr>\n",
       "    <tr>\n",
       "      <th>5</th>\n",
       "      <td>3492</td>\n",
       "      <td>0</td>\n",
       "      <td>11</td>\n",
       "      <td>6</td>\n",
       "      <td>1</td>\n",
       "      <td>3</td>\n",
       "    </tr>\n",
       "    <tr>\n",
       "      <th>6</th>\n",
       "      <td>879</td>\n",
       "      <td>0</td>\n",
       "      <td>11</td>\n",
       "      <td>1</td>\n",
       "      <td>5</td>\n",
       "      <td>3</td>\n",
       "    </tr>\n",
       "  </tbody>\n",
       "</table>\n",
       "</div>"
      ],
      "text/plain": [
       "   cus_id  sex_dit_cd  cus_age  zip_ctp_cd  tco_cus_grd_cd  sum_num_trn\n",
       "0    1538           0       11           5               3           42\n",
       "1    2185           0       11           3               0            0\n",
       "4    1627           0       11           9               2            0\n",
       "5    3492           0       11           6               1            3\n",
       "6     879           0       11           1               5            3"
      ]
     },
     "execution_count": 87,
     "metadata": {},
     "output_type": "execute_result"
    }
   ],
   "source": [
    "from sklearn import preprocessing\n",
    "\n",
    "#Data preparation by label encoder\n",
    "le = preprocessing.LabelEncoder()\n",
    "bank_cus = df_cus_trnss.apply(le.fit_transform)\n",
    "bank_cus.head()"
   ]
  },
  {
   "cell_type": "code",
   "execution_count": 88,
   "metadata": {},
   "outputs": [
    {
     "data": {
      "text/plain": [
       "cus_id            0\n",
       "sex_dit_cd        0\n",
       "cus_age           0\n",
       "zip_ctp_cd        0\n",
       "tco_cus_grd_cd    0\n",
       "sum_num_trn       0\n",
       "dtype: int64"
      ]
     },
     "execution_count": 88,
     "metadata": {},
     "output_type": "execute_result"
    }
   ],
   "source": [
    "#Making sure dataset have no NULL values\n",
    "bank_cus.isnull().sum()\n",
    "\n",
    "#Did not do further after sklearn preprocessing with label encoder due to the fact that values were already numerical"
   ]
  },
  {
   "cell_type": "code",
   "execution_count": null,
   "metadata": {},
   "outputs": [],
   "source": []
  }
 ],
 "metadata": {
  "kernelspec": {
   "display_name": "Python 3",
   "language": "python",
   "name": "python3"
  },
  "language_info": {
   "codemirror_mode": {
    "name": "ipython",
    "version": 3
   },
   "file_extension": ".py",
   "mimetype": "text/x-python",
   "name": "python",
   "nbconvert_exporter": "python",
   "pygments_lexer": "ipython3",
   "version": "3.6.10"
  }
 },
 "nbformat": 4,
 "nbformat_minor": 4
}
