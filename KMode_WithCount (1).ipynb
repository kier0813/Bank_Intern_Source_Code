{
 "cells": [
  {
   "cell_type": "code",
   "execution_count": 102,
   "metadata": {},
   "outputs": [],
   "source": [
    "import pandas as pd\n",
    "import numpy as np\n",
    "import matplotlib.pyplot as plt\n",
    "import seaborn as sns\n"
   ]
  },
  {
   "cell_type": "code",
   "execution_count": null,
   "metadata": {},
   "outputs": [],
   "source": [
    "# Column Names are changed manually\n",
    "table_nm = 'DLAB' \n",
    "names = ['iqr_dt','cus_no','act_no','mkt_gb','pdt_gb','iem_cd','iem_krl_anm','bnc_qty','tot_aet_amt'] \n",
    "\n",
    "file_path = f'/home/{table_nm}.csv' \n",
    "df_trd = pd.read_csv(file_path,  names = names) \n",
    "df_trd.head()"
   ]
  },
  {
   "cell_type": "code",
   "execution_count": null,
   "metadata": {},
   "outputs": [],
   "source": [
    "#df_cus 불러오기\n",
    "table_nm = 'DLAB2' \n",
    "names = ['cus_no','sex_dit_cd','cus_age','zip_ctp_cd', 'tco_cus_grd_cd', 'ivs_icn_cd'] \n",
    "\n",
    "file_path = f'/home/{table_nm}.csv' \n",
    "df_cus = pd.read_csv(file_path,  names = names) \n",
    "df_cus.head()"
   ]
  },
  {
   "cell_type": "code",
   "execution_count": null,
   "metadata": {},
   "outputs": [],
   "source": [
    "#df_act 불러오기\n",
    "table_nm = 'DLAB3' \n",
    "names = ['act_no','cus_no','act_opn_ym'] \n",
    "\n",
    "file_path = f'/home/{table_nm}.csv' \n",
    "df_act = pd.read_csv(file_path,  names = names) \n",
    "df_act.head()"
   ]
  },
  {
   "cell_type": "code",
   "execution_count": 6,
   "metadata": {},
   "outputs": [],
   "source": [
    "# Making and cleaning data set to cluster\n",
    "df_bal = df_trd.copy()[['iqr_dt', 'cus_no', 'tot_aet_amt']].groupby(['iqr_dt', 'cus_no']).sum()\n",
    "df_bal = df_bal.reset_index()\n",
    "\n",
    "df_bal_kor = df_trd[df_trd['mkt_gb'] == '국내'].copy()[['iqr_dt', 'cus_no', 'tot_aet_amt']].groupby(['iqr_dt', 'cus_no']).sum()\n",
    "df_bal_kor = df_bal_kor.reset_index()\n",
    "\n",
    "df_bal_ovs = df_trd[df_trd['mkt_gb'] == '해외'].copy()[['iqr_dt', 'cus_no', 'tot_aet_amt']].groupby(['iqr_dt', 'cus_no']).sum()\n",
    "df_bal_ovs = df_bal_ovs.reset_index()\n",
    "\n",
    "df_bal_tot = pd.merge(left=df_bal, \n",
    "                      right=df_bal_kor[['iqr_dt','cus_no', 'tot_aet_amt']], \n",
    "                      on=['cus_no', 'iqr_dt'], \n",
    "                      suffixes=('', '_kr'), \n",
    "                      how='left')\n",
    "df_bal_tot = pd.merge(left=df_bal_tot, \n",
    "                      right=df_bal_ovs[['iqr_dt','cus_no', 'tot_aet_amt']], \n",
    "                      on=['cus_no', 'iqr_dt'], \n",
    "                      suffixes=('', '_ov'), \n",
    "                      how='left')\n",
    "\n",
    "df_bal_tot[['tot_aet_amt_kr', 'tot_aet_amt_ov']] = df_bal_tot[['tot_aet_amt_kr', 'tot_aet_amt_ov']].fillna(0)\n",
    "\n",
    "bank_cus = pd.merge(left=df_cus, right = df_bal_tot, on='cus_no', suffixes=('',''))\n",
    "bank_cus['ovs_ratio'] = bank_cus['tot_aet_amt_ov']/bank_cus['tot_aet_amt']"
   ]
  },
  {
   "cell_type": "code",
   "execution_count": 7,
   "metadata": {},
   "outputs": [],
   "source": [
    "df_bal_list = []\n",
    "df_bal_len = []\n",
    "df_cus_w = df_cus.copy()[(df_cus['cus_no'].isin(df_trd['cus_no'])) & ~(df_cus['cus_no'].isin(df_trd[(df_trd['iem_cd'] == \"US25459W4583\")]['cus_no']))]\n",
    "for i in df_bal_tot['iqr_dt'].unique():\n",
    "    df = df_bal_tot[df_bal_tot['iqr_dt'] == i]\n",
    "    df = pd.merge(left=df_cus_w, right=df, on='cus_no', suffixes=('','')) #if how='left', customers who haven't opened an account appear\n",
    "    df['ovs_ratio'] = df['tot_aet_amt_ov'] / df['tot_aet_amt']\n",
    "    df_bal_list.append(df)\n",
    "    df_bal_len.append(len(df))"
   ]
  },
  {
   "cell_type": "code",
   "execution_count": 8,
   "metadata": {},
   "outputs": [],
   "source": [
    "df_bal_list_10_19 = []\n",
    "df_bal_list_20_24 = []\n",
    "df_bal_list_25_30 = []\n",
    "for i in range(len(df_bal_list)):\n",
    "    df_bal_list_10_19.append(df_bal_list[i][(df_bal_list[i]['cus_age'] > 9) & (df_bal_list[i]['cus_age'] < 20)])\n",
    "    df_bal_list_20_24.append(df_bal_list[i][(df_bal_list[i]['cus_age'] > 19) & (df_bal_list[i]['cus_age'] < 25)])\n",
    "    df_bal_list_25_30.append(df_bal_list[i][(df_bal_list[i]['cus_age'] > 24) & (df_bal_list[i]['cus_age'] < 31)])"
   ]
  },
  {
   "cell_type": "code",
   "execution_count": 9,
   "metadata": {},
   "outputs": [],
   "source": [
    "#20대 초반 투자자 해외투자 비중 변화\n",
    "#20대 초반 투자자 해외투자액 변화\n",
    "\n",
    "df_list = df_bal_list_20_24\n",
    "num_ppl = []\n",
    "ovs_pct = []\n",
    "ovs_pct_ratio = []\n",
    "ovs_avg_ratio = []\n",
    "ovs_tot_amt = []\n",
    "for i in range(182):\n",
    "    df = df_list[i]\n",
    "    df_hlf = df[df['ovs_ratio'] > 0.5]\n",
    "    df_ovs = df[df['ovs_ratio'] > 0]\n",
    "    ovs_pct.append(len(df[df['ovs_ratio'] > 0])/len(df))\n",
    "    ovs_pct_ratio.append(len(df_hlf)/len(df_ovs))\n",
    "    ovs_avg_ratio.append(df_ovs['ovs_ratio'].mean())\n",
    "    ovs_tot_amt.append(df['tot_aet_amt_ov'].sum())"
   ]
  },
  {
   "cell_type": "code",
   "execution_count": null,
   "metadata": {},
   "outputs": [],
   "source": [
    "# Combining the dataset into one dataframe\n",
    "df_bank_cus = pd.concat([df_bal_list_10_19[181],df_bal_list_20_24[181],df_bal_list_25_30[181]], axis=0)\n",
    "df_bank_cus"
   ]
  },
  {
   "cell_type": "code",
   "execution_count": 101,
   "metadata": {},
   "outputs": [
    {
     "name": "stdout",
     "output_type": "stream",
     "text": [
      "\n"
     ]
    }
   ],
   "source": [
    "df_trd[['bnc_qty','cus_no','iqr_dt','iem_krl_anm']].groupby(['cus_no','iqr_dt','iem_krl_anm']).count()\n",
    "print()"
   ]
  },
  {
   "cell_type": "code",
   "execution_count": null,
   "metadata": {},
   "outputs": [],
   "source": [
    "# df_trd 테이블 조회 및 그룹\n",
    "df_trd_copy = df_trd.copy()\n",
    "df_test = df_trd_copy[df_trd_copy['bnc_qty'] !=  ' Inc.']\n",
    "bnc_int = df_test['bnc_qty'].astype(int)\n",
    "\n",
    "df_test['bnc_qty'] = bnc_int\n",
    "counting = df_test[['bnc_qty','cus_no','iqr_dt','iem_krl_anm']].groupby(['cus_no','iqr_dt','iem_krl_anm']).sum()\n",
    "\n",
    "df_trd.head()"
   ]
  },
  {
   "cell_type": "code",
   "execution_count": null,
   "metadata": {},
   "outputs": [],
   "source": [
    "# cus_no 별 bnc_qty 조회\n",
    "# Column Names are changed manually\n",
    "countings = df_test[['bnc_qty','cus_no','iqr_dt']].groupby(['cus_no','iqr_dt']).sum()\n",
    "\n",
    "getting_index = df_test[['cus_no','iqr_dt']].groupby(['cus_no']).count()\n",
    "index_countings = getting_index.index"
   ]
  },
  {
   "cell_type": "code",
   "execution_count": 14,
   "metadata": {},
   "outputs": [],
   "source": [
    "# 매매빈도를 위한 helper function \n",
    "# bnc_qty의 값이 다르면 counter 세기\n",
    "def counter(a,b):\n",
    "    count = 0\n",
    "    for i in range(a,b,1):\n",
    "        if i < (b-a)-1:\n",
    "            if countings['bnc_qty'][i] != countings['bnc_qty'][i+1]:\n",
    "                count += 1\n",
    "    return count\n",
    "\n",
    "lst = [0]\n",
    "for i in range(getting_index.shape[0]):\n",
    "    lst.append(getting_index['iqr_dt'].iloc[i])"
   ]
  },
  {
   "cell_type": "code",
   "execution_count": 18,
   "metadata": {},
   "outputs": [
    {
     "name": "stdout",
     "output_type": "stream",
     "text": [
      "\n"
     ]
    }
   ],
   "source": [
    "# Helper function 인 counter를 이용한 매매빈도 list 추출\n",
    "res = []\n",
    "for i in range(len(lst)):\n",
    "    if i < len(lst)-1:\n",
    "        n = lst[i] + lst[i+1]\n",
    "        val = counter(lst[i], n)\n",
    "    res.append(val)\n",
    "    \n",
    "res"
   ]
  },
  {
   "cell_type": "code",
   "execution_count": 100,
   "metadata": {},
   "outputs": [],
   "source": [
    "# 주식 매매빈도를 구하기 위한 정리\n",
    "df_trd.head()\n",
    "testing = df_trd.copy()\n",
    "vals = []\n",
    "for i in range(testing.shape[0]):\n",
    "    vals.append(1)\n",
    "\n",
    "testing['ones'] = vals\n",
    "\n",
    "countings = df_test[['bnc_qty','cus_no','iqr_dt']].groupby(['cus_no','iqr_dt']).sum()\n",
    "\n",
    "getting_index = df_test[['cus_no','iqr_dt']].groupby(['cus_no']).count()\n",
    "index_countings = getting_index.index\n",
    "\n",
    "testings = testing[['ones','cus_no','iqr_dt']].groupby(['cus_no','iqr_dt']).count()"
   ]
  },
  {
   "cell_type": "code",
   "execution_count": null,
   "metadata": {},
   "outputs": [],
   "source": [
    "# 주식 매매빈도 그래프\n",
    "getting_index['count'] = res[:440]\n",
    "getting_index\n",
    "\n",
    "counting_trade_num = getting_index.drop(columns = 'iqr_dt')\n",
    "counting_trade_num.hist(bins=15)"
   ]
  },
  {
   "cell_type": "code",
   "execution_count": null,
   "metadata": {},
   "outputs": [],
   "source": [
    "# Making and cleaning data set to cluster\n",
    "df_bal = df_trd.copy()[['iqr_dt', 'cus_no', 'tot_aet_amt']].groupby(['iqr_dt', 'cus_no']).sum()\n",
    "df_bal = df_bal.reset_index()\n",
    "\n",
    "df_bal_kor_stk = df_trd[(df_trd['mkt_gb'] == '국내') & (df_trd['pdt_gb'] == '주식')].copy()[['iqr_dt', 'cus_no', 'tot_aet_amt']].groupby(['iqr_dt', 'cus_no']).sum()\n",
    "df_bal_kor_stk = df_bal_kor_stk.reset_index()\n",
    "df_bal_ovs_stk = df_trd[(df_trd['mkt_gb'] == '해외') & (df_trd['pdt_gb'] == '주식')].copy()[['iqr_dt', 'cus_no', 'tot_aet_amt']].groupby(['iqr_dt', 'cus_no']).sum()\n",
    "df_bal_ovs_stk = df_bal_ovs_stk.reset_index()\n",
    "\n",
    "df_bal_kor_etf = df_trd[(df_trd['mkt_gb'] == '국내') & (df_trd['pdt_gb'] == 'ETF')].copy()[['iqr_dt', 'cus_no', 'tot_aet_amt']].groupby(['iqr_dt', 'cus_no']).sum()\n",
    "df_bal_kor_etf = df_bal_kor_etf.reset_index()\n",
    "df_bal_ovs_etf = df_trd[(df_trd['mkt_gb'] == '해외') & (df_trd['pdt_gb'] == 'ETF')].copy()[['iqr_dt', 'cus_no', 'tot_aet_amt']].groupby(['iqr_dt', 'cus_no']).sum()\n",
    "df_bal_ovs_etf = df_bal_ovs_etf.reset_index()\n",
    "\n",
    "\n",
    "df_bal_tot = pd.merge(left=df_bal, \n",
    "                      right=df_bal_kor_stk[['iqr_dt','cus_no', 'tot_aet_amt']], \n",
    "                      on=['cus_no', 'iqr_dt'], \n",
    "                      suffixes=('', '_kor_stk'), \n",
    "                      how='left')\n",
    "df_bal_tot = pd.merge(left=df_bal_tot, \n",
    "                      right=df_bal_ovs_stk[['iqr_dt','cus_no', 'tot_aet_amt']], \n",
    "                      on=['cus_no', 'iqr_dt'], \n",
    "                      suffixes=('', '_ovs_stk'), \n",
    "                      how='left')\n",
    "df_bal_tot = pd.merge(left=df_bal_tot, \n",
    "                      right=df_bal_kor_etf[['iqr_dt','cus_no', 'tot_aet_amt']], \n",
    "                      on=['cus_no', 'iqr_dt'], \n",
    "                      suffixes=('', '_kor_etf'), \n",
    "                      how='left')\n",
    "df_bal_tot = pd.merge(left=df_bal_tot, \n",
    "                      right=df_bal_ovs_etf[['iqr_dt','cus_no', 'tot_aet_amt']], \n",
    "                      on=['cus_no', 'iqr_dt'], \n",
    "                      suffixes=('', '_ovs_etf'), \n",
    "                      how='left')\n",
    "\n",
    "df_bal_tot[['tot_aet_amt_kor_stk', 'tot_aet_amt_ovs_stk', 'tot_aet_amt_kor_etf', 'tot_aet_amt_ovs_etf']] = df_bal_tot[['tot_aet_amt_kor_stk', 'tot_aet_amt_ovs_stk', 'tot_aet_amt_kor_etf', 'tot_aet_amt_ovs_etf']].fillna(0)\n",
    "\n",
    "df_bal_list = []\n",
    "df_bal_len = []\n",
    "for i in df_bal_tot['iqr_dt'].unique():\n",
    "    df = df_bal_tot[df_bal_tot['iqr_dt'] == i]\n",
    "    df = pd.merge(left=df_cus_w, right=df, on='cus_no', suffixes=('','')) #if how='left', customers who haven't opened an account appear\n",
    "    df['kor_etf_ratio'] = df['tot_aet_amt_kor_etf'] / (df['tot_aet_amt_kor_stk']+df['tot_aet_amt_kor_etf'])\n",
    "    df['ovs_etf_ratio'] = df['tot_aet_amt_ovs_etf'] / (df['tot_aet_amt_ovs_stk']+df['tot_aet_amt_ovs_etf'])\n",
    "    df[['kor_etf_ratio', 'ovs_etf_ratio']] = df[['kor_etf_ratio', 'ovs_etf_ratio']].fillna(0)\n",
    "    df_bal_list.append(df)\n",
    "    df_bal_len.append(len(df))\n",
    "    \n",
    "df_getting = df_bal_list[181]\n",
    "df_getting['cus_no']"
   ]
  },
  {
   "cell_type": "code",
   "execution_count": null,
   "metadata": {},
   "outputs": [],
   "source": [
    "# Adding Count column to the modified data\n",
    "counting_trade = counting_trade_num.reset_index()\n",
    "count = counting_trade[counting_trade['cus_no'].isin(df_getting['cus_no'])]\n",
    "count = count.set_index('cus_no')\n",
    "count_lst = []\n",
    "for i in count['count']:\n",
    "    count_lst.append(i)\n",
    "len(count_lst)\n"
   ]
  },
  {
   "cell_type": "code",
   "execution_count": null,
   "metadata": {},
   "outputs": [],
   "source": [
    "# Final df_bank_cus data set to cluster \n",
    "ten_thirty = df_bal_list[181].set_index(keys='cus_no')\n",
    "df_bank_cus_copy = ten_thirty.drop(['ivs_icn_cd', 'iqr_dt', 'zip_ctp_cd'], axis=1)\n",
    "df_bank_cus_copy = df_bank_cus_copy.reset_index().sort_values(by='cus_no')\n",
    "df_bank_cus_copy['count'] = count_lst\n",
    "df_bank_cus_copy = df_bank_cus_copy.set_index('cus_no')\n",
    "df_bank_cus_copy.head()"
   ]
  },
  {
   "cell_type": "code",
   "execution_count": 51,
   "metadata": {},
   "outputs": [],
   "source": [
    "from kmodes.kmodes import KModes"
   ]
  },
  {
   "cell_type": "code",
   "execution_count": null,
   "metadata": {},
   "outputs": [],
   "source": [
    "# Choosing K \n",
    "cost = []\n",
    "for clusters in list(range(1,10)):\n",
    "    modes = KModes(n_clusters=clusters, init = \"Random\", n_init=5, verbose=1)\n",
    "    modes.fit_predict(df_bank_cus_copy)\n",
    "    cost.append(modes.cost_)"
   ]
  },
  {
   "cell_type": "code",
   "execution_count": null,
   "metadata": {},
   "outputs": [],
   "source": [
    "graph = np.array([i for i in range (1,10,1)])\n",
    "plt.plot(graph, cost)"
   ]
  },
  {
   "cell_type": "code",
   "execution_count": null,
   "metadata": {},
   "outputs": [],
   "source": [
    "# KModes clustering ran 10 times with K=8\n",
    "km = KModes(n_clusters=8, init=\"Random\", n_init=10, verbose=1)\n",
    "fit_clusters = km.fit_predict(df_bank_cus_copy)\n"
   ]
  },
  {
   "cell_type": "code",
   "execution_count": null,
   "metadata": {},
   "outputs": [],
   "source": [
    "# Input the predicted group into original data\n",
    "df_bank_cus_copy['cluster'] = fit_clusters\n",
    "df_bank_cus_copy.head()"
   ]
  },
  {
   "cell_type": "code",
   "execution_count": null,
   "metadata": {},
   "outputs": [],
   "source": [
    "#cluster_0 top 5\n",
    "cluster_0 = df_bank_cus_copy[df_bank_cus_copy['cluster'] == 0].reset_index()\n",
    "table_0 = df_trd[(df_trd['iqr_dt'] == 20210701) & (df_trd['cus_no'].isin(cluster_0['cus_no']))].groupby('iem_krl_anm').count().sort_values(by='iqr_dt', ascending=False).head()\n",
    "table_0 = table_0.drop(columns =['iqr_dt', 'cus_no', 'act_no','mkt_gb','pdt_gb','iem_cd','tot_aet_amt'])\n",
    "table_0"
   ]
  },
  {
   "cell_type": "code",
   "execution_count": null,
   "metadata": {},
   "outputs": [],
   "source": [
    "#cluster_1 top 5\n",
    "cluster_1 = df_bank_cus_copy[df_bank_cus_copy['cluster'] == 1].reset_index()\n",
    "table_1 = df_trd[(df_trd['iqr_dt'] == 20210701) & (df_trd['cus_no'].isin(cluster_1['cus_no']))].groupby('iem_krl_anm').count().sort_values(by='iqr_dt', ascending=False).head()\n",
    "table_1 = table_1.drop(columns =['iqr_dt', 'cus_no', 'act_no','mkt_gb','pdt_gb','iem_cd','tot_aet_amt'])\n",
    "table_1"
   ]
  },
  {
   "cell_type": "code",
   "execution_count": null,
   "metadata": {},
   "outputs": [],
   "source": [
    "#cluster_2 top 5\n",
    "cluster_2 = df_bank_cus_copy[df_bank_cus_copy['cluster'] ==2].reset_index()\n",
    "df_trd[(df_trd['iqr_dt'] == 20210701) & (df_trd['cus_no'].isin(cluster_2['cus_no']))].groupby('iem_krl_anm').count().sort_values(by='iqr_dt', ascending=False).head()"
   ]
  },
  {
   "cell_type": "code",
   "execution_count": null,
   "metadata": {},
   "outputs": [],
   "source": [
    "#cluster_3 top 5\n",
    "cluster_3 = df_bank_cus_copy[df_bank_cus_copy['cluster'] == 3].reset_index()\n",
    "df_trd[(df_trd['iqr_dt'] == 20210701) & (df_trd['cus_no'].isin(cluster_3['cus_no']))].groupby('iem_krl_anm').count().sort_values(by='iqr_dt', ascending=False).head()"
   ]
  },
  {
   "cell_type": "code",
   "execution_count": null,
   "metadata": {},
   "outputs": [],
   "source": [
    "# cluster_4 top 5 \n",
    "cluster_4 = df_bank_cus_copy[df_bank_cus_copy['cluster'] == 4].reset_index()\n",
    "df_trd[(df_trd['iqr_dt'] == 20210701) & (df_trd['cus_no'].isin(cluster_4['cus_no']))].groupby('iem_krl_anm').count().sort_values(by='iqr_dt', ascending=False).head()"
   ]
  },
  {
   "cell_type": "code",
   "execution_count": 67,
   "metadata": {},
   "outputs": [],
   "source": [
    "# Naming cluster 5,6,7\n",
    "cluster_5 = df_bank_cus_copy[df_bank_cus_copy['cluster'] == 5].reset_index()\n",
    "cluster_6 = df_bank_cus_copy[df_bank_cus_copy['cluster'] == 6].reset_index()\n",
    "cluster_7 = df_bank_cus_copy[df_bank_cus_copy['cluster'] == 7].reset_index()"
   ]
  },
  {
   "cell_type": "code",
   "execution_count": null,
   "metadata": {},
   "outputs": [],
   "source": [
    "#Getting the mean val of all the columns to check each group's features\n",
    "df_used = df_bank_cus_copy.groupby('cluster').mean()\n",
    "df_ovs = (df_used['tot_aet_amt_ovs_etf'] + df_used['tot_aet_amt_ovs_stk'])/df_used['tot_aet_amt']\n",
    "df_used['ovs_ratio'] = df_ovs\n",
    "temp = df_used['count']\n",
    "df_used = df_used.drop(columns=['count'])\n",
    "df_used['count'] = temp\n",
    "df_used"
   ]
  }
 ],
 "metadata": {
  "kernelspec": {
   "display_name": "Python 3",
   "language": "python",
   "name": "python3"
  },
  "language_info": {
   "codemirror_mode": {
    "name": "ipython",
    "version": 3
   },
   "file_extension": ".py",
   "mimetype": "text/x-python",
   "name": "python",
   "nbconvert_exporter": "python",
   "pygments_lexer": "ipython3",
   "version": "3.6.10"
  }
 },
 "nbformat": 4,
 "nbformat_minor": 4
}
